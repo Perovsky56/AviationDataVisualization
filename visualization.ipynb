{
 "cells": [
  {
   "cell_type": "code",
   "execution_count": 2,
   "id": "ca75480a",
   "metadata": {},
   "outputs": [],
   "source": [
    "import numpy as np\n",
    "import pandas as pd\n",
    "import matplotlib.pyplot as plt\n",
    "import seaborn as sns\n",
    "import plotly.express as px\n",
    "import os\n",
    "#nbformat"
   ]
  },
  {
   "cell_type": "code",
   "execution_count": 3,
   "id": "dd09ca24",
   "metadata": {},
   "outputs": [],
   "source": [
    "base_dir = os.path.join(os.getcwd(), 'data')\n",
    "\n",
    "def load_csv(folder_name):\n",
    "    folder_path = os.path.join(base_dir, folder_name)\n",
    "    file_name = f\"{folder_name}.csv\"\n",
    "    file_path = os.path.join(folder_path, file_name)\n",
    "    if os.path.exists(file_path):\n",
    "        try:\n",
    "            return pd.read_csv(file_path, low_memory=False)\n",
    "        except Exception as e:\n",
    "            print(f\"Błąd podczas wczytywania pliku {file_name}: {e}\")\n",
    "            return None\n",
    "    else:\n",
    "        print(f\"Plik {file_name} nie istnieje w folderze {folder_name}\")\n",
    "        return None\n",
    "\n",
    "airport_traffic_df = load_csv('airport_traffic')\n",
    "taxi_in_df = load_csv('taxi_in_additional_time')\n",
    "taxi_out_df = load_csv('taxi_out_additional_time')\n",
    "horizontal_flight_efficiency_df = load_csv('horizontal_flight_efficiency')\n",
    "co2_emmissions_df = load_csv('co2_emmissions_by_state')"
   ]
  },
  {
   "cell_type": "code",
   "execution_count": 4,
   "id": "67d98663",
   "metadata": {},
   "outputs": [
    {
     "data": {
      "text/html": [
       "<div>\n",
       "<style scoped>\n",
       "    .dataframe tbody tr th:only-of-type {\n",
       "        vertical-align: middle;\n",
       "    }\n",
       "\n",
       "    .dataframe tbody tr th {\n",
       "        vertical-align: top;\n",
       "    }\n",
       "\n",
       "    .dataframe thead th {\n",
       "        text-align: right;\n",
       "    }\n",
       "</style>\n",
       "<table border=\"1\" class=\"dataframe\">\n",
       "  <thead>\n",
       "    <tr style=\"text-align: right;\">\n",
       "      <th></th>\n",
       "      <th>YEAR</th>\n",
       "      <th>MONTH_NUM</th>\n",
       "      <th>MONTH_MON</th>\n",
       "      <th>FLT_DATE</th>\n",
       "      <th>APT_ICAO</th>\n",
       "      <th>APT_NAME</th>\n",
       "      <th>STATE_NAME</th>\n",
       "      <th>FLT_DEP_1</th>\n",
       "      <th>FLT_ARR_1</th>\n",
       "      <th>FLT_TOT_1</th>\n",
       "      <th>FLT_DEP_IFR_2</th>\n",
       "      <th>FLT_ARR_IFR_2</th>\n",
       "      <th>FLT_TOT_IFR_2</th>\n",
       "    </tr>\n",
       "  </thead>\n",
       "  <tbody>\n",
       "    <tr>\n",
       "      <th>3064299</th>\n",
       "      <td>2025</td>\n",
       "      <td>04</td>\n",
       "      <td>APR</td>\n",
       "      <td>2025-04-30</td>\n",
       "      <td>EGNX</td>\n",
       "      <td>East Midlands</td>\n",
       "      <td>United Kingdom</td>\n",
       "      <td>77</td>\n",
       "      <td>84</td>\n",
       "      <td>161</td>\n",
       "      <td>NaN</td>\n",
       "      <td>NaN</td>\n",
       "      <td>NaN</td>\n",
       "    </tr>\n",
       "    <tr>\n",
       "      <th>3064300</th>\n",
       "      <td>2025</td>\n",
       "      <td>04</td>\n",
       "      <td>APR</td>\n",
       "      <td>2025-04-30</td>\n",
       "      <td>EGPD</td>\n",
       "      <td>Aberdeen</td>\n",
       "      <td>United Kingdom</td>\n",
       "      <td>61</td>\n",
       "      <td>61</td>\n",
       "      <td>122</td>\n",
       "      <td>NaN</td>\n",
       "      <td>NaN</td>\n",
       "      <td>NaN</td>\n",
       "    </tr>\n",
       "    <tr>\n",
       "      <th>3064301</th>\n",
       "      <td>2025</td>\n",
       "      <td>04</td>\n",
       "      <td>APR</td>\n",
       "      <td>2025-04-30</td>\n",
       "      <td>EGPF</td>\n",
       "      <td>Glasgow</td>\n",
       "      <td>United Kingdom</td>\n",
       "      <td>101</td>\n",
       "      <td>102</td>\n",
       "      <td>203</td>\n",
       "      <td>NaN</td>\n",
       "      <td>NaN</td>\n",
       "      <td>NaN</td>\n",
       "    </tr>\n",
       "    <tr>\n",
       "      <th>3064302</th>\n",
       "      <td>2025</td>\n",
       "      <td>04</td>\n",
       "      <td>APR</td>\n",
       "      <td>2025-04-30</td>\n",
       "      <td>EGPH</td>\n",
       "      <td>Edinburgh</td>\n",
       "      <td>United Kingdom</td>\n",
       "      <td>179</td>\n",
       "      <td>176</td>\n",
       "      <td>355</td>\n",
       "      <td>178</td>\n",
       "      <td>174</td>\n",
       "      <td>352</td>\n",
       "    </tr>\n",
       "    <tr>\n",
       "      <th>3064303</th>\n",
       "      <td>2025</td>\n",
       "      <td>04</td>\n",
       "      <td>APR</td>\n",
       "      <td>2025-04-30</td>\n",
       "      <td>EGSS</td>\n",
       "      <td>London - Stansted</td>\n",
       "      <td>United Kingdom</td>\n",
       "      <td>272</td>\n",
       "      <td>273</td>\n",
       "      <td>545</td>\n",
       "      <td>270</td>\n",
       "      <td>260</td>\n",
       "      <td>530</td>\n",
       "    </tr>\n",
       "  </tbody>\n",
       "</table>\n",
       "</div>"
      ],
      "text/plain": [
       "         YEAR MONTH_NUM MONTH_MON    FLT_DATE APT_ICAO           APT_NAME  \\\n",
       "3064299  2025        04       APR  2025-04-30     EGNX      East Midlands   \n",
       "3064300  2025        04       APR  2025-04-30     EGPD           Aberdeen   \n",
       "3064301  2025        04       APR  2025-04-30     EGPF            Glasgow   \n",
       "3064302  2025        04       APR  2025-04-30     EGPH          Edinburgh   \n",
       "3064303  2025        04       APR  2025-04-30     EGSS  London - Stansted   \n",
       "\n",
       "             STATE_NAME FLT_DEP_1 FLT_ARR_1 FLT_TOT_1 FLT_DEP_IFR_2  \\\n",
       "3064299  United Kingdom        77        84       161           NaN   \n",
       "3064300  United Kingdom        61        61       122           NaN   \n",
       "3064301  United Kingdom       101       102       203           NaN   \n",
       "3064302  United Kingdom       179       176       355           178   \n",
       "3064303  United Kingdom       272       273       545           270   \n",
       "\n",
       "        FLT_ARR_IFR_2 FLT_TOT_IFR_2  \n",
       "3064299           NaN           NaN  \n",
       "3064300           NaN           NaN  \n",
       "3064301           NaN           NaN  \n",
       "3064302           174           352  \n",
       "3064303           260           530  "
      ]
     },
     "execution_count": 4,
     "metadata": {},
     "output_type": "execute_result"
    }
   ],
   "source": [
    "airport_traffic_df.tail(5)"
   ]
  },
  {
   "cell_type": "code",
   "execution_count": 5,
   "id": "09e69890",
   "metadata": {},
   "outputs": [
    {
     "data": {
      "text/html": [
       "<div>\n",
       "<style scoped>\n",
       "    .dataframe tbody tr th:only-of-type {\n",
       "        vertical-align: middle;\n",
       "    }\n",
       "\n",
       "    .dataframe tbody tr th {\n",
       "        vertical-align: top;\n",
       "    }\n",
       "\n",
       "    .dataframe thead th {\n",
       "        text-align: right;\n",
       "    }\n",
       "</style>\n",
       "<table border=\"1\" class=\"dataframe\">\n",
       "  <thead>\n",
       "    <tr style=\"text-align: right;\">\n",
       "      <th></th>\n",
       "      <th>YEAR</th>\n",
       "      <th>MONTH_NUM</th>\n",
       "      <th>MONTH_MON</th>\n",
       "      <th>APT_ICAO</th>\n",
       "      <th>APT_NAME</th>\n",
       "      <th>STATE_NAME</th>\n",
       "      <th>TF</th>\n",
       "      <th>VALID_FL</th>\n",
       "      <th>NO_REF</th>\n",
       "      <th>TOTAL_REF_NB_FL</th>\n",
       "      <th>TOTAL_REF_TIME_MIN</th>\n",
       "      <th>TOTAL_ADD_TIME_MIN</th>\n",
       "      <th>COMMENT</th>\n",
       "    </tr>\n",
       "  </thead>\n",
       "  <tbody>\n",
       "    <tr>\n",
       "      <th>14018</th>\n",
       "      <td>2023</td>\n",
       "      <td>06</td>\n",
       "      <td>JUN</td>\n",
       "      <td>LOWW</td>\n",
       "      <td>Vienna</td>\n",
       "      <td>Austria</td>\n",
       "      <td>11097</td>\n",
       "      <td>11081</td>\n",
       "      <td>160</td>\n",
       "      <td>10921</td>\n",
       "      <td>48535.9</td>\n",
       "      <td>15236.1</td>\n",
       "      <td>NaN</td>\n",
       "    </tr>\n",
       "    <tr>\n",
       "      <th>22770</th>\n",
       "      <td>2024</td>\n",
       "      <td>03</td>\n",
       "      <td>MAR</td>\n",
       "      <td>EBCI</td>\n",
       "      <td>Charleroi</td>\n",
       "      <td>Belgium</td>\n",
       "      <td>3260</td>\n",
       "      <td>3258</td>\n",
       "      <td>7</td>\n",
       "      <td>3251</td>\n",
       "      <td>12551</td>\n",
       "      <td>1644</td>\n",
       "      <td>NaN</td>\n",
       "    </tr>\n",
       "    <tr>\n",
       "      <th>19530</th>\n",
       "      <td>2021</td>\n",
       "      <td>04</td>\n",
       "      <td>APR</td>\n",
       "      <td>ENZV</td>\n",
       "      <td>Stavanger</td>\n",
       "      <td>Norway</td>\n",
       "      <td>NaN</td>\n",
       "      <td>NaN</td>\n",
       "      <td>NaN</td>\n",
       "      <td>NaN</td>\n",
       "      <td>NaN</td>\n",
       "      <td>NaN</td>\n",
       "      <td>NO DATA RECEIVED</td>\n",
       "    </tr>\n",
       "    <tr>\n",
       "      <th>11542</th>\n",
       "      <td>2021</td>\n",
       "      <td>03</td>\n",
       "      <td>MAR</td>\n",
       "      <td>GCLP</td>\n",
       "      <td>Gran Canaria</td>\n",
       "      <td>Spain</td>\n",
       "      <td>2053</td>\n",
       "      <td>2053</td>\n",
       "      <td>180</td>\n",
       "      <td>1873</td>\n",
       "      <td>2211.6099999999988</td>\n",
       "      <td>1615.94</td>\n",
       "      <td>NaN</td>\n",
       "    </tr>\n",
       "    <tr>\n",
       "      <th>871</th>\n",
       "      <td>2018</td>\n",
       "      <td>10</td>\n",
       "      <td>OCT</td>\n",
       "      <td>EDDN</td>\n",
       "      <td>Nuremberg</td>\n",
       "      <td>Germany</td>\n",
       "      <td>3195</td>\n",
       "      <td>2748</td>\n",
       "      <td>82</td>\n",
       "      <td>2666</td>\n",
       "      <td>6730.528333333333</td>\n",
       "      <td>2384.8050000000003</td>\n",
       "      <td>NaN</td>\n",
       "    </tr>\n",
       "  </tbody>\n",
       "</table>\n",
       "</div>"
      ],
      "text/plain": [
       "       YEAR MONTH_NUM MONTH_MON APT_ICAO      APT_NAME STATE_NAME     TF  \\\n",
       "14018  2023        06       JUN     LOWW        Vienna    Austria  11097   \n",
       "22770  2024        03       MAR     EBCI     Charleroi    Belgium   3260   \n",
       "19530  2021        04       APR     ENZV     Stavanger     Norway    NaN   \n",
       "11542  2021        03       MAR     GCLP  Gran Canaria      Spain   2053   \n",
       "871    2018        10       OCT     EDDN     Nuremberg    Germany   3195   \n",
       "\n",
       "      VALID_FL NO_REF TOTAL_REF_NB_FL  TOTAL_REF_TIME_MIN  TOTAL_ADD_TIME_MIN  \\\n",
       "14018    11081    160           10921             48535.9             15236.1   \n",
       "22770     3258      7            3251               12551                1644   \n",
       "19530      NaN    NaN             NaN                 NaN                 NaN   \n",
       "11542     2053    180            1873  2211.6099999999988             1615.94   \n",
       "871       2748     82            2666   6730.528333333333  2384.8050000000003   \n",
       "\n",
       "                COMMENT  \n",
       "14018               NaN  \n",
       "22770               NaN  \n",
       "19530  NO DATA RECEIVED  \n",
       "11542               NaN  \n",
       "871                 NaN  "
      ]
     },
     "execution_count": 5,
     "metadata": {},
     "output_type": "execute_result"
    }
   ],
   "source": [
    "taxi_in_df.sample(5)"
   ]
  },
  {
   "cell_type": "code",
   "execution_count": 6,
   "id": "3a940310",
   "metadata": {},
   "outputs": [
    {
     "data": {
      "text/html": [
       "<div>\n",
       "<style scoped>\n",
       "    .dataframe tbody tr th:only-of-type {\n",
       "        vertical-align: middle;\n",
       "    }\n",
       "\n",
       "    .dataframe tbody tr th {\n",
       "        vertical-align: top;\n",
       "    }\n",
       "\n",
       "    .dataframe thead th {\n",
       "        text-align: right;\n",
       "    }\n",
       "</style>\n",
       "<table border=\"1\" class=\"dataframe\">\n",
       "  <thead>\n",
       "    <tr style=\"text-align: right;\">\n",
       "      <th></th>\n",
       "      <th>YEAR</th>\n",
       "      <th>MONTH_NUM</th>\n",
       "      <th>MONTH_MON</th>\n",
       "      <th>APT_ICAO</th>\n",
       "      <th>APT_NAME</th>\n",
       "      <th>STATE_NAME</th>\n",
       "      <th>TF</th>\n",
       "      <th>VALID_FL</th>\n",
       "      <th>NO_REF</th>\n",
       "      <th>TOTAL_REF_NB_FL</th>\n",
       "      <th>TOTAL_REF_TIME_MIN</th>\n",
       "      <th>TOTAL_ADD_TIME_MIN</th>\n",
       "      <th>COMMENT</th>\n",
       "    </tr>\n",
       "  </thead>\n",
       "  <tbody>\n",
       "    <tr>\n",
       "      <th>0</th>\n",
       "      <td>2018</td>\n",
       "      <td>01</td>\n",
       "      <td>JAN</td>\n",
       "      <td>LOWW</td>\n",
       "      <td>Vienna</td>\n",
       "      <td>Austria</td>\n",
       "      <td>8546</td>\n",
       "      <td>7841</td>\n",
       "      <td>366</td>\n",
       "      <td>7475</td>\n",
       "      <td>48963.5</td>\n",
       "      <td>18452.866666666698</td>\n",
       "      <td>NaN</td>\n",
       "    </tr>\n",
       "    <tr>\n",
       "      <th>1</th>\n",
       "      <td>2018</td>\n",
       "      <td>01</td>\n",
       "      <td>JAN</td>\n",
       "      <td>EBBR</td>\n",
       "      <td>Brussels</td>\n",
       "      <td>Belgium</td>\n",
       "      <td>8449</td>\n",
       "      <td>8410</td>\n",
       "      <td>360</td>\n",
       "      <td>8050</td>\n",
       "      <td>61529.5</td>\n",
       "      <td>22937.5</td>\n",
       "      <td>NaN</td>\n",
       "    </tr>\n",
       "    <tr>\n",
       "      <th>2</th>\n",
       "      <td>2018</td>\n",
       "      <td>01</td>\n",
       "      <td>JAN</td>\n",
       "      <td>EBCI</td>\n",
       "      <td>Charleroi</td>\n",
       "      <td>Belgium</td>\n",
       "      <td>2193</td>\n",
       "      <td>2184</td>\n",
       "      <td>36</td>\n",
       "      <td>2148</td>\n",
       "      <td>15858.4</td>\n",
       "      <td>4540.6</td>\n",
       "      <td>NaN</td>\n",
       "    </tr>\n",
       "    <tr>\n",
       "      <th>3</th>\n",
       "      <td>2018</td>\n",
       "      <td>01</td>\n",
       "      <td>JAN</td>\n",
       "      <td>LBSF</td>\n",
       "      <td>Sofia</td>\n",
       "      <td>Bulgaria</td>\n",
       "      <td>2223</td>\n",
       "      <td>1751</td>\n",
       "      <td>140</td>\n",
       "      <td>1611</td>\n",
       "      <td>14961</td>\n",
       "      <td>4211</td>\n",
       "      <td>NaN</td>\n",
       "    </tr>\n",
       "    <tr>\n",
       "      <th>4</th>\n",
       "      <td>2018</td>\n",
       "      <td>01</td>\n",
       "      <td>JAN</td>\n",
       "      <td>LDZA</td>\n",
       "      <td>Zagreb</td>\n",
       "      <td>Croatia</td>\n",
       "      <td>1518</td>\n",
       "      <td>1515</td>\n",
       "      <td>125</td>\n",
       "      <td>1390</td>\n",
       "      <td>9623.300000000001</td>\n",
       "      <td>3335.7000000000003</td>\n",
       "      <td>NaN</td>\n",
       "    </tr>\n",
       "  </tbody>\n",
       "</table>\n",
       "</div>"
      ],
      "text/plain": [
       "   YEAR MONTH_NUM MONTH_MON APT_ICAO   APT_NAME STATE_NAME    TF VALID_FL  \\\n",
       "0  2018        01       JAN     LOWW     Vienna    Austria  8546     7841   \n",
       "1  2018        01       JAN     EBBR   Brussels    Belgium  8449     8410   \n",
       "2  2018        01       JAN     EBCI  Charleroi    Belgium  2193     2184   \n",
       "3  2018        01       JAN     LBSF      Sofia   Bulgaria  2223     1751   \n",
       "4  2018        01       JAN     LDZA     Zagreb    Croatia  1518     1515   \n",
       "\n",
       "  NO_REF TOTAL_REF_NB_FL TOTAL_REF_TIME_MIN  TOTAL_ADD_TIME_MIN COMMENT  \n",
       "0    366            7475            48963.5  18452.866666666698     NaN  \n",
       "1    360            8050            61529.5             22937.5     NaN  \n",
       "2     36            2148            15858.4              4540.6     NaN  \n",
       "3    140            1611              14961                4211     NaN  \n",
       "4    125            1390  9623.300000000001  3335.7000000000003     NaN  "
      ]
     },
     "execution_count": 6,
     "metadata": {},
     "output_type": "execute_result"
    }
   ],
   "source": [
    "taxi_out_df.head(5)"
   ]
  },
  {
   "cell_type": "code",
   "execution_count": 7,
   "id": "64dc515a",
   "metadata": {},
   "outputs": [
    {
     "data": {
      "text/html": [
       "<div>\n",
       "<style scoped>\n",
       "    .dataframe tbody tr th:only-of-type {\n",
       "        vertical-align: middle;\n",
       "    }\n",
       "\n",
       "    .dataframe tbody tr th {\n",
       "        vertical-align: top;\n",
       "    }\n",
       "\n",
       "    .dataframe thead th {\n",
       "        text-align: right;\n",
       "    }\n",
       "</style>\n",
       "<table border=\"1\" class=\"dataframe\">\n",
       "  <thead>\n",
       "    <tr style=\"text-align: right;\">\n",
       "      <th></th>\n",
       "      <th>YEAR</th>\n",
       "      <th>MONTH_NUM</th>\n",
       "      <th>MONTH_MON</th>\n",
       "      <th>ENTRY_DATE</th>\n",
       "      <th>ENTITY_NAME</th>\n",
       "      <th>ENTITY_TYPE</th>\n",
       "      <th>TYPE_MODEL</th>\n",
       "      <th>DIST_FLOWN_KM</th>\n",
       "      <th>DIST_DIRECT_KM</th>\n",
       "      <th>DIST_ACHIEVED_KM</th>\n",
       "    </tr>\n",
       "  </thead>\n",
       "  <tbody>\n",
       "    <tr>\n",
       "      <th>0</th>\n",
       "      <td>2015</td>\n",
       "      <td>1</td>\n",
       "      <td>JAN</td>\n",
       "      <td>2015-01-01</td>\n",
       "      <td>Albania</td>\n",
       "      <td>State (FIR)</td>\n",
       "      <td>CPF</td>\n",
       "      <td>54860</td>\n",
       "      <td>54818.31</td>\n",
       "      <td>54243.46</td>\n",
       "    </tr>\n",
       "    <tr>\n",
       "      <th>1</th>\n",
       "      <td>2015</td>\n",
       "      <td>1</td>\n",
       "      <td>JAN</td>\n",
       "      <td>2015-01-01</td>\n",
       "      <td>Albania</td>\n",
       "      <td>State (FIR)</td>\n",
       "      <td>FTFM</td>\n",
       "      <td>57351</td>\n",
       "      <td>57203.44</td>\n",
       "      <td>56046.98</td>\n",
       "    </tr>\n",
       "    <tr>\n",
       "      <th>2</th>\n",
       "      <td>2015</td>\n",
       "      <td>1</td>\n",
       "      <td>JAN</td>\n",
       "      <td>2015-01-01</td>\n",
       "      <td>Armenia</td>\n",
       "      <td>State (FIR)</td>\n",
       "      <td>FTFM</td>\n",
       "      <td>12569</td>\n",
       "      <td>12480.85</td>\n",
       "      <td>12203.53</td>\n",
       "    </tr>\n",
       "    <tr>\n",
       "      <th>3</th>\n",
       "      <td>2015</td>\n",
       "      <td>1</td>\n",
       "      <td>JAN</td>\n",
       "      <td>2015-01-01</td>\n",
       "      <td>Austria</td>\n",
       "      <td>State (FIR)</td>\n",
       "      <td>CPF</td>\n",
       "      <td>276427</td>\n",
       "      <td>275679.17</td>\n",
       "      <td>271400</td>\n",
       "    </tr>\n",
       "    <tr>\n",
       "      <th>4</th>\n",
       "      <td>2015</td>\n",
       "      <td>1</td>\n",
       "      <td>JAN</td>\n",
       "      <td>2015-01-01</td>\n",
       "      <td>Austria</td>\n",
       "      <td>State (FIR)</td>\n",
       "      <td>FTFM</td>\n",
       "      <td>293622</td>\n",
       "      <td>289908.71</td>\n",
       "      <td>281492.61</td>\n",
       "    </tr>\n",
       "  </tbody>\n",
       "</table>\n",
       "</div>"
      ],
      "text/plain": [
       "   YEAR MONTH_NUM MONTH_MON  ENTRY_DATE ENTITY_NAME  ENTITY_TYPE TYPE_MODEL  \\\n",
       "0  2015         1       JAN  2015-01-01     Albania  State (FIR)        CPF   \n",
       "1  2015         1       JAN  2015-01-01     Albania  State (FIR)       FTFM   \n",
       "2  2015         1       JAN  2015-01-01     Armenia  State (FIR)       FTFM   \n",
       "3  2015         1       JAN  2015-01-01     Austria  State (FIR)        CPF   \n",
       "4  2015         1       JAN  2015-01-01     Austria  State (FIR)       FTFM   \n",
       "\n",
       "  DIST_FLOWN_KM DIST_DIRECT_KM DIST_ACHIEVED_KM  \n",
       "0         54860       54818.31         54243.46  \n",
       "1         57351       57203.44         56046.98  \n",
       "2         12569       12480.85         12203.53  \n",
       "3        276427      275679.17           271400  \n",
       "4        293622      289908.71        281492.61  "
      ]
     },
     "execution_count": 7,
     "metadata": {},
     "output_type": "execute_result"
    }
   ],
   "source": [
    "horizontal_flight_efficiency_df.head(5)"
   ]
  },
  {
   "cell_type": "code",
   "execution_count": 8,
   "id": "112e4337",
   "metadata": {},
   "outputs": [
    {
     "data": {
      "text/html": [
       "<div>\n",
       "<style scoped>\n",
       "    .dataframe tbody tr th:only-of-type {\n",
       "        vertical-align: middle;\n",
       "    }\n",
       "\n",
       "    .dataframe tbody tr th {\n",
       "        vertical-align: top;\n",
       "    }\n",
       "\n",
       "    .dataframe thead th {\n",
       "        text-align: right;\n",
       "    }\n",
       "</style>\n",
       "<table border=\"1\" class=\"dataframe\">\n",
       "  <thead>\n",
       "    <tr style=\"text-align: right;\">\n",
       "      <th></th>\n",
       "      <th>YEAR</th>\n",
       "      <th>MONTH</th>\n",
       "      <th>STATE_NAME</th>\n",
       "      <th>STATE_CODE</th>\n",
       "      <th>CO2_QTY_TONNES</th>\n",
       "      <th>TF</th>\n",
       "      <th>NOTE</th>\n",
       "      <th>Unnamed: 7</th>\n",
       "    </tr>\n",
       "  </thead>\n",
       "  <tbody>\n",
       "    <tr>\n",
       "      <th>13253</th>\n",
       "      <td>2021</td>\n",
       "      <td>2</td>\n",
       "      <td>KOSOVO</td>\n",
       "      <td>BK</td>\n",
       "      <td>5895.25965</td>\n",
       "      <td>445</td>\n",
       "      <td>FALSE</td>\n",
       "      <td>NaN</td>\n",
       "    </tr>\n",
       "    <tr>\n",
       "      <th>5042</th>\n",
       "      <td>2020</td>\n",
       "      <td>1</td>\n",
       "      <td>BELGIUM</td>\n",
       "      <td>EB</td>\n",
       "      <td>368320.597</td>\n",
       "      <td>12580</td>\n",
       "      <td>FALSE</td>\n",
       "      <td>NaN</td>\n",
       "    </tr>\n",
       "    <tr>\n",
       "      <th>17189</th>\n",
       "      <td>2013</td>\n",
       "      <td>7</td>\n",
       "      <td>PORTUGAL</td>\n",
       "      <td>LP</td>\n",
       "      <td>350361.47000000003</td>\n",
       "      <td>16194</td>\n",
       "      <td>TRUE</td>\n",
       "      <td>NaN</td>\n",
       "    </tr>\n",
       "    <tr>\n",
       "      <th>11849</th>\n",
       "      <td>2018</td>\n",
       "      <td>6</td>\n",
       "      <td>ARMENIA</td>\n",
       "      <td>UD</td>\n",
       "      <td>20914.59</td>\n",
       "      <td>1031</td>\n",
       "      <td>FALSE</td>\n",
       "      <td>NaN</td>\n",
       "    </tr>\n",
       "    <tr>\n",
       "      <th>11170</th>\n",
       "      <td>2017</td>\n",
       "      <td>2</td>\n",
       "      <td>DENMARK</td>\n",
       "      <td>EK</td>\n",
       "      <td>203729.25</td>\n",
       "      <td>12918</td>\n",
       "      <td>TRUE</td>\n",
       "      <td>NaN</td>\n",
       "    </tr>\n",
       "  </tbody>\n",
       "</table>\n",
       "</div>"
      ],
      "text/plain": [
       "       YEAR MONTH STATE_NAME STATE_CODE      CO2_QTY_TONNES     TF   NOTE  \\\n",
       "13253  2021     2     KOSOVO         BK          5895.25965    445  FALSE   \n",
       "5042   2020     1    BELGIUM         EB          368320.597  12580  FALSE   \n",
       "17189  2013     7   PORTUGAL         LP  350361.47000000003  16194   TRUE   \n",
       "11849  2018     6    ARMENIA         UD            20914.59   1031  FALSE   \n",
       "11170  2017     2    DENMARK         EK           203729.25  12918   TRUE   \n",
       "\n",
       "      Unnamed: 7  \n",
       "13253        NaN  \n",
       "5042         NaN  \n",
       "17189        NaN  \n",
       "11849        NaN  \n",
       "11170        NaN  "
      ]
     },
     "execution_count": 8,
     "metadata": {},
     "output_type": "execute_result"
    }
   ],
   "source": [
    "co2_emmissions_df.sample(5)"
   ]
  },
  {
   "cell_type": "code",
   "execution_count": 40,
   "id": "7b8068df",
   "metadata": {},
   "outputs": [
    {
     "data": {
      "application/vnd.plotly.v1+json": {
       "config": {
        "plotlyServerURL": "https://plot.ly"
       },
       "data": [
        {
         "customdata": [
          [
           81,
           "Albania"
          ],
          [
           109,
           "Armenia"
          ],
          [
           40,
           "Austria"
          ],
          [
           65,
           "Austria"
          ],
          [
           12,
           "Austria"
          ],
          [
           24,
           "Austria"
          ],
          [
           78,
           "Austria"
          ],
          [
           486,
           "Austria"
          ],
          [
           55,
           "Belgium"
          ],
          [
           458,
           "Belgium"
          ],
          [
           164,
           "Belgium"
          ],
          [
           142,
           "Belgium"
          ],
          [
           23,
           "Belgium"
          ],
          [
           33,
           "Bosnia and Herzegovina"
          ],
          [
           120,
           "Bulgaria"
          ],
          [
           118,
           "Croatia"
          ],
          [
           112,
           "Cyprus"
          ],
          [
           50,
           "Cyprus"
          ],
          [
           0,
           "Czech Republic"
          ],
          [
           18,
           "Czech Republic"
          ],
          [
           264,
           "Czech Republic"
          ],
          [
           20,
           "Czech Republic"
          ],
          [
           501,
           "Denmark"
          ],
          [
           102,
           "Estonia"
          ],
          [
           8,
           "Estonia"
          ],
          [
           335,
           "Finland"
          ],
          [
           24,
           "France"
          ],
          [
           4,
           "France"
          ],
          [
           126,
           "France"
          ],
          [
           6,
           "France"
          ],
          [
           15,
           "France"
          ],
          [
           17,
           "France"
          ],
          [
           26,
           "France"
          ],
          [
           224,
           "France"
          ],
          [
           22,
           "France"
          ],
          [
           18,
           "France"
          ],
          [
           23,
           "France"
          ],
          [
           6,
           "France"
          ],
          [
           23,
           "France"
          ],
          [
           6,
           "France"
          ],
          [
           10,
           "France"
          ],
          [
           32,
           "France"
          ],
          [
           7,
           "France"
          ],
          [
           8,
           "France"
          ],
          [
           34,
           "France"
          ],
          [
           54,
           "France"
          ],
          [
           36,
           "France"
          ],
          [
           11,
           "France"
          ],
          [
           221,
           "France"
          ],
          [
           15,
           "France"
          ],
          [
           20,
           "France"
          ],
          [
           7,
           "France"
          ],
          [
           41,
           "France"
          ],
          [
           50,
           "France"
          ],
          [
           4,
           "France"
          ],
          [
           17,
           "France"
          ],
          [
           9,
           "France"
          ],
          [
           248,
           "France"
          ],
          [
           295,
           "France"
          ],
          [
           39,
           "France"
          ],
          [
           83,
           "France"
          ],
          [
           8,
           "France"
          ],
          [
           24,
           "France"
          ],
          [
           86,
           "France"
          ],
          [
           6,
           "France"
          ],
          [
           2,
           "France"
          ],
          [
           8,
           "France"
          ],
          [
           13,
           "France"
          ],
          [
           167,
           "France"
          ],
          [
           986,
           "France"
          ],
          [
           57,
           "France"
          ],
          [
           564,
           "France"
          ],
          [
           49,
           "France"
          ],
          [
           48,
           "France"
          ],
          [
           6,
           "France"
          ],
          [
           2,
           "France"
          ],
          [
           21,
           "France"
          ],
          [
           22,
           "France"
          ],
          [
           8,
           "France"
          ],
          [
           40,
           "France"
          ],
          [
           2,
           "France"
          ],
          [
           6,
           "France"
          ],
          [
           115,
           "France"
          ],
          [
           12,
           "France"
          ],
          [
           172,
           "France"
          ],
          [
           10,
           "France"
          ],
          [
           32,
           "France"
          ],
          [
           24,
           "France"
          ],
          [
           18,
           "France"
          ],
          [
           87,
           "Georgia"
          ],
          [
           488,
           "Germany"
          ],
          [
           24,
           "Germany"
          ],
          [
           8,
           "Germany"
          ],
          [
           891,
           "Germany"
          ],
          [
           54,
           "Germany"
          ],
          [
           295,
           "Germany"
          ],
          [
           324,
           "Germany"
          ],
          [
           337,
           "Germany"
          ],
          [
           599,
           "Germany"
          ],
          [
           93,
           "Germany"
          ],
          [
           222,
           "Germany"
          ],
          [
           12,
           "Germany"
          ],
          [
           209,
           "Germany"
          ],
          [
           99,
           "Germany"
          ],
          [
           52,
           "Germany"
          ],
          [
           472,
           "Greece"
          ],
          [
           27,
           "Greece"
          ],
          [
           6,
           "Greece"
          ],
          [
           12,
           "Greece"
          ],
          [
           17,
           "Greece"
          ],
          [
           6,
           "Greece"
          ],
          [
           5,
           "Greece"
          ],
          [
           29,
           "Greece"
          ],
          [
           32,
           "Greece"
          ],
          [
           14,
           "Greece"
          ],
          [
           112,
           "Greece"
          ],
          [
           6,
           "Greece"
          ],
          [
           278,
           "Hungary"
          ],
          [
           42,
           "Ireland"
          ],
          [
           4,
           "Ireland"
          ],
          [
           532,
           "Ireland"
          ],
          [
           14,
           "Ireland"
          ],
          [
           11,
           "Ireland"
          ],
          [
           61,
           "Ireland"
          ],
          [
           6,
           "Ireland"
          ],
          [
           6,
           "Ireland"
          ],
          [
           237,
           "Israel"
          ],
          [
           58,
           "Italy"
          ],
          [
           164,
           "Italy"
          ],
          [
           141,
           "Italy"
          ],
          [
           491,
           "Italy"
          ],
          [
           252,
           "Italy"
          ],
          [
           110,
           "Italy"
          ],
          [
           262,
           "Italy"
          ],
          [
           179,
           "Italy"
          ],
          [
           50,
           "Italy"
          ],
          [
           158,
           "Italy"
          ],
          [
           100,
           "Italy"
          ],
          [
           463,
           "Italy"
          ],
          [
           174,
           "Italy"
          ],
          [
           104,
           "Italy"
          ],
          [
           8,
           "Latvia"
          ],
          [
           138,
           "Latvia"
          ],
          [
           33,
           "Lithuania"
          ],
          [
           7,
           "Lithuania"
          ],
          [
           7,
           "Lithuania"
          ],
          [
           88,
           "Lithuania"
          ],
          [
           189,
           "Luxembourg"
          ],
          [
           109,
           "Malta"
          ],
          [
           5,
           "Moldova"
          ],
          [
           22,
           "Montenegro"
          ],
          [
           30,
           "Morocco"
          ],
          [
           40,
           "Morocco"
          ],
          [
           28,
           "Morocco"
          ],
          [
           196,
           "Morocco"
          ],
          [
           98,
           "Morocco"
          ],
          [
           39,
           "Morocco"
          ],
          [
           1033,
           "Netherlands"
          ],
          [
           15,
           "Netherlands"
          ],
          [
           62,
           "Netherlands"
          ],
          [
           19,
           "Netherlands"
          ],
          [
           83,
           "Netherlands"
          ],
          [
           33,
           "Norway"
          ],
          [
           12,
           "Norway"
          ],
          [
           31,
           "Norway"
          ],
          [
           10,
           "Norway"
          ],
          [
           17,
           "Norway"
          ],
          [
           129,
           "Norway"
          ],
          [
           237,
           "Norway"
          ],
          [
           8,
           "Norway"
          ],
          [
           6,
           "Norway"
          ],
          [
           32,
           "Norway"
          ],
          [
           15,
           "Norway"
          ],
          [
           30,
           "Norway"
          ],
          [
           23,
           "Norway"
          ],
          [
           532,
           "Norway"
          ],
          [
           23,
           "Norway"
          ],
          [
           34,
           "Norway"
          ],
          [
           10,
           "Norway"
          ],
          [
           27,
           "Norway"
          ],
          [
           24,
           "Norway"
          ],
          [
           16,
           "Norway"
          ],
          [
           10,
           "Norway"
          ],
          [
           12,
           "Norway"
          ],
          [
           14,
           "Norway"
          ],
          [
           9,
           "Norway"
          ],
          [
           6,
           "Norway"
          ],
          [
           12,
           "Norway"
          ],
          [
           14,
           "Norway"
          ],
          [
           10,
           "Norway"
          ],
          [
           4,
           "Norway"
          ],
          [
           4,
           "Norway"
          ],
          [
           4,
           "Norway"
          ],
          [
           7,
           "Norway"
          ],
          [
           19,
           "Norway"
          ],
          [
           12,
           "Norway"
          ],
          [
           15,
           "Norway"
          ],
          [
           7,
           "Norway"
          ],
          [
           8,
           "Norway"
          ],
          [
           10,
           "Norway"
          ],
          [
           134,
           "Norway"
          ],
          [
           147,
           "Norway"
          ],
          [
           22,
           "Norway"
          ],
          [
           4,
           "Norway"
          ],
          [
           154,
           "Norway"
          ],
          [
           11,
           "Poland"
          ],
          [
           91,
           "Poland"
          ],
          [
           173,
           "Poland"
          ],
          [
           77,
           "Poland"
          ],
          [
           5,
           "Poland"
          ],
          [
           14,
           "Poland"
          ],
          [
           66,
           "Poland"
          ],
          [
           50,
           "Poland"
          ],
          [
           74,
           "Poland"
          ],
          [
           14,
           "Poland"
          ],
          [
           6,
           "Poland"
          ],
          [
           310,
           "Poland"
          ],
          [
           56,
           "Poland"
          ],
          [
           3,
           "Poland"
          ],
          [
           10,
           "Portugal"
          ],
          [
           21,
           "Portugal"
          ],
          [
           4,
           "Portugal"
          ],
          [
           91,
           "Portugal"
          ],
          [
           11,
           "Portugal"
          ],
          [
           55,
           "Portugal"
          ],
          [
           1,
           "Portugal"
          ],
          [
           45,
           "Portugal"
          ],
          [
           226,
           "Portugal"
          ],
          [
           6,
           "Portugal"
          ],
          [
           526,
           "Portugal"
          ],
          [
           40,
           "Republic of North Macedonia"
          ],
          [
           17,
           "Romania"
          ],
          [
           268,
           "Romania"
          ],
          [
           178,
           "Serbia"
          ],
          [
           50,
           "Slovakia"
          ],
          [
           45,
           "Slovenia"
          ],
          [
           7,
           "Slovenia"
          ],
          [
           5,
           "Slovenia"
          ],
          [
           128,
           "Spain"
          ],
          [
           6,
           "Spain"
          ],
          [
           16,
           "Spain"
          ],
          [
           54,
           "Spain"
          ],
          [
           336,
           "Spain"
          ],
          [
           163,
           "Spain"
          ],
          [
           221,
           "Spain"
          ],
          [
           199,
           "Spain"
          ],
          [
           12,
           "Spain"
          ],
          [
           23,
           "Spain"
          ],
          [
           172,
           "Spain"
          ],
          [
           13,
           "Spain"
          ],
          [
           27,
           "Spain"
          ],
          [
           2,
           "Spain"
          ],
          [
           104,
           "Spain"
          ],
          [
           5,
           "Spain"
          ],
          [
           693,
           "Spain"
          ],
          [
           8,
           "Spain"
          ],
          [
           23,
           "Spain"
          ],
          [
           11,
           "Spain"
          ],
          [
           24,
           "Spain"
          ],
          [
           20,
           "Spain"
          ],
          [
           20,
           "Spain"
          ],
          [
           8,
           "Spain"
          ],
          [
           98,
           "Spain"
          ],
          [
           41,
           "Spain"
          ],
          [
           4,
           "Spain"
          ],
          [
           3,
           "Spain"
          ],
          [
           886,
           "Spain"
          ],
          [
           334,
           "Spain"
          ],
          [
           51,
           "Spain"
          ],
          [
           9,
           "Spain"
          ],
          [
           20,
           "Spain"
          ],
          [
           347,
           "Spain"
          ],
          [
           10,
           "Spain"
          ],
          [
           11,
           "Spain"
          ],
          [
           10,
           "Spain"
          ],
          [
           8,
           "Spain"
          ],
          [
           2,
           "Spain"
          ],
          [
           9,
           "Spain"
          ],
          [
           57,
           "Spain"
          ],
          [
           7,
           "Spain"
          ],
          [
           170,
           "Spain"
          ],
          [
           13,
           "Spain"
          ],
          [
           40,
           "Spain"
          ],
          [
           29,
           "Spain"
          ],
          [
           30,
           "Spain"
          ],
          [
           27,
           "Spain"
          ],
          [
           162,
           "Spain"
          ],
          [
           122,
           "Sweden"
          ],
          [
           387,
           "Sweden"
          ],
          [
           73,
           "Sweden"
          ],
          [
           477,
           "Switzerland"
          ],
          [
           24,
           "Switzerland"
          ],
          [
           503,
           "Switzerland"
          ],
          [
           174,
           "Türkiye"
          ],
          [
           217,
           "Türkiye"
          ],
          [
           48,
           "Türkiye"
          ],
          [
           147,
           "Türkiye"
          ],
          [
           541,
           "Türkiye"
          ],
          [
           1047,
           "Türkiye"
          ],
          [
           124,
           "United Kingdom"
          ],
          [
           51,
           "United Kingdom"
          ],
          [
           10,
           "United Kingdom"
          ],
          [
           184,
           "United Kingdom"
          ],
          [
           379,
           "United Kingdom"
          ],
          [
           146,
           "United Kingdom"
          ],
          [
           284,
           "United Kingdom"
          ],
          [
           59,
           "United Kingdom"
          ],
          [
           76,
           "United Kingdom"
          ],
          [
           387,
           "United Kingdom"
          ],
          [
           114,
           "United Kingdom"
          ],
          [
           97,
           "United Kingdom"
          ],
          [
           894,
           "United Kingdom"
          ],
          [
           68,
           "United Kingdom"
          ],
          [
           189,
           "United Kingdom"
          ],
          [
           104,
           "United Kingdom"
          ],
          [
           154,
           "United Kingdom"
          ],
          [
           240,
           "United Kingdom"
          ],
          [
           454,
           "United Kingdom"
          ],
          [
           81,
           "Albania"
          ],
          [
           109,
           "Armenia"
          ],
          [
           40,
           "Austria"
          ],
          [
           65,
           "Austria"
          ],
          [
           12,
           "Austria"
          ],
          [
           24,
           "Austria"
          ],
          [
           78,
           "Austria"
          ],
          [
           486,
           "Austria"
          ],
          [
           55,
           "Belgium"
          ],
          [
           458,
           "Belgium"
          ],
          [
           164,
           "Belgium"
          ],
          [
           142,
           "Belgium"
          ],
          [
           23,
           "Belgium"
          ],
          [
           33,
           "Bosnia and Herzegovina"
          ],
          [
           120,
           "Bulgaria"
          ],
          [
           118,
           "Croatia"
          ],
          [
           112,
           "Cyprus"
          ],
          [
           50,
           "Cyprus"
          ],
          [
           0,
           "Czech Republic"
          ],
          [
           18,
           "Czech Republic"
          ],
          [
           264,
           "Czech Republic"
          ],
          [
           20,
           "Czech Republic"
          ],
          [
           501,
           "Denmark"
          ],
          [
           102,
           "Estonia"
          ],
          [
           8,
           "Estonia"
          ],
          [
           335,
           "Finland"
          ],
          [
           24,
           "France"
          ],
          [
           4,
           "France"
          ],
          [
           126,
           "France"
          ],
          [
           6,
           "France"
          ],
          [
           15,
           "France"
          ],
          [
           17,
           "France"
          ],
          [
           26,
           "France"
          ],
          [
           224,
           "France"
          ],
          [
           22,
           "France"
          ],
          [
           18,
           "France"
          ],
          [
           23,
           "France"
          ],
          [
           6,
           "France"
          ],
          [
           23,
           "France"
          ],
          [
           6,
           "France"
          ],
          [
           10,
           "France"
          ],
          [
           32,
           "France"
          ],
          [
           7,
           "France"
          ],
          [
           8,
           "France"
          ],
          [
           34,
           "France"
          ],
          [
           54,
           "France"
          ],
          [
           36,
           "France"
          ],
          [
           11,
           "France"
          ],
          [
           221,
           "France"
          ],
          [
           15,
           "France"
          ],
          [
           20,
           "France"
          ],
          [
           7,
           "France"
          ],
          [
           41,
           "France"
          ],
          [
           50,
           "France"
          ],
          [
           4,
           "France"
          ],
          [
           17,
           "France"
          ],
          [
           9,
           "France"
          ],
          [
           248,
           "France"
          ],
          [
           295,
           "France"
          ],
          [
           39,
           "France"
          ],
          [
           83,
           "France"
          ],
          [
           8,
           "France"
          ],
          [
           24,
           "France"
          ],
          [
           86,
           "France"
          ],
          [
           6,
           "France"
          ],
          [
           2,
           "France"
          ],
          [
           8,
           "France"
          ],
          [
           13,
           "France"
          ],
          [
           167,
           "France"
          ],
          [
           986,
           "France"
          ],
          [
           57,
           "France"
          ],
          [
           564,
           "France"
          ],
          [
           49,
           "France"
          ],
          [
           48,
           "France"
          ],
          [
           6,
           "France"
          ],
          [
           2,
           "France"
          ],
          [
           21,
           "France"
          ],
          [
           22,
           "France"
          ],
          [
           8,
           "France"
          ],
          [
           40,
           "France"
          ],
          [
           2,
           "France"
          ],
          [
           6,
           "France"
          ],
          [
           115,
           "France"
          ],
          [
           12,
           "France"
          ],
          [
           172,
           "France"
          ],
          [
           10,
           "France"
          ],
          [
           32,
           "France"
          ],
          [
           24,
           "France"
          ],
          [
           18,
           "France"
          ],
          [
           87,
           "Georgia"
          ],
          [
           488,
           "Germany"
          ],
          [
           24,
           "Germany"
          ],
          [
           8,
           "Germany"
          ],
          [
           891,
           "Germany"
          ],
          [
           54,
           "Germany"
          ],
          [
           295,
           "Germany"
          ],
          [
           324,
           "Germany"
          ],
          [
           337,
           "Germany"
          ],
          [
           599,
           "Germany"
          ],
          [
           93,
           "Germany"
          ],
          [
           222,
           "Germany"
          ],
          [
           12,
           "Germany"
          ],
          [
           209,
           "Germany"
          ],
          [
           99,
           "Germany"
          ],
          [
           52,
           "Germany"
          ],
          [
           472,
           "Greece"
          ],
          [
           27,
           "Greece"
          ],
          [
           6,
           "Greece"
          ],
          [
           12,
           "Greece"
          ],
          [
           17,
           "Greece"
          ],
          [
           6,
           "Greece"
          ],
          [
           5,
           "Greece"
          ],
          [
           29,
           "Greece"
          ],
          [
           32,
           "Greece"
          ],
          [
           14,
           "Greece"
          ],
          [
           112,
           "Greece"
          ],
          [
           6,
           "Greece"
          ],
          [
           278,
           "Hungary"
          ],
          [
           42,
           "Ireland"
          ],
          [
           4,
           "Ireland"
          ],
          [
           532,
           "Ireland"
          ],
          [
           14,
           "Ireland"
          ],
          [
           11,
           "Ireland"
          ],
          [
           61,
           "Ireland"
          ],
          [
           6,
           "Ireland"
          ],
          [
           6,
           "Ireland"
          ],
          [
           237,
           "Israel"
          ],
          [
           58,
           "Italy"
          ],
          [
           164,
           "Italy"
          ],
          [
           141,
           "Italy"
          ],
          [
           491,
           "Italy"
          ],
          [
           252,
           "Italy"
          ],
          [
           110,
           "Italy"
          ],
          [
           262,
           "Italy"
          ],
          [
           179,
           "Italy"
          ],
          [
           50,
           "Italy"
          ],
          [
           158,
           "Italy"
          ],
          [
           100,
           "Italy"
          ],
          [
           463,
           "Italy"
          ],
          [
           174,
           "Italy"
          ],
          [
           104,
           "Italy"
          ],
          [
           8,
           "Latvia"
          ],
          [
           138,
           "Latvia"
          ],
          [
           33,
           "Lithuania"
          ],
          [
           7,
           "Lithuania"
          ],
          [
           7,
           "Lithuania"
          ],
          [
           88,
           "Lithuania"
          ],
          [
           189,
           "Luxembourg"
          ],
          [
           109,
           "Malta"
          ],
          [
           5,
           "Moldova"
          ],
          [
           22,
           "Montenegro"
          ],
          [
           30,
           "Morocco"
          ],
          [
           40,
           "Morocco"
          ],
          [
           28,
           "Morocco"
          ],
          [
           196,
           "Morocco"
          ],
          [
           98,
           "Morocco"
          ],
          [
           39,
           "Morocco"
          ],
          [
           1033,
           "Netherlands"
          ],
          [
           15,
           "Netherlands"
          ],
          [
           62,
           "Netherlands"
          ],
          [
           19,
           "Netherlands"
          ],
          [
           83,
           "Netherlands"
          ],
          [
           33,
           "Norway"
          ],
          [
           12,
           "Norway"
          ],
          [
           31,
           "Norway"
          ],
          [
           10,
           "Norway"
          ],
          [
           17,
           "Norway"
          ],
          [
           129,
           "Norway"
          ],
          [
           237,
           "Norway"
          ],
          [
           8,
           "Norway"
          ],
          [
           6,
           "Norway"
          ],
          [
           32,
           "Norway"
          ],
          [
           15,
           "Norway"
          ],
          [
           30,
           "Norway"
          ],
          [
           23,
           "Norway"
          ],
          [
           532,
           "Norway"
          ],
          [
           23,
           "Norway"
          ],
          [
           34,
           "Norway"
          ],
          [
           10,
           "Norway"
          ],
          [
           27,
           "Norway"
          ],
          [
           24,
           "Norway"
          ],
          [
           16,
           "Norway"
          ],
          [
           10,
           "Norway"
          ],
          [
           12,
           "Norway"
          ],
          [
           14,
           "Norway"
          ],
          [
           9,
           "Norway"
          ],
          [
           6,
           "Norway"
          ],
          [
           12,
           "Norway"
          ],
          [
           14,
           "Norway"
          ],
          [
           10,
           "Norway"
          ],
          [
           4,
           "Norway"
          ],
          [
           4,
           "Norway"
          ],
          [
           4,
           "Norway"
          ],
          [
           7,
           "Norway"
          ],
          [
           19,
           "Norway"
          ],
          [
           12,
           "Norway"
          ],
          [
           15,
           "Norway"
          ],
          [
           7,
           "Norway"
          ],
          [
           8,
           "Norway"
          ],
          [
           10,
           "Norway"
          ],
          [
           134,
           "Norway"
          ],
          [
           147,
           "Norway"
          ],
          [
           22,
           "Norway"
          ],
          [
           4,
           "Norway"
          ],
          [
           154,
           "Norway"
          ],
          [
           11,
           "Poland"
          ],
          [
           91,
           "Poland"
          ],
          [
           173,
           "Poland"
          ],
          [
           77,
           "Poland"
          ],
          [
           5,
           "Poland"
          ],
          [
           14,
           "Poland"
          ],
          [
           66,
           "Poland"
          ],
          [
           50,
           "Poland"
          ],
          [
           74,
           "Poland"
          ],
          [
           14,
           "Poland"
          ],
          [
           6,
           "Poland"
          ],
          [
           310,
           "Poland"
          ],
          [
           56,
           "Poland"
          ],
          [
           3,
           "Poland"
          ],
          [
           10,
           "Portugal"
          ],
          [
           21,
           "Portugal"
          ],
          [
           4,
           "Portugal"
          ],
          [
           91,
           "Portugal"
          ],
          [
           11,
           "Portugal"
          ],
          [
           55,
           "Portugal"
          ],
          [
           1,
           "Portugal"
          ],
          [
           45,
           "Portugal"
          ],
          [
           226,
           "Portugal"
          ],
          [
           6,
           "Portugal"
          ],
          [
           526,
           "Portugal"
          ],
          [
           40,
           "Republic of North Macedonia"
          ],
          [
           17,
           "Romania"
          ],
          [
           268,
           "Romania"
          ],
          [
           178,
           "Serbia"
          ],
          [
           50,
           "Slovakia"
          ],
          [
           45,
           "Slovenia"
          ],
          [
           7,
           "Slovenia"
          ],
          [
           5,
           "Slovenia"
          ],
          [
           128,
           "Spain"
          ],
          [
           6,
           "Spain"
          ],
          [
           16,
           "Spain"
          ],
          [
           54,
           "Spain"
          ],
          [
           336,
           "Spain"
          ],
          [
           163,
           "Spain"
          ],
          [
           221,
           "Spain"
          ],
          [
           199,
           "Spain"
          ],
          [
           12,
           "Spain"
          ],
          [
           23,
           "Spain"
          ],
          [
           172,
           "Spain"
          ],
          [
           13,
           "Spain"
          ],
          [
           27,
           "Spain"
          ],
          [
           2,
           "Spain"
          ],
          [
           104,
           "Spain"
          ],
          [
           5,
           "Spain"
          ],
          [
           693,
           "Spain"
          ],
          [
           8,
           "Spain"
          ],
          [
           23,
           "Spain"
          ],
          [
           11,
           "Spain"
          ],
          [
           24,
           "Spain"
          ],
          [
           20,
           "Spain"
          ],
          [
           20,
           "Spain"
          ],
          [
           8,
           "Spain"
          ],
          [
           98,
           "Spain"
          ],
          [
           41,
           "Spain"
          ],
          [
           4,
           "Spain"
          ],
          [
           3,
           "Spain"
          ],
          [
           886,
           "Spain"
          ],
          [
           334,
           "Spain"
          ],
          [
           51,
           "Spain"
          ],
          [
           9,
           "Spain"
          ],
          [
           20,
           "Spain"
          ],
          [
           347,
           "Spain"
          ],
          [
           10,
           "Spain"
          ],
          [
           11,
           "Spain"
          ],
          [
           10,
           "Spain"
          ],
          [
           8,
           "Spain"
          ],
          [
           2,
           "Spain"
          ],
          [
           9,
           "Spain"
          ],
          [
           57,
           "Spain"
          ],
          [
           7,
           "Spain"
          ],
          [
           170,
           "Spain"
          ],
          [
           13,
           "Spain"
          ],
          [
           40,
           "Spain"
          ],
          [
           29,
           "Spain"
          ],
          [
           30,
           "Spain"
          ],
          [
           27,
           "Spain"
          ],
          [
           162,
           "Spain"
          ],
          [
           122,
           "Sweden"
          ],
          [
           387,
           "Sweden"
          ],
          [
           73,
           "Sweden"
          ],
          [
           477,
           "Switzerland"
          ],
          [
           24,
           "Switzerland"
          ],
          [
           503,
           "Switzerland"
          ],
          [
           174,
           "Türkiye"
          ],
          [
           217,
           "Türkiye"
          ],
          [
           48,
           "Türkiye"
          ],
          [
           147,
           "Türkiye"
          ],
          [
           541,
           "Türkiye"
          ],
          [
           1047,
           "Türkiye"
          ],
          [
           124,
           "United Kingdom"
          ],
          [
           51,
           "United Kingdom"
          ],
          [
           10,
           "United Kingdom"
          ],
          [
           184,
           "United Kingdom"
          ],
          [
           379,
           "United Kingdom"
          ],
          [
           146,
           "United Kingdom"
          ],
          [
           284,
           "United Kingdom"
          ],
          [
           59,
           "United Kingdom"
          ],
          [
           76,
           "United Kingdom"
          ],
          [
           387,
           "United Kingdom"
          ],
          [
           114,
           "United Kingdom"
          ],
          [
           97,
           "United Kingdom"
          ],
          [
           894,
           "United Kingdom"
          ],
          [
           68,
           "United Kingdom"
          ],
          [
           189,
           "United Kingdom"
          ],
          [
           104,
           "United Kingdom"
          ],
          [
           154,
           "United Kingdom"
          ],
          [
           240,
           "United Kingdom"
          ],
          [
           454,
           "United Kingdom"
          ],
          [
           81,
           "Albania"
          ],
          [
           109,
           "Armenia"
          ],
          [
           40,
           "Austria"
          ],
          [
           65,
           "Austria"
          ],
          [
           12,
           "Austria"
          ],
          [
           24,
           "Austria"
          ],
          [
           78,
           "Austria"
          ],
          [
           486,
           "Austria"
          ],
          [
           55,
           "Belgium"
          ],
          [
           458,
           "Belgium"
          ],
          [
           164,
           "Belgium"
          ],
          [
           142,
           "Belgium"
          ],
          [
           23,
           "Belgium"
          ],
          [
           33,
           "Bosnia and Herzegovina"
          ],
          [
           120,
           "Bulgaria"
          ],
          [
           118,
           "Croatia"
          ],
          [
           112,
           "Cyprus"
          ],
          [
           50,
           "Cyprus"
          ],
          [
           0,
           "Czech Republic"
          ],
          [
           18,
           "Czech Republic"
          ],
          [
           264,
           "Czech Republic"
          ],
          [
           20,
           "Czech Republic"
          ],
          [
           501,
           "Denmark"
          ],
          [
           102,
           "Estonia"
          ],
          [
           8,
           "Estonia"
          ],
          [
           335,
           "Finland"
          ],
          [
           24,
           "France"
          ],
          [
           4,
           "France"
          ],
          [
           126,
           "France"
          ],
          [
           6,
           "France"
          ],
          [
           15,
           "France"
          ],
          [
           17,
           "France"
          ],
          [
           26,
           "France"
          ],
          [
           224,
           "France"
          ],
          [
           22,
           "France"
          ],
          [
           18,
           "France"
          ],
          [
           23,
           "France"
          ],
          [
           6,
           "France"
          ],
          [
           23,
           "France"
          ],
          [
           6,
           "France"
          ],
          [
           10,
           "France"
          ],
          [
           32,
           "France"
          ],
          [
           7,
           "France"
          ],
          [
           8,
           "France"
          ],
          [
           34,
           "France"
          ],
          [
           54,
           "France"
          ],
          [
           36,
           "France"
          ],
          [
           11,
           "France"
          ],
          [
           221,
           "France"
          ],
          [
           15,
           "France"
          ],
          [
           20,
           "France"
          ],
          [
           7,
           "France"
          ],
          [
           41,
           "France"
          ],
          [
           50,
           "France"
          ],
          [
           4,
           "France"
          ],
          [
           17,
           "France"
          ],
          [
           9,
           "France"
          ],
          [
           248,
           "France"
          ],
          [
           295,
           "France"
          ],
          [
           39,
           "France"
          ],
          [
           83,
           "France"
          ],
          [
           8,
           "France"
          ],
          [
           24,
           "France"
          ],
          [
           86,
           "France"
          ],
          [
           6,
           "France"
          ],
          [
           2,
           "France"
          ],
          [
           8,
           "France"
          ],
          [
           13,
           "France"
          ],
          [
           167,
           "France"
          ],
          [
           986,
           "France"
          ],
          [
           57,
           "France"
          ],
          [
           564,
           "France"
          ],
          [
           49,
           "France"
          ],
          [
           48,
           "France"
          ],
          [
           6,
           "France"
          ],
          [
           2,
           "France"
          ],
          [
           21,
           "France"
          ],
          [
           22,
           "France"
          ],
          [
           8,
           "France"
          ],
          [
           40,
           "France"
          ],
          [
           2,
           "France"
          ],
          [
           6,
           "France"
          ],
          [
           115,
           "France"
          ],
          [
           12,
           "France"
          ],
          [
           172,
           "France"
          ],
          [
           10,
           "France"
          ],
          [
           32,
           "France"
          ],
          [
           24,
           "France"
          ],
          [
           18,
           "France"
          ],
          [
           87,
           "Georgia"
          ],
          [
           488,
           "Germany"
          ],
          [
           24,
           "Germany"
          ],
          [
           8,
           "Germany"
          ],
          [
           891,
           "Germany"
          ],
          [
           54,
           "Germany"
          ],
          [
           295,
           "Germany"
          ],
          [
           324,
           "Germany"
          ],
          [
           337,
           "Germany"
          ],
          [
           599,
           "Germany"
          ],
          [
           93,
           "Germany"
          ],
          [
           222,
           "Germany"
          ],
          [
           12,
           "Germany"
          ],
          [
           209,
           "Germany"
          ],
          [
           99,
           "Germany"
          ],
          [
           52,
           "Germany"
          ],
          [
           472,
           "Greece"
          ],
          [
           27,
           "Greece"
          ],
          [
           6,
           "Greece"
          ],
          [
           12,
           "Greece"
          ],
          [
           17,
           "Greece"
          ],
          [
           6,
           "Greece"
          ],
          [
           5,
           "Greece"
          ],
          [
           29,
           "Greece"
          ],
          [
           32,
           "Greece"
          ],
          [
           14,
           "Greece"
          ],
          [
           112,
           "Greece"
          ],
          [
           6,
           "Greece"
          ],
          [
           278,
           "Hungary"
          ],
          [
           42,
           "Ireland"
          ],
          [
           4,
           "Ireland"
          ],
          [
           532,
           "Ireland"
          ],
          [
           14,
           "Ireland"
          ],
          [
           11,
           "Ireland"
          ],
          [
           61,
           "Ireland"
          ],
          [
           6,
           "Ireland"
          ],
          [
           6,
           "Ireland"
          ],
          [
           237,
           "Israel"
          ],
          [
           58,
           "Italy"
          ],
          [
           164,
           "Italy"
          ],
          [
           141,
           "Italy"
          ],
          [
           491,
           "Italy"
          ],
          [
           252,
           "Italy"
          ],
          [
           110,
           "Italy"
          ],
          [
           262,
           "Italy"
          ],
          [
           179,
           "Italy"
          ],
          [
           50,
           "Italy"
          ],
          [
           158,
           "Italy"
          ],
          [
           100,
           "Italy"
          ],
          [
           463,
           "Italy"
          ],
          [
           174,
           "Italy"
          ],
          [
           104,
           "Italy"
          ],
          [
           8,
           "Latvia"
          ],
          [
           138,
           "Latvia"
          ],
          [
           33,
           "Lithuania"
          ],
          [
           7,
           "Lithuania"
          ],
          [
           7,
           "Lithuania"
          ],
          [
           88,
           "Lithuania"
          ],
          [
           189,
           "Luxembourg"
          ],
          [
           109,
           "Malta"
          ],
          [
           5,
           "Moldova"
          ],
          [
           22,
           "Montenegro"
          ],
          [
           30,
           "Morocco"
          ],
          [
           40,
           "Morocco"
          ],
          [
           28,
           "Morocco"
          ],
          [
           196,
           "Morocco"
          ],
          [
           98,
           "Morocco"
          ],
          [
           39,
           "Morocco"
          ],
          [
           1033,
           "Netherlands"
          ],
          [
           15,
           "Netherlands"
          ],
          [
           62,
           "Netherlands"
          ],
          [
           19,
           "Netherlands"
          ],
          [
           83,
           "Netherlands"
          ],
          [
           33,
           "Norway"
          ],
          [
           12,
           "Norway"
          ],
          [
           31,
           "Norway"
          ],
          [
           10,
           "Norway"
          ],
          [
           17,
           "Norway"
          ],
          [
           129,
           "Norway"
          ],
          [
           237,
           "Norway"
          ],
          [
           8,
           "Norway"
          ],
          [
           6,
           "Norway"
          ],
          [
           32,
           "Norway"
          ],
          [
           15,
           "Norway"
          ],
          [
           30,
           "Norway"
          ],
          [
           23,
           "Norway"
          ],
          [
           532,
           "Norway"
          ],
          [
           23,
           "Norway"
          ],
          [
           34,
           "Norway"
          ],
          [
           10,
           "Norway"
          ],
          [
           27,
           "Norway"
          ],
          [
           24,
           "Norway"
          ],
          [
           16,
           "Norway"
          ],
          [
           10,
           "Norway"
          ],
          [
           12,
           "Norway"
          ],
          [
           14,
           "Norway"
          ],
          [
           9,
           "Norway"
          ],
          [
           6,
           "Norway"
          ],
          [
           12,
           "Norway"
          ],
          [
           14,
           "Norway"
          ],
          [
           10,
           "Norway"
          ],
          [
           4,
           "Norway"
          ],
          [
           4,
           "Norway"
          ],
          [
           4,
           "Norway"
          ],
          [
           7,
           "Norway"
          ],
          [
           19,
           "Norway"
          ],
          [
           12,
           "Norway"
          ],
          [
           15,
           "Norway"
          ],
          [
           7,
           "Norway"
          ],
          [
           8,
           "Norway"
          ],
          [
           10,
           "Norway"
          ],
          [
           134,
           "Norway"
          ],
          [
           147,
           "Norway"
          ],
          [
           22,
           "Norway"
          ],
          [
           4,
           "Norway"
          ],
          [
           154,
           "Norway"
          ],
          [
           11,
           "Poland"
          ],
          [
           91,
           "Poland"
          ],
          [
           173,
           "Poland"
          ],
          [
           77,
           "Poland"
          ],
          [
           5,
           "Poland"
          ],
          [
           14,
           "Poland"
          ],
          [
           66,
           "Poland"
          ],
          [
           50,
           "Poland"
          ],
          [
           74,
           "Poland"
          ],
          [
           14,
           "Poland"
          ],
          [
           6,
           "Poland"
          ],
          [
           310,
           "Poland"
          ],
          [
           56,
           "Poland"
          ],
          [
           3,
           "Poland"
          ],
          [
           10,
           "Portugal"
          ],
          [
           21,
           "Portugal"
          ],
          [
           4,
           "Portugal"
          ],
          [
           91,
           "Portugal"
          ],
          [
           11,
           "Portugal"
          ],
          [
           55,
           "Portugal"
          ],
          [
           1,
           "Portugal"
          ],
          [
           45,
           "Portugal"
          ],
          [
           226,
           "Portugal"
          ],
          [
           6,
           "Portugal"
          ],
          [
           526,
           "Portugal"
          ],
          [
           40,
           "Republic of North Macedonia"
          ],
          [
           17,
           "Romania"
          ],
          [
           268,
           "Romania"
          ],
          [
           178,
           "Serbia"
          ],
          [
           50,
           "Slovakia"
          ],
          [
           45,
           "Slovenia"
          ],
          [
           7,
           "Slovenia"
          ],
          [
           5,
           "Slovenia"
          ],
          [
           128,
           "Spain"
          ],
          [
           6,
           "Spain"
          ],
          [
           16,
           "Spain"
          ],
          [
           54,
           "Spain"
          ],
          [
           336,
           "Spain"
          ],
          [
           163,
           "Spain"
          ],
          [
           221,
           "Spain"
          ],
          [
           199,
           "Spain"
          ],
          [
           12,
           "Spain"
          ],
          [
           23,
           "Spain"
          ],
          [
           172,
           "Spain"
          ],
          [
           13,
           "Spain"
          ],
          [
           27,
           "Spain"
          ],
          [
           2,
           "Spain"
          ],
          [
           104,
           "Spain"
          ],
          [
           5,
           "Spain"
          ],
          [
           693,
           "Spain"
          ],
          [
           8,
           "Spain"
          ],
          [
           23,
           "Spain"
          ],
          [
           11,
           "Spain"
          ],
          [
           24,
           "Spain"
          ],
          [
           20,
           "Spain"
          ],
          [
           20,
           "Spain"
          ],
          [
           8,
           "Spain"
          ],
          [
           98,
           "Spain"
          ],
          [
           41,
           "Spain"
          ],
          [
           4,
           "Spain"
          ],
          [
           3,
           "Spain"
          ],
          [
           886,
           "Spain"
          ],
          [
           334,
           "Spain"
          ],
          [
           51,
           "Spain"
          ],
          [
           9,
           "Spain"
          ],
          [
           20,
           "Spain"
          ],
          [
           347,
           "Spain"
          ],
          [
           10,
           "Spain"
          ],
          [
           11,
           "Spain"
          ],
          [
           10,
           "Spain"
          ],
          [
           8,
           "Spain"
          ],
          [
           2,
           "Spain"
          ],
          [
           9,
           "Spain"
          ],
          [
           57,
           "Spain"
          ],
          [
           7,
           "Spain"
          ],
          [
           170,
           "Spain"
          ],
          [
           13,
           "Spain"
          ],
          [
           40,
           "Spain"
          ],
          [
           29,
           "Spain"
          ],
          [
           30,
           "Spain"
          ],
          [
           27,
           "Spain"
          ],
          [
           162,
           "Spain"
          ],
          [
           122,
           "Sweden"
          ],
          [
           387,
           "Sweden"
          ],
          [
           73,
           "Sweden"
          ],
          [
           477,
           "Switzerland"
          ],
          [
           24,
           "Switzerland"
          ],
          [
           503,
           "Switzerland"
          ],
          [
           174,
           "Türkiye"
          ],
          [
           217,
           "Türkiye"
          ],
          [
           48,
           "Türkiye"
          ],
          [
           147,
           "Türkiye"
          ],
          [
           541,
           "Türkiye"
          ],
          [
           1047,
           "Türkiye"
          ],
          [
           124,
           "United Kingdom"
          ],
          [
           51,
           "United Kingdom"
          ],
          [
           10,
           "United Kingdom"
          ],
          [
           184,
           "United Kingdom"
          ],
          [
           379,
           "United Kingdom"
          ],
          [
           146,
           "United Kingdom"
          ],
          [
           284,
           "United Kingdom"
          ],
          [
           59,
           "United Kingdom"
          ],
          [
           76,
           "United Kingdom"
          ],
          [
           387,
           "United Kingdom"
          ],
          [
           114,
           "United Kingdom"
          ],
          [
           97,
           "United Kingdom"
          ],
          [
           894,
           "United Kingdom"
          ],
          [
           68,
           "United Kingdom"
          ],
          [
           189,
           "United Kingdom"
          ],
          [
           104,
           "United Kingdom"
          ],
          [
           154,
           "United Kingdom"
          ],
          [
           240,
           "United Kingdom"
          ],
          [
           454,
           "United Kingdom"
          ]
         ],
         "geo": "geo",
         "hovertemplate": "<b>%{hovertext}</b><br><br>LICZBA LOTÓW=%{marker.color}<br>SZER. GEOGRAFICZNA=%{lat}<br>DŁ. GEOGRAFICZNA=%{lon}<br>KRAJ=%{customdata[1]}<extra></extra>",
         "hovertext": [
          "Tirana",
          "Yerevan",
          "Graz",
          "Innsbruck",
          "Klagenfurt",
          "Linz",
          "Salzburg",
          "Vienna",
          "Antwerp",
          "Brussels",
          "Charleroi",
          "Liège",
          "Ostend-Bruges",
          "Sarajevo",
          "Sofia",
          "Zagreb",
          "Larnaca",
          "Paphos",
          "Karlovy Vary",
          "Ostrava",
          "Prague",
          "Brno-Tuřany",
          "Copenhagen - Kastrup",
          "Tallinn",
          "Tartu",
          "Helsinki - Vantaa",
          "Albert-Bray",
          "Agen-La Garenne",
          "Bordeaux-Mérignac",
          "Bergerac-Roumanière",
          "La Rochelle-Ile de Ré",
          "Poitiers-Biard",
          "Limoges-Bellegarde",
          "Toulouse-Blagnac",
          "Pau-Pyrénées",
          "Tarbes-Lourdes Pyrénées",
          "Biarritz-Bayonne-Anglet",
          "Rodez-Marcillac",
          "Dôle-Tavaux",
          "Metz-Nancy-Lorraine",
          "Angers-Marcé",
          "Bastia-Poretta",
          "Calvi-Sainte-Catherine",
          "Figari-Sud Corse",
          "Ajaccio-Napoléon-Bonaparte",
          "Chambéry-Aix-les-Bains",
          "Clermont-Ferrand-Auvergne",
          "Annemasse",
          "Lyon-Saint-Exupéry",
          "Annecy-Meythet",
          "Grenoble-Isère",
          "Châteauroux-Déols",
          "Lyon-Bron",
          "Cannes-Mandelieu",
          "Saint-Etienne-Bouthéon",
          "Istres-Le Tubé",
          "Carcassonne-Salvaza",
          "Marseille-Provence",
          "Nice-Côte d’Azur",
          "Perpignan-Rivesaltes",
          "Montpellier-Méditerranée",
          "Béziers-Vias",
          "Avignon-Caumont",
          "Beauvais-Tillé",
          "Le Havre-Octeville",
          "Châlons-Vatry",
          "Rouen",
          "Tours-Val de Loire",
          "Paris-Le Bourget",
          "Paris-Charles-de-Gaulle",
          "Toussus-le-Noble",
          "Paris-Orly",
          "Lille-Lesquin",
          "Brest-Bretagne",
          "Dinard-Pleurtuit-Saint-Malo",
          "Deauville-Normandie",
          "Lorient-Lann Bihoué",
          "Caen-Carpiquet",
          "Le Mans",
          "Rennes-Saint-Jacques",
          "Lannion",
          "Quimper-Pluguffan",
          "Nantes-Atlantique",
          "Saint-Nazaire-Montoir",
          "Bâle-Mulhouse",
          "Brive-Souillac",
          "Strasbourg-Entzheim",
          "Hyères-Le Palyvestre",
          "Nîmes-Garons",
          "Tbilisi",
          "Berlin - Brandenburg",
          "Dresden",
          "Erfurt",
          "Frankfurt",
          "Muenster-Osnabrueck",
          "Hamburg",
          "Cologne-Bonn",
          "Dusseldorf",
          "Munich",
          "Nuremberg",
          "Leipzig-Halle",
          "Saarbruecken",
          "Stuttgart",
          "Hanover",
          "Bremen",
          "Athens",
          "Heraklion",
          "Kefallinia",
          "Kos",
          "Corfu",
          "Mikonos",
          "Aktion",
          "Rodos",
          "Khania - Souda",
          "Santorini",
          "Thessaloniki",
          "Zakinthos",
          "Budapest - Ferihegy",
          "Cork",
          "Donegal",
          "Dublin",
          "Connaught",
          "Kerry - Farranfore",
          "Shannon",
          "Waterford",
          "Weston",
          "Tel Aviv - Ben Gurion International",
          "Brindisi",
          "Catania",
          "Palermo Falcone-Borsellino",
          "Milan - Malpensa",
          "Bergamo",
          "Torino Caselle",
          "Milan - Linate",
          "Bologna",
          "Treviso",
          "Venice",
          "Rome - Ciampino",
          "Rome - Fiumicino",
          "Naples",
          "Pisa San Giusto",
          "Liepaja",
          "Riga",
          "Kaunas",
          "Palanga",
          "Siauliai",
          "Vilnius",
          "Luxembourg",
          "Malta",
          "Chișinău",
          "Podgorica",
          "Al Massira",
          "Saïss",
          "Rabat-Salé",
          "Mohammed V International",
          "Menara",
          "Ibn Batouta",
          "Amsterdam - Schiphol",
          "Maastricht-Aachen",
          "Groningen",
          "Lelystad",
          "Rotterdam",
          "Alesund",
          "Andenes",
          "Alta",
          "Forde Bringeland",
          "Bronnoysund Bronnoy",
          "Bodø",
          "Bergen",
          "Batsfjord",
          "Berlevåg",
          "Kristiansand Kjevik",
          "Bardufoss",
          "Harstad - Narvik Evenes",
          "Florø",
          "Oslo - Gardermoen",
          "Haugesund",
          "Hammerfest",
          "Honningsvåg Valan",
          "Kristiansund Kvernberget",
          "Kirkenes Høybuktmoen",
          "Leknes",
          "Mehamn",
          "Molde Årø",
          "Mosjøen Kjærstad",
          "Lakselv Banak",
          "Namsos Høknesøra",
          "Orsta¿Volda Hovden",
          "Mo i Rana Røssvoll",
          "Rorvik Ryum",
          "Roros",
          "Rost",
          "Svalbard Longyear",
          "Sandane  Anda",
          "Sogndal Haukåsen",
          "Svolvær Helle",
          "Stokmarknes Skagen",
          "Sorkjosen",
          "Vardø Svartnes",
          "Sandnessjøen Stokka",
          "Tromsø",
          "Trondheim",
          "Vadsø",
          "Værøy",
          "Stavanger",
          "Bydgoszcz",
          "Gdansk",
          "Krakow - Balice",
          "Katowice - Pyrzowice",
          "Lublin",
          "Lodz - Lublinek",
          "Warszawa - Modlin",
          "Poznan - Lawica",
          "Rzeszow - Jasionka",
          "Szczecin - Goleniów",
          "Olsztyn-Mazury",
          "Warszawa - Chopina",
          "Wroclaw - Strachowice",
          "Zielona Gora - Babimost",
          "Santa Maria",
          "Cascais",
          "Flores",
          "Faro",
          "Horta",
          "Madeira",
          "Montijo",
          "Ponta Delgada",
          "Porto",
          "Porto Santo",
          "Lisbon",
          "Skopje",
          "Bucharest - Băneasa",
          "Bucharest - Otopeni",
          "Belgrade - Nikola Tesla",
          "Bratislava",
          "Ljubljana",
          "Maribor",
          "Portorož",
          "Fuerteventura",
          "La Gomera",
          "Hierro",
          "La Palma",
          "Gran Canaria",
          "Lanzarote",
          "Tenerife Sur - Reina Sofia",
          "Tenerife North",
          "Melilla",
          "Albacete",
          "Alicante",
          "Almeria",
          "Asturias",
          "Cordoba",
          "Bilbao",
          "Burgos",
          "Barcelona",
          "Badajoz",
          "La Coruna",
          "Madrid - Cuatro Viento",
          "Lleida - Alguaire",
          "Gerona",
          "Granada",
          "Madrid - Getafe",
          "Ibiza",
          "Jerez De La Frontera",
          "Sabadell",
          "Leon",
          "Madrid - Barajas",
          "Málaga",
          "Mahon",
          "Región de Murcia International Airport",
          "Seville - Moron",
          "Palma de Mallorca",
          "Noain Pamplona",
          "Reus",
          "Rota",
          "Salamanca Matalan",
          "Son Bonet",
          "San Sebastian",
          "Santiago",
          "Madrid - Torrejon",
          "Valencia",
          "Valladolid",
          "Vitoria",
          "Vigo",
          "Santander",
          "Zaragoza",
          "Sevilla",
          "Göteborg",
          "Stockholm - Arlanda",
          "Stockholm - Bromma",
          "Geneva",
          "Sion",
          "Zürich",
          "Ankara - Esenboğa",
          "Antalya",
          "Istanbul Atatürk",
          "Izmir - Adnan Menderes",
          "Istanbul Sabiha Gökçen",
          "iGA Istanbul Airport",
          "Belfast - Aldergrove",
          "Belfast - City Airport",
          "Londonderry - Eglinton",
          "Birmingham",
          "Manchester",
          "Bristol",
          "London - Luton",
          "Southampton",
          "Biggin Hill",
          "London - Gatwick",
          "London - City",
          "Farnborough",
          "London - Heathrow",
          "Newcastle",
          "East Midlands",
          "Aberdeen",
          "Glasgow",
          "Edinburgh",
          "London - Stansted",
          "Tirana",
          "Yerevan",
          "Graz",
          "Innsbruck",
          "Klagenfurt",
          "Linz",
          "Salzburg",
          "Vienna",
          "Antwerp",
          "Brussels",
          "Charleroi",
          "Liège",
          "Ostend-Bruges",
          "Sarajevo",
          "Sofia",
          "Zagreb",
          "Larnaca",
          "Paphos",
          "Karlovy Vary",
          "Ostrava",
          "Prague",
          "Brno-Tuřany",
          "Copenhagen - Kastrup",
          "Tallinn",
          "Tartu",
          "Helsinki - Vantaa",
          "Albert-Bray",
          "Agen-La Garenne",
          "Bordeaux-Mérignac",
          "Bergerac-Roumanière",
          "La Rochelle-Ile de Ré",
          "Poitiers-Biard",
          "Limoges-Bellegarde",
          "Toulouse-Blagnac",
          "Pau-Pyrénées",
          "Tarbes-Lourdes Pyrénées",
          "Biarritz-Bayonne-Anglet",
          "Rodez-Marcillac",
          "Dôle-Tavaux",
          "Metz-Nancy-Lorraine",
          "Angers-Marcé",
          "Bastia-Poretta",
          "Calvi-Sainte-Catherine",
          "Figari-Sud Corse",
          "Ajaccio-Napoléon-Bonaparte",
          "Chambéry-Aix-les-Bains",
          "Clermont-Ferrand-Auvergne",
          "Annemasse",
          "Lyon-Saint-Exupéry",
          "Annecy-Meythet",
          "Grenoble-Isère",
          "Châteauroux-Déols",
          "Lyon-Bron",
          "Cannes-Mandelieu",
          "Saint-Etienne-Bouthéon",
          "Istres-Le Tubé",
          "Carcassonne-Salvaza",
          "Marseille-Provence",
          "Nice-Côte d’Azur",
          "Perpignan-Rivesaltes",
          "Montpellier-Méditerranée",
          "Béziers-Vias",
          "Avignon-Caumont",
          "Beauvais-Tillé",
          "Le Havre-Octeville",
          "Châlons-Vatry",
          "Rouen",
          "Tours-Val de Loire",
          "Paris-Le Bourget",
          "Paris-Charles-de-Gaulle",
          "Toussus-le-Noble",
          "Paris-Orly",
          "Lille-Lesquin",
          "Brest-Bretagne",
          "Dinard-Pleurtuit-Saint-Malo",
          "Deauville-Normandie",
          "Lorient-Lann Bihoué",
          "Caen-Carpiquet",
          "Le Mans",
          "Rennes-Saint-Jacques",
          "Lannion",
          "Quimper-Pluguffan",
          "Nantes-Atlantique",
          "Saint-Nazaire-Montoir",
          "Bâle-Mulhouse",
          "Brive-Souillac",
          "Strasbourg-Entzheim",
          "Hyères-Le Palyvestre",
          "Nîmes-Garons",
          "Tbilisi",
          "Berlin - Brandenburg",
          "Dresden",
          "Erfurt",
          "Frankfurt",
          "Muenster-Osnabrueck",
          "Hamburg",
          "Cologne-Bonn",
          "Dusseldorf",
          "Munich",
          "Nuremberg",
          "Leipzig-Halle",
          "Saarbruecken",
          "Stuttgart",
          "Hanover",
          "Bremen",
          "Athens",
          "Heraklion",
          "Kefallinia",
          "Kos",
          "Corfu",
          "Mikonos",
          "Aktion",
          "Rodos",
          "Khania - Souda",
          "Santorini",
          "Thessaloniki",
          "Zakinthos",
          "Budapest - Ferihegy",
          "Cork",
          "Donegal",
          "Dublin",
          "Connaught",
          "Kerry - Farranfore",
          "Shannon",
          "Waterford",
          "Weston",
          "Tel Aviv - Ben Gurion International",
          "Brindisi",
          "Catania",
          "Palermo Falcone-Borsellino",
          "Milan - Malpensa",
          "Bergamo",
          "Torino Caselle",
          "Milan - Linate",
          "Bologna",
          "Treviso",
          "Venice",
          "Rome - Ciampino",
          "Rome - Fiumicino",
          "Naples",
          "Pisa San Giusto",
          "Liepaja",
          "Riga",
          "Kaunas",
          "Palanga",
          "Siauliai",
          "Vilnius",
          "Luxembourg",
          "Malta",
          "Chișinău",
          "Podgorica",
          "Al Massira",
          "Saïss",
          "Rabat-Salé",
          "Mohammed V International",
          "Menara",
          "Ibn Batouta",
          "Amsterdam - Schiphol",
          "Maastricht-Aachen",
          "Groningen",
          "Lelystad",
          "Rotterdam",
          "Alesund",
          "Andenes",
          "Alta",
          "Forde Bringeland",
          "Bronnoysund Bronnoy",
          "Bodø",
          "Bergen",
          "Batsfjord",
          "Berlevåg",
          "Kristiansand Kjevik",
          "Bardufoss",
          "Harstad - Narvik Evenes",
          "Florø",
          "Oslo - Gardermoen",
          "Haugesund",
          "Hammerfest",
          "Honningsvåg Valan",
          "Kristiansund Kvernberget",
          "Kirkenes Høybuktmoen",
          "Leknes",
          "Mehamn",
          "Molde Årø",
          "Mosjøen Kjærstad",
          "Lakselv Banak",
          "Namsos Høknesøra",
          "Orsta¿Volda Hovden",
          "Mo i Rana Røssvoll",
          "Rorvik Ryum",
          "Roros",
          "Rost",
          "Svalbard Longyear",
          "Sandane  Anda",
          "Sogndal Haukåsen",
          "Svolvær Helle",
          "Stokmarknes Skagen",
          "Sorkjosen",
          "Vardø Svartnes",
          "Sandnessjøen Stokka",
          "Tromsø",
          "Trondheim",
          "Vadsø",
          "Værøy",
          "Stavanger",
          "Bydgoszcz",
          "Gdansk",
          "Krakow - Balice",
          "Katowice - Pyrzowice",
          "Lublin",
          "Lodz - Lublinek",
          "Warszawa - Modlin",
          "Poznan - Lawica",
          "Rzeszow - Jasionka",
          "Szczecin - Goleniów",
          "Olsztyn-Mazury",
          "Warszawa - Chopina",
          "Wroclaw - Strachowice",
          "Zielona Gora - Babimost",
          "Santa Maria",
          "Cascais",
          "Flores",
          "Faro",
          "Horta",
          "Madeira",
          "Montijo",
          "Ponta Delgada",
          "Porto",
          "Porto Santo",
          "Lisbon",
          "Skopje",
          "Bucharest - Băneasa",
          "Bucharest - Otopeni",
          "Belgrade - Nikola Tesla",
          "Bratislava",
          "Ljubljana",
          "Maribor",
          "Portorož",
          "Fuerteventura",
          "La Gomera",
          "Hierro",
          "La Palma",
          "Gran Canaria",
          "Lanzarote",
          "Tenerife Sur - Reina Sofia",
          "Tenerife North",
          "Melilla",
          "Albacete",
          "Alicante",
          "Almeria",
          "Asturias",
          "Cordoba",
          "Bilbao",
          "Burgos",
          "Barcelona",
          "Badajoz",
          "La Coruna",
          "Madrid - Cuatro Viento",
          "Lleida - Alguaire",
          "Gerona",
          "Granada",
          "Madrid - Getafe",
          "Ibiza",
          "Jerez De La Frontera",
          "Sabadell",
          "Leon",
          "Madrid - Barajas",
          "Málaga",
          "Mahon",
          "Región de Murcia International Airport",
          "Seville - Moron",
          "Palma de Mallorca",
          "Noain Pamplona",
          "Reus",
          "Rota",
          "Salamanca Matalan",
          "Son Bonet",
          "San Sebastian",
          "Santiago",
          "Madrid - Torrejon",
          "Valencia",
          "Valladolid",
          "Vitoria",
          "Vigo",
          "Santander",
          "Zaragoza",
          "Sevilla",
          "Göteborg",
          "Stockholm - Arlanda",
          "Stockholm - Bromma",
          "Geneva",
          "Sion",
          "Zürich",
          "Ankara - Esenboğa",
          "Antalya",
          "Istanbul Atatürk",
          "Izmir - Adnan Menderes",
          "Istanbul Sabiha Gökçen",
          "iGA Istanbul Airport",
          "Belfast - Aldergrove",
          "Belfast - City Airport",
          "Londonderry - Eglinton",
          "Birmingham",
          "Manchester",
          "Bristol",
          "London - Luton",
          "Southampton",
          "Biggin Hill",
          "London - Gatwick",
          "London - City",
          "Farnborough",
          "London - Heathrow",
          "Newcastle",
          "East Midlands",
          "Aberdeen",
          "Glasgow",
          "Edinburgh",
          "London - Stansted",
          "Tirana",
          "Yerevan",
          "Graz",
          "Innsbruck",
          "Klagenfurt",
          "Linz",
          "Salzburg",
          "Vienna",
          "Antwerp",
          "Brussels",
          "Charleroi",
          "Liège",
          "Ostend-Bruges",
          "Sarajevo",
          "Sofia",
          "Zagreb",
          "Larnaca",
          "Paphos",
          "Karlovy Vary",
          "Ostrava",
          "Prague",
          "Brno-Tuřany",
          "Copenhagen - Kastrup",
          "Tallinn",
          "Tartu",
          "Helsinki - Vantaa",
          "Albert-Bray",
          "Agen-La Garenne",
          "Bordeaux-Mérignac",
          "Bergerac-Roumanière",
          "La Rochelle-Ile de Ré",
          "Poitiers-Biard",
          "Limoges-Bellegarde",
          "Toulouse-Blagnac",
          "Pau-Pyrénées",
          "Tarbes-Lourdes Pyrénées",
          "Biarritz-Bayonne-Anglet",
          "Rodez-Marcillac",
          "Dôle-Tavaux",
          "Metz-Nancy-Lorraine",
          "Angers-Marcé",
          "Bastia-Poretta",
          "Calvi-Sainte-Catherine",
          "Figari-Sud Corse",
          "Ajaccio-Napoléon-Bonaparte",
          "Chambéry-Aix-les-Bains",
          "Clermont-Ferrand-Auvergne",
          "Annemasse",
          "Lyon-Saint-Exupéry",
          "Annecy-Meythet",
          "Grenoble-Isère",
          "Châteauroux-Déols",
          "Lyon-Bron",
          "Cannes-Mandelieu",
          "Saint-Etienne-Bouthéon",
          "Istres-Le Tubé",
          "Carcassonne-Salvaza",
          "Marseille-Provence",
          "Nice-Côte d’Azur",
          "Perpignan-Rivesaltes",
          "Montpellier-Méditerranée",
          "Béziers-Vias",
          "Avignon-Caumont",
          "Beauvais-Tillé",
          "Le Havre-Octeville",
          "Châlons-Vatry",
          "Rouen",
          "Tours-Val de Loire",
          "Paris-Le Bourget",
          "Paris-Charles-de-Gaulle",
          "Toussus-le-Noble",
          "Paris-Orly",
          "Lille-Lesquin",
          "Brest-Bretagne",
          "Dinard-Pleurtuit-Saint-Malo",
          "Deauville-Normandie",
          "Lorient-Lann Bihoué",
          "Caen-Carpiquet",
          "Le Mans",
          "Rennes-Saint-Jacques",
          "Lannion",
          "Quimper-Pluguffan",
          "Nantes-Atlantique",
          "Saint-Nazaire-Montoir",
          "Bâle-Mulhouse",
          "Brive-Souillac",
          "Strasbourg-Entzheim",
          "Hyères-Le Palyvestre",
          "Nîmes-Garons",
          "Tbilisi",
          "Berlin - Brandenburg",
          "Dresden",
          "Erfurt",
          "Frankfurt",
          "Muenster-Osnabrueck",
          "Hamburg",
          "Cologne-Bonn",
          "Dusseldorf",
          "Munich",
          "Nuremberg",
          "Leipzig-Halle",
          "Saarbruecken",
          "Stuttgart",
          "Hanover",
          "Bremen",
          "Athens",
          "Heraklion",
          "Kefallinia",
          "Kos",
          "Corfu",
          "Mikonos",
          "Aktion",
          "Rodos",
          "Khania - Souda",
          "Santorini",
          "Thessaloniki",
          "Zakinthos",
          "Budapest - Ferihegy",
          "Cork",
          "Donegal",
          "Dublin",
          "Connaught",
          "Kerry - Farranfore",
          "Shannon",
          "Waterford",
          "Weston",
          "Tel Aviv - Ben Gurion International",
          "Brindisi",
          "Catania",
          "Palermo Falcone-Borsellino",
          "Milan - Malpensa",
          "Bergamo",
          "Torino Caselle",
          "Milan - Linate",
          "Bologna",
          "Treviso",
          "Venice",
          "Rome - Ciampino",
          "Rome - Fiumicino",
          "Naples",
          "Pisa San Giusto",
          "Liepaja",
          "Riga",
          "Kaunas",
          "Palanga",
          "Siauliai",
          "Vilnius",
          "Luxembourg",
          "Malta",
          "Chișinău",
          "Podgorica",
          "Al Massira",
          "Saïss",
          "Rabat-Salé",
          "Mohammed V International",
          "Menara",
          "Ibn Batouta",
          "Amsterdam - Schiphol",
          "Maastricht-Aachen",
          "Groningen",
          "Lelystad",
          "Rotterdam",
          "Alesund",
          "Andenes",
          "Alta",
          "Forde Bringeland",
          "Bronnoysund Bronnoy",
          "Bodø",
          "Bergen",
          "Batsfjord",
          "Berlevåg",
          "Kristiansand Kjevik",
          "Bardufoss",
          "Harstad - Narvik Evenes",
          "Florø",
          "Oslo - Gardermoen",
          "Haugesund",
          "Hammerfest",
          "Honningsvåg Valan",
          "Kristiansund Kvernberget",
          "Kirkenes Høybuktmoen",
          "Leknes",
          "Mehamn",
          "Molde Årø",
          "Mosjøen Kjærstad",
          "Lakselv Banak",
          "Namsos Høknesøra",
          "Orsta¿Volda Hovden",
          "Mo i Rana Røssvoll",
          "Rorvik Ryum",
          "Roros",
          "Rost",
          "Svalbard Longyear",
          "Sandane  Anda",
          "Sogndal Haukåsen",
          "Svolvær Helle",
          "Stokmarknes Skagen",
          "Sorkjosen",
          "Vardø Svartnes",
          "Sandnessjøen Stokka",
          "Tromsø",
          "Trondheim",
          "Vadsø",
          "Værøy",
          "Stavanger",
          "Bydgoszcz",
          "Gdansk",
          "Krakow - Balice",
          "Katowice - Pyrzowice",
          "Lublin",
          "Lodz - Lublinek",
          "Warszawa - Modlin",
          "Poznan - Lawica",
          "Rzeszow - Jasionka",
          "Szczecin - Goleniów",
          "Olsztyn-Mazury",
          "Warszawa - Chopina",
          "Wroclaw - Strachowice",
          "Zielona Gora - Babimost",
          "Santa Maria",
          "Cascais",
          "Flores",
          "Faro",
          "Horta",
          "Madeira",
          "Montijo",
          "Ponta Delgada",
          "Porto",
          "Porto Santo",
          "Lisbon",
          "Skopje",
          "Bucharest - Băneasa",
          "Bucharest - Otopeni",
          "Belgrade - Nikola Tesla",
          "Bratislava",
          "Ljubljana",
          "Maribor",
          "Portorož",
          "Fuerteventura",
          "La Gomera",
          "Hierro",
          "La Palma",
          "Gran Canaria",
          "Lanzarote",
          "Tenerife Sur - Reina Sofia",
          "Tenerife North",
          "Melilla",
          "Albacete",
          "Alicante",
          "Almeria",
          "Asturias",
          "Cordoba",
          "Bilbao",
          "Burgos",
          "Barcelona",
          "Badajoz",
          "La Coruna",
          "Madrid - Cuatro Viento",
          "Lleida - Alguaire",
          "Gerona",
          "Granada",
          "Madrid - Getafe",
          "Ibiza",
          "Jerez De La Frontera",
          "Sabadell",
          "Leon",
          "Madrid - Barajas",
          "Málaga",
          "Mahon",
          "Región de Murcia International Airport",
          "Seville - Moron",
          "Palma de Mallorca",
          "Noain Pamplona",
          "Reus",
          "Rota",
          "Salamanca Matalan",
          "Son Bonet",
          "San Sebastian",
          "Santiago",
          "Madrid - Torrejon",
          "Valencia",
          "Valladolid",
          "Vitoria",
          "Vigo",
          "Santander",
          "Zaragoza",
          "Sevilla",
          "Göteborg",
          "Stockholm - Arlanda",
          "Stockholm - Bromma",
          "Geneva",
          "Sion",
          "Zürich",
          "Ankara - Esenboğa",
          "Antalya",
          "Istanbul Atatürk",
          "Izmir - Adnan Menderes",
          "Istanbul Sabiha Gökçen",
          "iGA Istanbul Airport",
          "Belfast - Aldergrove",
          "Belfast - City Airport",
          "Londonderry - Eglinton",
          "Birmingham",
          "Manchester",
          "Bristol",
          "London - Luton",
          "Southampton",
          "Biggin Hill",
          "London - Gatwick",
          "London - City",
          "Farnborough",
          "London - Heathrow",
          "Newcastle",
          "East Midlands",
          "Aberdeen",
          "Glasgow",
          "Edinburgh",
          "London - Stansted"
         ],
         "lat": {
          "bdata": "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",
          "dtype": "f8"
         },
         "legendgroup": "",
         "lon": {
          "bdata": "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",
          "dtype": "f8"
         },
         "marker": {
          "color": {
           "bdata": "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",
           "dtype": "i2"
          },
          "coloraxis": "coloraxis",
          "size": {
           "bdata": "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",
           "dtype": "i2"
          },
          "sizemode": "area",
          "sizeref": 2.6175,
          "symbol": "circle"
         },
         "mode": "markers",
         "name": "",
         "showlegend": false,
         "type": "scattergeo"
        }
       ],
       "layout": {
        "coloraxis": {
         "cmax": 1200,
         "cmin": 0,
         "colorbar": {
          "title": {
           "text": "LICZBA LOTÓW"
          }
         },
         "colorscale": [
          [
           0,
           "rgb(0,0,255)"
          ],
          [
           1,
           "rgb(255,0,0)"
          ]
         ]
        },
        "geo": {
         "center": {
          "lat": 50,
          "lon": 10
         },
         "countrycolor": "rgb(100, 100, 100)",
         "domain": {
          "x": [
           0,
           1
          ],
          "y": [
           0,
           1
          ]
         },
         "landcolor": "rgb(217, 217, 217)",
         "lataxis": {
          "range": [
           10,
           60
          ]
         },
         "lonaxis": {
          "range": [
           -30,
           50
          ]
         },
         "oceancolor": "#B7D3E0",
         "projection": {
          "type": "natural earth"
         },
         "showcountries": true,
         "showlakes": false,
         "showland": true,
         "showocean": true
        },
        "height": 720,
        "legend": {
         "itemsizing": "constant",
         "tracegroupgap": 0
        },
        "template": {
         "data": {
          "bar": [
           {
            "error_x": {
             "color": "#2a3f5f"
            },
            "error_y": {
             "color": "#2a3f5f"
            },
            "marker": {
             "line": {
              "color": "#E5ECF6",
              "width": 0.5
             },
             "pattern": {
              "fillmode": "overlay",
              "size": 10,
              "solidity": 0.2
             }
            },
            "type": "bar"
           }
          ],
          "barpolar": [
           {
            "marker": {
             "line": {
              "color": "#E5ECF6",
              "width": 0.5
             },
             "pattern": {
              "fillmode": "overlay",
              "size": 10,
              "solidity": 0.2
             }
            },
            "type": "barpolar"
           }
          ],
          "carpet": [
           {
            "aaxis": {
             "endlinecolor": "#2a3f5f",
             "gridcolor": "white",
             "linecolor": "white",
             "minorgridcolor": "white",
             "startlinecolor": "#2a3f5f"
            },
            "baxis": {
             "endlinecolor": "#2a3f5f",
             "gridcolor": "white",
             "linecolor": "white",
             "minorgridcolor": "white",
             "startlinecolor": "#2a3f5f"
            },
            "type": "carpet"
           }
          ],
          "choropleth": [
           {
            "colorbar": {
             "outlinewidth": 0,
             "ticks": ""
            },
            "type": "choropleth"
           }
          ],
          "contour": [
           {
            "colorbar": {
             "outlinewidth": 0,
             "ticks": ""
            },
            "colorscale": [
             [
              0,
              "#0d0887"
             ],
             [
              0.1111111111111111,
              "#46039f"
             ],
             [
              0.2222222222222222,
              "#7201a8"
             ],
             [
              0.3333333333333333,
              "#9c179e"
             ],
             [
              0.4444444444444444,
              "#bd3786"
             ],
             [
              0.5555555555555556,
              "#d8576b"
             ],
             [
              0.6666666666666666,
              "#ed7953"
             ],
             [
              0.7777777777777778,
              "#fb9f3a"
             ],
             [
              0.8888888888888888,
              "#fdca26"
             ],
             [
              1,
              "#f0f921"
             ]
            ],
            "type": "contour"
           }
          ],
          "contourcarpet": [
           {
            "colorbar": {
             "outlinewidth": 0,
             "ticks": ""
            },
            "type": "contourcarpet"
           }
          ],
          "heatmap": [
           {
            "colorbar": {
             "outlinewidth": 0,
             "ticks": ""
            },
            "colorscale": [
             [
              0,
              "#0d0887"
             ],
             [
              0.1111111111111111,
              "#46039f"
             ],
             [
              0.2222222222222222,
              "#7201a8"
             ],
             [
              0.3333333333333333,
              "#9c179e"
             ],
             [
              0.4444444444444444,
              "#bd3786"
             ],
             [
              0.5555555555555556,
              "#d8576b"
             ],
             [
              0.6666666666666666,
              "#ed7953"
             ],
             [
              0.7777777777777778,
              "#fb9f3a"
             ],
             [
              0.8888888888888888,
              "#fdca26"
             ],
             [
              1,
              "#f0f921"
             ]
            ],
            "type": "heatmap"
           }
          ],
          "histogram": [
           {
            "marker": {
             "pattern": {
              "fillmode": "overlay",
              "size": 10,
              "solidity": 0.2
             }
            },
            "type": "histogram"
           }
          ],
          "histogram2d": [
           {
            "colorbar": {
             "outlinewidth": 0,
             "ticks": ""
            },
            "colorscale": [
             [
              0,
              "#0d0887"
             ],
             [
              0.1111111111111111,
              "#46039f"
             ],
             [
              0.2222222222222222,
              "#7201a8"
             ],
             [
              0.3333333333333333,
              "#9c179e"
             ],
             [
              0.4444444444444444,
              "#bd3786"
             ],
             [
              0.5555555555555556,
              "#d8576b"
             ],
             [
              0.6666666666666666,
              "#ed7953"
             ],
             [
              0.7777777777777778,
              "#fb9f3a"
             ],
             [
              0.8888888888888888,
              "#fdca26"
             ],
             [
              1,
              "#f0f921"
             ]
            ],
            "type": "histogram2d"
           }
          ],
          "histogram2dcontour": [
           {
            "colorbar": {
             "outlinewidth": 0,
             "ticks": ""
            },
            "colorscale": [
             [
              0,
              "#0d0887"
             ],
             [
              0.1111111111111111,
              "#46039f"
             ],
             [
              0.2222222222222222,
              "#7201a8"
             ],
             [
              0.3333333333333333,
              "#9c179e"
             ],
             [
              0.4444444444444444,
              "#bd3786"
             ],
             [
              0.5555555555555556,
              "#d8576b"
             ],
             [
              0.6666666666666666,
              "#ed7953"
             ],
             [
              0.7777777777777778,
              "#fb9f3a"
             ],
             [
              0.8888888888888888,
              "#fdca26"
             ],
             [
              1,
              "#f0f921"
             ]
            ],
            "type": "histogram2dcontour"
           }
          ],
          "mesh3d": [
           {
            "colorbar": {
             "outlinewidth": 0,
             "ticks": ""
            },
            "type": "mesh3d"
           }
          ],
          "parcoords": [
           {
            "line": {
             "colorbar": {
              "outlinewidth": 0,
              "ticks": ""
             }
            },
            "type": "parcoords"
           }
          ],
          "pie": [
           {
            "automargin": true,
            "type": "pie"
           }
          ],
          "scatter": [
           {
            "fillpattern": {
             "fillmode": "overlay",
             "size": 10,
             "solidity": 0.2
            },
            "type": "scatter"
           }
          ],
          "scatter3d": [
           {
            "line": {
             "colorbar": {
              "outlinewidth": 0,
              "ticks": ""
             }
            },
            "marker": {
             "colorbar": {
              "outlinewidth": 0,
              "ticks": ""
             }
            },
            "type": "scatter3d"
           }
          ],
          "scattercarpet": [
           {
            "marker": {
             "colorbar": {
              "outlinewidth": 0,
              "ticks": ""
             }
            },
            "type": "scattercarpet"
           }
          ],
          "scattergeo": [
           {
            "marker": {
             "colorbar": {
              "outlinewidth": 0,
              "ticks": ""
             }
            },
            "type": "scattergeo"
           }
          ],
          "scattergl": [
           {
            "marker": {
             "colorbar": {
              "outlinewidth": 0,
              "ticks": ""
             }
            },
            "type": "scattergl"
           }
          ],
          "scattermap": [
           {
            "marker": {
             "colorbar": {
              "outlinewidth": 0,
              "ticks": ""
             }
            },
            "type": "scattermap"
           }
          ],
          "scattermapbox": [
           {
            "marker": {
             "colorbar": {
              "outlinewidth": 0,
              "ticks": ""
             }
            },
            "type": "scattermapbox"
           }
          ],
          "scatterpolar": [
           {
            "marker": {
             "colorbar": {
              "outlinewidth": 0,
              "ticks": ""
             }
            },
            "type": "scatterpolar"
           }
          ],
          "scatterpolargl": [
           {
            "marker": {
             "colorbar": {
              "outlinewidth": 0,
              "ticks": ""
             }
            },
            "type": "scatterpolargl"
           }
          ],
          "scatterternary": [
           {
            "marker": {
             "colorbar": {
              "outlinewidth": 0,
              "ticks": ""
             }
            },
            "type": "scatterternary"
           }
          ],
          "surface": [
           {
            "colorbar": {
             "outlinewidth": 0,
             "ticks": ""
            },
            "colorscale": [
             [
              0,
              "#0d0887"
             ],
             [
              0.1111111111111111,
              "#46039f"
             ],
             [
              0.2222222222222222,
              "#7201a8"
             ],
             [
              0.3333333333333333,
              "#9c179e"
             ],
             [
              0.4444444444444444,
              "#bd3786"
             ],
             [
              0.5555555555555556,
              "#d8576b"
             ],
             [
              0.6666666666666666,
              "#ed7953"
             ],
             [
              0.7777777777777778,
              "#fb9f3a"
             ],
             [
              0.8888888888888888,
              "#fdca26"
             ],
             [
              1,
              "#f0f921"
             ]
            ],
            "type": "surface"
           }
          ],
          "table": [
           {
            "cells": {
             "fill": {
              "color": "#EBF0F8"
             },
             "line": {
              "color": "white"
             }
            },
            "header": {
             "fill": {
              "color": "#C8D4E3"
             },
             "line": {
              "color": "white"
             }
            },
            "type": "table"
           }
          ]
         },
         "layout": {
          "annotationdefaults": {
           "arrowcolor": "#2a3f5f",
           "arrowhead": 0,
           "arrowwidth": 1
          },
          "autotypenumbers": "strict",
          "coloraxis": {
           "colorbar": {
            "outlinewidth": 0,
            "ticks": ""
           }
          },
          "colorscale": {
           "diverging": [
            [
             0,
             "#8e0152"
            ],
            [
             0.1,
             "#c51b7d"
            ],
            [
             0.2,
             "#de77ae"
            ],
            [
             0.3,
             "#f1b6da"
            ],
            [
             0.4,
             "#fde0ef"
            ],
            [
             0.5,
             "#f7f7f7"
            ],
            [
             0.6,
             "#e6f5d0"
            ],
            [
             0.7,
             "#b8e186"
            ],
            [
             0.8,
             "#7fbc41"
            ],
            [
             0.9,
             "#4d9221"
            ],
            [
             1,
             "#276419"
            ]
           ],
           "sequential": [
            [
             0,
             "#0d0887"
            ],
            [
             0.1111111111111111,
             "#46039f"
            ],
            [
             0.2222222222222222,
             "#7201a8"
            ],
            [
             0.3333333333333333,
             "#9c179e"
            ],
            [
             0.4444444444444444,
             "#bd3786"
            ],
            [
             0.5555555555555556,
             "#d8576b"
            ],
            [
             0.6666666666666666,
             "#ed7953"
            ],
            [
             0.7777777777777778,
             "#fb9f3a"
            ],
            [
             0.8888888888888888,
             "#fdca26"
            ],
            [
             1,
             "#f0f921"
            ]
           ],
           "sequentialminus": [
            [
             0,
             "#0d0887"
            ],
            [
             0.1111111111111111,
             "#46039f"
            ],
            [
             0.2222222222222222,
             "#7201a8"
            ],
            [
             0.3333333333333333,
             "#9c179e"
            ],
            [
             0.4444444444444444,
             "#bd3786"
            ],
            [
             0.5555555555555556,
             "#d8576b"
            ],
            [
             0.6666666666666666,
             "#ed7953"
            ],
            [
             0.7777777777777778,
             "#fb9f3a"
            ],
            [
             0.8888888888888888,
             "#fdca26"
            ],
            [
             1,
             "#f0f921"
            ]
           ]
          },
          "colorway": [
           "#636efa",
           "#EF553B",
           "#00cc96",
           "#ab63fa",
           "#FFA15A",
           "#19d3f3",
           "#FF6692",
           "#B6E880",
           "#FF97FF",
           "#FECB52"
          ],
          "font": {
           "color": "#2a3f5f"
          },
          "geo": {
           "bgcolor": "white",
           "lakecolor": "white",
           "landcolor": "#E5ECF6",
           "showlakes": true,
           "showland": true,
           "subunitcolor": "white"
          },
          "hoverlabel": {
           "align": "left"
          },
          "hovermode": "closest",
          "mapbox": {
           "style": "light"
          },
          "paper_bgcolor": "white",
          "plot_bgcolor": "#E5ECF6",
          "polar": {
           "angularaxis": {
            "gridcolor": "white",
            "linecolor": "white",
            "ticks": ""
           },
           "bgcolor": "#E5ECF6",
           "radialaxis": {
            "gridcolor": "white",
            "linecolor": "white",
            "ticks": ""
           }
          },
          "scene": {
           "xaxis": {
            "backgroundcolor": "#E5ECF6",
            "gridcolor": "white",
            "gridwidth": 2,
            "linecolor": "white",
            "showbackground": true,
            "ticks": "",
            "zerolinecolor": "white"
           },
           "yaxis": {
            "backgroundcolor": "#E5ECF6",
            "gridcolor": "white",
            "gridwidth": 2,
            "linecolor": "white",
            "showbackground": true,
            "ticks": "",
            "zerolinecolor": "white"
           },
           "zaxis": {
            "backgroundcolor": "#E5ECF6",
            "gridcolor": "white",
            "gridwidth": 2,
            "linecolor": "white",
            "showbackground": true,
            "ticks": "",
            "zerolinecolor": "white"
           }
          },
          "shapedefaults": {
           "line": {
            "color": "#2a3f5f"
           }
          },
          "ternary": {
           "aaxis": {
            "gridcolor": "white",
            "linecolor": "white",
            "ticks": ""
           },
           "baxis": {
            "gridcolor": "white",
            "linecolor": "white",
            "ticks": ""
           },
           "bgcolor": "#E5ECF6",
           "caxis": {
            "gridcolor": "white",
            "linecolor": "white",
            "ticks": ""
           }
          },
          "title": {
           "x": 0.05
          },
          "xaxis": {
           "automargin": true,
           "gridcolor": "white",
           "linecolor": "white",
           "ticks": "",
           "title": {
            "standoff": 15
           },
           "zerolinecolor": "white",
           "zerolinewidth": 2
          },
          "yaxis": {
           "automargin": true,
           "gridcolor": "white",
           "linecolor": "white",
           "ticks": "",
           "title": {
            "standoff": 15
           },
           "zerolinecolor": "white",
           "zerolinewidth": 2
          }
         }
        },
        "title": {
         "text": "RUCH LOTNICZY NA LOTNISKACH W DNIU 04.03.2022 r."
        },
        "width": 1280
       }
      }
     },
     "metadata": {},
     "output_type": "display_data"
    }
   ],
   "source": [
    "airports_location_path = os.path.join(base_dir, 'airports.csv')  # Plik z lokalizacjami lotnisk\n",
    "airports_location_df = pd.read_csv(airports_location_path)\n",
    "\n",
    "# Połączenie danych `airport_traffic` z lokalizacjami na podstawie kodu ICAO\n",
    "merged_df = pd.merge(\n",
    "    airport_traffic_df,\n",
    "    airports_location_df,\n",
    "    left_on='APT_ICAO',\n",
    "    right_on='ident',  # Kolumna z kodem ICAO w danych lokalizacji\n",
    "    how='inner'\n",
    ")\n",
    "\n",
    "selected_date = '2022-03-04'\n",
    "filtered_df = merged_df[merged_df['FLT_DATE'] == selected_date].copy()\n",
    "\n",
    "filtered_df['FLT_TOT_1'] = pd.to_numeric(filtered_df['FLT_TOT_1'], errors='coerce')\n",
    "filtered_df = filtered_df.dropna(subset=['FLT_TOT_1'])\n",
    "\n",
    "selected_date_eu = pd.to_datetime(selected_date).strftime('%d.%m.%Y')\n",
    "\n",
    "# Tworzenie wykresu mapy z bańkami\n",
    "fig = px.scatter_geo(\n",
    "    filtered_df,\n",
    "    lat='latitude_deg', \n",
    "    lon='longitude_deg', \n",
    "    size='FLT_TOT_1',\n",
    "    color='FLT_TOT_1',  # Kolor bańki na podstawie liczby lotów\n",
    "    color_continuous_scale=px.colors.sequential.Bluered,\n",
    "    range_color=[0, 1200],\n",
    "    hover_name='APT_NAME',  # Nazwa lotniska w tooltipie\n",
    "    hover_data={'FLT_TOT_1': True, 'STATE_NAME': True},\n",
    "    #text='APT_NAME',\n",
    "    title=f\"RUCH LOTNICZY NA LOTNISKACH W DNIU {selected_date_eu} r.\",\n",
    "    projection=\"natural earth\",\n",
    "    labels={'FLT_TOT_1': 'LICZBA LOTÓW', 'STATE_NAME': 'KRAJ', 'latitude_deg': 'SZER. GEOGRAFICZNA', 'longitude_deg': 'DŁ. GEOGRAFICZNA', 'APT_NAME': 'NAZWA LOTNISKA'},\n",
    "    #scope='europe'  # Zakres mapy na Europę\n",
    ")\n",
    "\n",
    "#fig.update_traces(textposition='top center')\n",
    "\n",
    "# Dostosowanie wyglądu mapy\n",
    "fig.update_layout(\n",
    "    geo=dict(\n",
    "        showland=True,\n",
    "        landcolor=\"rgb(217, 217, 217)\",\n",
    "        showcountries=True,\n",
    "        showocean=True,\n",
    "        showlakes=False,\n",
    "        oceancolor=\"#B7D3E0\",\n",
    "        countrycolor=\"rgb(100, 100, 100)\",\n",
    "        center=dict(lat=50, lon=10),\n",
    "        lataxis=dict(range=[10, 60]),\n",
    "        lonaxis=dict(range=[-30, 50]),\n",
    "    ),\n",
    "    width=1280,   # szerokość w pikselach\n",
    "    height=720\n",
    ")\n",
    "\n",
    "# Wyświetlenie wykresu\n",
    "fig.write_html(selected_date+\".html\")#renderer=\"browser\")\n",
    "fig.show()  # Zapisanie wykresu jako plik PNG"
   ]
  },
  {
   "cell_type": "code",
   "execution_count": 30,
   "id": "f2631cf6",
   "metadata": {},
   "outputs": [
    {
     "data": {
      "application/vnd.plotly.v1+json": {
       "config": {
        "plotlyServerURL": "https://plot.ly"
       },
       "data": [
        {
         "hovertemplate": "Miesiąc=%{x}<br>Średnia liczba lotów=%{y}<extra></extra>",
         "legendgroup": "",
         "line": {
          "color": "#0072B5",
          "dash": "solid",
          "width": 4
         },
         "marker": {
          "color": "#FF9900",
          "line": {
           "color": "white",
           "width": 2
          },
          "size": 12,
          "symbol": "circle"
         },
         "mode": "lines+markers",
         "name": "",
         "orientation": "v",
         "showlegend": false,
         "type": "scatter",
         "x": [
          "Styczeń",
          "Luty",
          "Marzec",
          "Kwiecień",
          "Maj",
          "Czerwiec",
          "Lipiec",
          "Sierpień",
          "Wrzesień",
          "Październik",
          "Listopad",
          "Grudzień"
         ],
         "xaxis": "x",
         "y": {
          "bdata": "ttZaa63lfUCSJEmSJHl+QOecc845Z35AVVVVVVVpgED43nvvvQeBQM3MzMzMtIFAOuecc84pgkBrrbXWWhuCQAAAAAAANIJAlVJKKaUUgUBmZmZmZr5/QCGEEEII4X5A",
          "dtype": "f8"
         },
         "yaxis": "y"
        }
       ],
       "layout": {
        "font": {
         "family": "Arial",
         "size": 16
        },
        "height": 550,
        "legend": {
         "tracegroupgap": 0
        },
        "margin": {
         "b": 60,
         "l": 60,
         "r": 30,
         "t": 70
        },
        "plot_bgcolor": "white",
        "template": {
         "data": {
          "bar": [
           {
            "error_x": {
             "color": "#2a3f5f"
            },
            "error_y": {
             "color": "#2a3f5f"
            },
            "marker": {
             "line": {
              "color": "#E5ECF6",
              "width": 0.5
             },
             "pattern": {
              "fillmode": "overlay",
              "size": 10,
              "solidity": 0.2
             }
            },
            "type": "bar"
           }
          ],
          "barpolar": [
           {
            "marker": {
             "line": {
              "color": "#E5ECF6",
              "width": 0.5
             },
             "pattern": {
              "fillmode": "overlay",
              "size": 10,
              "solidity": 0.2
             }
            },
            "type": "barpolar"
           }
          ],
          "carpet": [
           {
            "aaxis": {
             "endlinecolor": "#2a3f5f",
             "gridcolor": "white",
             "linecolor": "white",
             "minorgridcolor": "white",
             "startlinecolor": "#2a3f5f"
            },
            "baxis": {
             "endlinecolor": "#2a3f5f",
             "gridcolor": "white",
             "linecolor": "white",
             "minorgridcolor": "white",
             "startlinecolor": "#2a3f5f"
            },
            "type": "carpet"
           }
          ],
          "choropleth": [
           {
            "colorbar": {
             "outlinewidth": 0,
             "ticks": ""
            },
            "type": "choropleth"
           }
          ],
          "contour": [
           {
            "colorbar": {
             "outlinewidth": 0,
             "ticks": ""
            },
            "colorscale": [
             [
              0,
              "#0d0887"
             ],
             [
              0.1111111111111111,
              "#46039f"
             ],
             [
              0.2222222222222222,
              "#7201a8"
             ],
             [
              0.3333333333333333,
              "#9c179e"
             ],
             [
              0.4444444444444444,
              "#bd3786"
             ],
             [
              0.5555555555555556,
              "#d8576b"
             ],
             [
              0.6666666666666666,
              "#ed7953"
             ],
             [
              0.7777777777777778,
              "#fb9f3a"
             ],
             [
              0.8888888888888888,
              "#fdca26"
             ],
             [
              1,
              "#f0f921"
             ]
            ],
            "type": "contour"
           }
          ],
          "contourcarpet": [
           {
            "colorbar": {
             "outlinewidth": 0,
             "ticks": ""
            },
            "type": "contourcarpet"
           }
          ],
          "heatmap": [
           {
            "colorbar": {
             "outlinewidth": 0,
             "ticks": ""
            },
            "colorscale": [
             [
              0,
              "#0d0887"
             ],
             [
              0.1111111111111111,
              "#46039f"
             ],
             [
              0.2222222222222222,
              "#7201a8"
             ],
             [
              0.3333333333333333,
              "#9c179e"
             ],
             [
              0.4444444444444444,
              "#bd3786"
             ],
             [
              0.5555555555555556,
              "#d8576b"
             ],
             [
              0.6666666666666666,
              "#ed7953"
             ],
             [
              0.7777777777777778,
              "#fb9f3a"
             ],
             [
              0.8888888888888888,
              "#fdca26"
             ],
             [
              1,
              "#f0f921"
             ]
            ],
            "type": "heatmap"
           }
          ],
          "histogram": [
           {
            "marker": {
             "pattern": {
              "fillmode": "overlay",
              "size": 10,
              "solidity": 0.2
             }
            },
            "type": "histogram"
           }
          ],
          "histogram2d": [
           {
            "colorbar": {
             "outlinewidth": 0,
             "ticks": ""
            },
            "colorscale": [
             [
              0,
              "#0d0887"
             ],
             [
              0.1111111111111111,
              "#46039f"
             ],
             [
              0.2222222222222222,
              "#7201a8"
             ],
             [
              0.3333333333333333,
              "#9c179e"
             ],
             [
              0.4444444444444444,
              "#bd3786"
             ],
             [
              0.5555555555555556,
              "#d8576b"
             ],
             [
              0.6666666666666666,
              "#ed7953"
             ],
             [
              0.7777777777777778,
              "#fb9f3a"
             ],
             [
              0.8888888888888888,
              "#fdca26"
             ],
             [
              1,
              "#f0f921"
             ]
            ],
            "type": "histogram2d"
           }
          ],
          "histogram2dcontour": [
           {
            "colorbar": {
             "outlinewidth": 0,
             "ticks": ""
            },
            "colorscale": [
             [
              0,
              "#0d0887"
             ],
             [
              0.1111111111111111,
              "#46039f"
             ],
             [
              0.2222222222222222,
              "#7201a8"
             ],
             [
              0.3333333333333333,
              "#9c179e"
             ],
             [
              0.4444444444444444,
              "#bd3786"
             ],
             [
              0.5555555555555556,
              "#d8576b"
             ],
             [
              0.6666666666666666,
              "#ed7953"
             ],
             [
              0.7777777777777778,
              "#fb9f3a"
             ],
             [
              0.8888888888888888,
              "#fdca26"
             ],
             [
              1,
              "#f0f921"
             ]
            ],
            "type": "histogram2dcontour"
           }
          ],
          "mesh3d": [
           {
            "colorbar": {
             "outlinewidth": 0,
             "ticks": ""
            },
            "type": "mesh3d"
           }
          ],
          "parcoords": [
           {
            "line": {
             "colorbar": {
              "outlinewidth": 0,
              "ticks": ""
             }
            },
            "type": "parcoords"
           }
          ],
          "pie": [
           {
            "automargin": true,
            "type": "pie"
           }
          ],
          "scatter": [
           {
            "fillpattern": {
             "fillmode": "overlay",
             "size": 10,
             "solidity": 0.2
            },
            "type": "scatter"
           }
          ],
          "scatter3d": [
           {
            "line": {
             "colorbar": {
              "outlinewidth": 0,
              "ticks": ""
             }
            },
            "marker": {
             "colorbar": {
              "outlinewidth": 0,
              "ticks": ""
             }
            },
            "type": "scatter3d"
           }
          ],
          "scattercarpet": [
           {
            "marker": {
             "colorbar": {
              "outlinewidth": 0,
              "ticks": ""
             }
            },
            "type": "scattercarpet"
           }
          ],
          "scattergeo": [
           {
            "marker": {
             "colorbar": {
              "outlinewidth": 0,
              "ticks": ""
             }
            },
            "type": "scattergeo"
           }
          ],
          "scattergl": [
           {
            "marker": {
             "colorbar": {
              "outlinewidth": 0,
              "ticks": ""
             }
            },
            "type": "scattergl"
           }
          ],
          "scattermap": [
           {
            "marker": {
             "colorbar": {
              "outlinewidth": 0,
              "ticks": ""
             }
            },
            "type": "scattermap"
           }
          ],
          "scattermapbox": [
           {
            "marker": {
             "colorbar": {
              "outlinewidth": 0,
              "ticks": ""
             }
            },
            "type": "scattermapbox"
           }
          ],
          "scatterpolar": [
           {
            "marker": {
             "colorbar": {
              "outlinewidth": 0,
              "ticks": ""
             }
            },
            "type": "scatterpolar"
           }
          ],
          "scatterpolargl": [
           {
            "marker": {
             "colorbar": {
              "outlinewidth": 0,
              "ticks": ""
             }
            },
            "type": "scatterpolargl"
           }
          ],
          "scatterternary": [
           {
            "marker": {
             "colorbar": {
              "outlinewidth": 0,
              "ticks": ""
             }
            },
            "type": "scatterternary"
           }
          ],
          "surface": [
           {
            "colorbar": {
             "outlinewidth": 0,
             "ticks": ""
            },
            "colorscale": [
             [
              0,
              "#0d0887"
             ],
             [
              0.1111111111111111,
              "#46039f"
             ],
             [
              0.2222222222222222,
              "#7201a8"
             ],
             [
              0.3333333333333333,
              "#9c179e"
             ],
             [
              0.4444444444444444,
              "#bd3786"
             ],
             [
              0.5555555555555556,
              "#d8576b"
             ],
             [
              0.6666666666666666,
              "#ed7953"
             ],
             [
              0.7777777777777778,
              "#fb9f3a"
             ],
             [
              0.8888888888888888,
              "#fdca26"
             ],
             [
              1,
              "#f0f921"
             ]
            ],
            "type": "surface"
           }
          ],
          "table": [
           {
            "cells": {
             "fill": {
              "color": "#EBF0F8"
             },
             "line": {
              "color": "white"
             }
            },
            "header": {
             "fill": {
              "color": "#C8D4E3"
             },
             "line": {
              "color": "white"
             }
            },
            "type": "table"
           }
          ]
         },
         "layout": {
          "annotationdefaults": {
           "arrowcolor": "#2a3f5f",
           "arrowhead": 0,
           "arrowwidth": 1
          },
          "autotypenumbers": "strict",
          "coloraxis": {
           "colorbar": {
            "outlinewidth": 0,
            "ticks": ""
           }
          },
          "colorscale": {
           "diverging": [
            [
             0,
             "#8e0152"
            ],
            [
             0.1,
             "#c51b7d"
            ],
            [
             0.2,
             "#de77ae"
            ],
            [
             0.3,
             "#f1b6da"
            ],
            [
             0.4,
             "#fde0ef"
            ],
            [
             0.5,
             "#f7f7f7"
            ],
            [
             0.6,
             "#e6f5d0"
            ],
            [
             0.7,
             "#b8e186"
            ],
            [
             0.8,
             "#7fbc41"
            ],
            [
             0.9,
             "#4d9221"
            ],
            [
             1,
             "#276419"
            ]
           ],
           "sequential": [
            [
             0,
             "#0d0887"
            ],
            [
             0.1111111111111111,
             "#46039f"
            ],
            [
             0.2222222222222222,
             "#7201a8"
            ],
            [
             0.3333333333333333,
             "#9c179e"
            ],
            [
             0.4444444444444444,
             "#bd3786"
            ],
            [
             0.5555555555555556,
             "#d8576b"
            ],
            [
             0.6666666666666666,
             "#ed7953"
            ],
            [
             0.7777777777777778,
             "#fb9f3a"
            ],
            [
             0.8888888888888888,
             "#fdca26"
            ],
            [
             1,
             "#f0f921"
            ]
           ],
           "sequentialminus": [
            [
             0,
             "#0d0887"
            ],
            [
             0.1111111111111111,
             "#46039f"
            ],
            [
             0.2222222222222222,
             "#7201a8"
            ],
            [
             0.3333333333333333,
             "#9c179e"
            ],
            [
             0.4444444444444444,
             "#bd3786"
            ],
            [
             0.5555555555555556,
             "#d8576b"
            ],
            [
             0.6666666666666666,
             "#ed7953"
            ],
            [
             0.7777777777777778,
             "#fb9f3a"
            ],
            [
             0.8888888888888888,
             "#fdca26"
            ],
            [
             1,
             "#f0f921"
            ]
           ]
          },
          "colorway": [
           "#636efa",
           "#EF553B",
           "#00cc96",
           "#ab63fa",
           "#FFA15A",
           "#19d3f3",
           "#FF6692",
           "#B6E880",
           "#FF97FF",
           "#FECB52"
          ],
          "font": {
           "color": "#2a3f5f"
          },
          "geo": {
           "bgcolor": "white",
           "lakecolor": "white",
           "landcolor": "#E5ECF6",
           "showlakes": true,
           "showland": true,
           "subunitcolor": "white"
          },
          "hoverlabel": {
           "align": "left"
          },
          "hovermode": "closest",
          "mapbox": {
           "style": "light"
          },
          "paper_bgcolor": "white",
          "plot_bgcolor": "#E5ECF6",
          "polar": {
           "angularaxis": {
            "gridcolor": "white",
            "linecolor": "white",
            "ticks": ""
           },
           "bgcolor": "#E5ECF6",
           "radialaxis": {
            "gridcolor": "white",
            "linecolor": "white",
            "ticks": ""
           }
          },
          "scene": {
           "xaxis": {
            "backgroundcolor": "#E5ECF6",
            "gridcolor": "white",
            "gridwidth": 2,
            "linecolor": "white",
            "showbackground": true,
            "ticks": "",
            "zerolinecolor": "white"
           },
           "yaxis": {
            "backgroundcolor": "#E5ECF6",
            "gridcolor": "white",
            "gridwidth": 2,
            "linecolor": "white",
            "showbackground": true,
            "ticks": "",
            "zerolinecolor": "white"
           },
           "zaxis": {
            "backgroundcolor": "#E5ECF6",
            "gridcolor": "white",
            "gridwidth": 2,
            "linecolor": "white",
            "showbackground": true,
            "ticks": "",
            "zerolinecolor": "white"
           }
          },
          "shapedefaults": {
           "line": {
            "color": "#2a3f5f"
           }
          },
          "ternary": {
           "aaxis": {
            "gridcolor": "white",
            "linecolor": "white",
            "ticks": ""
           },
           "baxis": {
            "gridcolor": "white",
            "linecolor": "white",
            "ticks": ""
           },
           "bgcolor": "#E5ECF6",
           "caxis": {
            "gridcolor": "white",
            "linecolor": "white",
            "ticks": ""
           }
          },
          "title": {
           "x": 0.05
          },
          "xaxis": {
           "automargin": true,
           "gridcolor": "white",
           "linecolor": "white",
           "ticks": "",
           "title": {
            "standoff": 15
           },
           "zerolinecolor": "white",
           "zerolinewidth": 2
          },
          "yaxis": {
           "automargin": true,
           "gridcolor": "white",
           "linecolor": "white",
           "ticks": "",
           "title": {
            "standoff": 15
           },
           "zerolinecolor": "white",
           "zerolinewidth": 2
          }
         }
        },
        "title": {
         "font": {
          "color": "#222",
          "family": "Arial",
          "size": 22
         },
         "text": "Średnia liczba lotów na Lotnisku Chopina w Warszawie (2019 rok)",
         "x": 0.5
        },
        "width": 1000,
        "xaxis": {
         "anchor": "y",
         "domain": [
          0,
          1
         ],
         "showgrid": false,
         "tickangle": -35,
         "tickfont": {
          "family": "Arial",
          "size": 16
         },
         "title": {
          "font": {
           "color": "#333",
           "family": "Arial",
           "size": 18
          },
          "text": "Miesiąc"
         }
        },
        "yaxis": {
         "anchor": "x",
         "domain": [
          0,
          1
         ],
         "gridcolor": "rgba(200,200,200,0.3)",
         "range": [
          -10,
          610
         ],
         "showgrid": true,
         "tickfont": {
          "family": "Arial",
          "size": 16
         },
         "title": {
          "font": {
           "color": "#333",
           "family": "Arial",
           "size": 18
          },
          "text": "Średnia liczba lotów"
         },
         "zeroline": false
        }
       }
      }
     },
     "metadata": {},
     "output_type": "display_data"
    }
   ],
   "source": [
    "airport_traffic_df['FLT_DATE'] = pd.to_datetime(airport_traffic_df['FLT_DATE'], errors='coerce')\n",
    "\n",
    "# Filtrowanie danych dla EPWA i roku 2021\n",
    "import plotly.express as px\n",
    "\n",
    "# Przygotowanie danych jak poprzednio\n",
    "epwa_2021 = airport_traffic_df[\n",
    "    (airport_traffic_df['APT_ICAO'] == 'EPWA') &\n",
    "    (airport_traffic_df['FLT_DATE'].dt.year == 2019)\n",
    "].copy()\n",
    "epwa_2021['FLT_TOT_1'] = pd.to_numeric(epwa_2021['FLT_TOT_1'], errors='coerce')\n",
    "epwa_2021['month'] = epwa_2021['FLT_DATE'].dt.month\n",
    "\n",
    "polish_months = {\n",
    "    1: 'Styczeń', 2: 'Luty', 3: 'Marzec', 4: 'Kwiecień',\n",
    "    5: 'Maj', 6: 'Czerwiec', 7: 'Lipiec', 8: 'Sierpień',\n",
    "    9: 'Wrzesień', 10: 'Październik', 11: 'Listopad', 12: 'Grudzień'\n",
    "}\n",
    "monthly_avg = epwa_2021.groupby('month')['FLT_TOT_1'].mean().reset_index()\n",
    "monthly_avg['month_name'] = monthly_avg['month'].map(polish_months)\n",
    "\n",
    "# Wykres liniowy w Plotly\n",
    "fig = px.line(\n",
    "    monthly_avg,\n",
    "    x='month_name',\n",
    "    y='FLT_TOT_1',\n",
    "    markers=True,\n",
    "    title='Średnia liczba lotów na Lotnisku Chopina w Warszawie (2019 rok)',\n",
    "    labels={'month_name': 'Miesiąc', 'FLT_TOT_1': 'Średnia liczba lotów'}\n",
    ")\n",
    "\n",
    "fig.update_traces(\n",
    "    line=dict(color='#0072B5', width=4),\n",
    "    marker=dict(size=12, color='#FF9900', line=dict(width=2, color='white'))\n",
    ")\n",
    "\n",
    "fig.update_layout(\n",
    "    xaxis=dict(\n",
    "        tickangle=-35,\n",
    "        showgrid=False,\n",
    "        tickfont=dict(size=16, family='Arial'),\n",
    "        title_font=dict(size=18, family='Arial', color='#333')\n",
    "    ),\n",
    "    yaxis=dict(\n",
    "        range=[-10, 610],\n",
    "        showgrid=True,\n",
    "        gridcolor='rgba(200,200,200,0.3)',\n",
    "        zeroline=False,\n",
    "        tickfont=dict(size=16, family='Arial'),\n",
    "        title_font=dict(size=18, family='Arial', color='#333')\n",
    "    ),\n",
    "    plot_bgcolor='white',\n",
    "    font=dict(size=16, family='Arial'),\n",
    "    title=dict(x=0.5, font=dict(size=22, family='Arial', color='#222')),\n",
    "    margin=dict(l=60, r=30, t=70, b=60),\n",
    "    width=1000,\n",
    "    height=550\n",
    ")\n",
    "\n",
    "fig.show()"
   ]
  },
  {
   "cell_type": "code",
   "execution_count": 29,
   "id": "2d9a6c0d",
   "metadata": {},
   "outputs": [
    {
     "data": {
      "application/vnd.plotly.v1+json": {
       "config": {
        "plotlyServerURL": "https://plot.ly"
       },
       "data": [
        {
         "hovertemplate": "Miesiąc=%{x}<br>Średnia liczba lotów=%{y}<extra></extra>",
         "legendgroup": "",
         "line": {
          "color": "#0072B5",
          "dash": "solid",
          "width": 4
         },
         "marker": {
          "color": "#FF9900",
          "line": {
           "color": "white",
           "width": 2
          },
          "size": 12,
          "symbol": "circle"
         },
         "mode": "lines+markers",
         "name": "",
         "orientation": "v",
         "showlegend": false,
         "type": "scatter",
         "x": [
          "Styczeń",
          "Luty",
          "Marzec",
          "Kwiecień",
          "Maj",
          "Czerwiec",
          "Lipiec",
          "Sierpień",
          "Wrzesień",
          "Październik",
          "Listopad",
          "Grudzień"
         ],
         "xaxis": "x",
         "y": {
          "bdata": "CCGEEEJIf0A1wnJPI+x+QDrnnHPOKXBAERERERERPkCMMcYYYwxAQJqZmZmZ+VJAU0oppZRSakDOOeecc85wQM3MzMzMjG9AfO+99957aUAzMzMzMyNiQN9777333mJA",
          "dtype": "f8"
         },
         "yaxis": "y"
        }
       ],
       "layout": {
        "font": {
         "family": "Arial",
         "size": 16
        },
        "height": 550,
        "legend": {
         "tracegroupgap": 0
        },
        "margin": {
         "b": 60,
         "l": 60,
         "r": 30,
         "t": 70
        },
        "plot_bgcolor": "white",
        "template": {
         "data": {
          "bar": [
           {
            "error_x": {
             "color": "#2a3f5f"
            },
            "error_y": {
             "color": "#2a3f5f"
            },
            "marker": {
             "line": {
              "color": "#E5ECF6",
              "width": 0.5
             },
             "pattern": {
              "fillmode": "overlay",
              "size": 10,
              "solidity": 0.2
             }
            },
            "type": "bar"
           }
          ],
          "barpolar": [
           {
            "marker": {
             "line": {
              "color": "#E5ECF6",
              "width": 0.5
             },
             "pattern": {
              "fillmode": "overlay",
              "size": 10,
              "solidity": 0.2
             }
            },
            "type": "barpolar"
           }
          ],
          "carpet": [
           {
            "aaxis": {
             "endlinecolor": "#2a3f5f",
             "gridcolor": "white",
             "linecolor": "white",
             "minorgridcolor": "white",
             "startlinecolor": "#2a3f5f"
            },
            "baxis": {
             "endlinecolor": "#2a3f5f",
             "gridcolor": "white",
             "linecolor": "white",
             "minorgridcolor": "white",
             "startlinecolor": "#2a3f5f"
            },
            "type": "carpet"
           }
          ],
          "choropleth": [
           {
            "colorbar": {
             "outlinewidth": 0,
             "ticks": ""
            },
            "type": "choropleth"
           }
          ],
          "contour": [
           {
            "colorbar": {
             "outlinewidth": 0,
             "ticks": ""
            },
            "colorscale": [
             [
              0,
              "#0d0887"
             ],
             [
              0.1111111111111111,
              "#46039f"
             ],
             [
              0.2222222222222222,
              "#7201a8"
             ],
             [
              0.3333333333333333,
              "#9c179e"
             ],
             [
              0.4444444444444444,
              "#bd3786"
             ],
             [
              0.5555555555555556,
              "#d8576b"
             ],
             [
              0.6666666666666666,
              "#ed7953"
             ],
             [
              0.7777777777777778,
              "#fb9f3a"
             ],
             [
              0.8888888888888888,
              "#fdca26"
             ],
             [
              1,
              "#f0f921"
             ]
            ],
            "type": "contour"
           }
          ],
          "contourcarpet": [
           {
            "colorbar": {
             "outlinewidth": 0,
             "ticks": ""
            },
            "type": "contourcarpet"
           }
          ],
          "heatmap": [
           {
            "colorbar": {
             "outlinewidth": 0,
             "ticks": ""
            },
            "colorscale": [
             [
              0,
              "#0d0887"
             ],
             [
              0.1111111111111111,
              "#46039f"
             ],
             [
              0.2222222222222222,
              "#7201a8"
             ],
             [
              0.3333333333333333,
              "#9c179e"
             ],
             [
              0.4444444444444444,
              "#bd3786"
             ],
             [
              0.5555555555555556,
              "#d8576b"
             ],
             [
              0.6666666666666666,
              "#ed7953"
             ],
             [
              0.7777777777777778,
              "#fb9f3a"
             ],
             [
              0.8888888888888888,
              "#fdca26"
             ],
             [
              1,
              "#f0f921"
             ]
            ],
            "type": "heatmap"
           }
          ],
          "histogram": [
           {
            "marker": {
             "pattern": {
              "fillmode": "overlay",
              "size": 10,
              "solidity": 0.2
             }
            },
            "type": "histogram"
           }
          ],
          "histogram2d": [
           {
            "colorbar": {
             "outlinewidth": 0,
             "ticks": ""
            },
            "colorscale": [
             [
              0,
              "#0d0887"
             ],
             [
              0.1111111111111111,
              "#46039f"
             ],
             [
              0.2222222222222222,
              "#7201a8"
             ],
             [
              0.3333333333333333,
              "#9c179e"
             ],
             [
              0.4444444444444444,
              "#bd3786"
             ],
             [
              0.5555555555555556,
              "#d8576b"
             ],
             [
              0.6666666666666666,
              "#ed7953"
             ],
             [
              0.7777777777777778,
              "#fb9f3a"
             ],
             [
              0.8888888888888888,
              "#fdca26"
             ],
             [
              1,
              "#f0f921"
             ]
            ],
            "type": "histogram2d"
           }
          ],
          "histogram2dcontour": [
           {
            "colorbar": {
             "outlinewidth": 0,
             "ticks": ""
            },
            "colorscale": [
             [
              0,
              "#0d0887"
             ],
             [
              0.1111111111111111,
              "#46039f"
             ],
             [
              0.2222222222222222,
              "#7201a8"
             ],
             [
              0.3333333333333333,
              "#9c179e"
             ],
             [
              0.4444444444444444,
              "#bd3786"
             ],
             [
              0.5555555555555556,
              "#d8576b"
             ],
             [
              0.6666666666666666,
              "#ed7953"
             ],
             [
              0.7777777777777778,
              "#fb9f3a"
             ],
             [
              0.8888888888888888,
              "#fdca26"
             ],
             [
              1,
              "#f0f921"
             ]
            ],
            "type": "histogram2dcontour"
           }
          ],
          "mesh3d": [
           {
            "colorbar": {
             "outlinewidth": 0,
             "ticks": ""
            },
            "type": "mesh3d"
           }
          ],
          "parcoords": [
           {
            "line": {
             "colorbar": {
              "outlinewidth": 0,
              "ticks": ""
             }
            },
            "type": "parcoords"
           }
          ],
          "pie": [
           {
            "automargin": true,
            "type": "pie"
           }
          ],
          "scatter": [
           {
            "fillpattern": {
             "fillmode": "overlay",
             "size": 10,
             "solidity": 0.2
            },
            "type": "scatter"
           }
          ],
          "scatter3d": [
           {
            "line": {
             "colorbar": {
              "outlinewidth": 0,
              "ticks": ""
             }
            },
            "marker": {
             "colorbar": {
              "outlinewidth": 0,
              "ticks": ""
             }
            },
            "type": "scatter3d"
           }
          ],
          "scattercarpet": [
           {
            "marker": {
             "colorbar": {
              "outlinewidth": 0,
              "ticks": ""
             }
            },
            "type": "scattercarpet"
           }
          ],
          "scattergeo": [
           {
            "marker": {
             "colorbar": {
              "outlinewidth": 0,
              "ticks": ""
             }
            },
            "type": "scattergeo"
           }
          ],
          "scattergl": [
           {
            "marker": {
             "colorbar": {
              "outlinewidth": 0,
              "ticks": ""
             }
            },
            "type": "scattergl"
           }
          ],
          "scattermap": [
           {
            "marker": {
             "colorbar": {
              "outlinewidth": 0,
              "ticks": ""
             }
            },
            "type": "scattermap"
           }
          ],
          "scattermapbox": [
           {
            "marker": {
             "colorbar": {
              "outlinewidth": 0,
              "ticks": ""
             }
            },
            "type": "scattermapbox"
           }
          ],
          "scatterpolar": [
           {
            "marker": {
             "colorbar": {
              "outlinewidth": 0,
              "ticks": ""
             }
            },
            "type": "scatterpolar"
           }
          ],
          "scatterpolargl": [
           {
            "marker": {
             "colorbar": {
              "outlinewidth": 0,
              "ticks": ""
             }
            },
            "type": "scatterpolargl"
           }
          ],
          "scatterternary": [
           {
            "marker": {
             "colorbar": {
              "outlinewidth": 0,
              "ticks": ""
             }
            },
            "type": "scatterternary"
           }
          ],
          "surface": [
           {
            "colorbar": {
             "outlinewidth": 0,
             "ticks": ""
            },
            "colorscale": [
             [
              0,
              "#0d0887"
             ],
             [
              0.1111111111111111,
              "#46039f"
             ],
             [
              0.2222222222222222,
              "#7201a8"
             ],
             [
              0.3333333333333333,
              "#9c179e"
             ],
             [
              0.4444444444444444,
              "#bd3786"
             ],
             [
              0.5555555555555556,
              "#d8576b"
             ],
             [
              0.6666666666666666,
              "#ed7953"
             ],
             [
              0.7777777777777778,
              "#fb9f3a"
             ],
             [
              0.8888888888888888,
              "#fdca26"
             ],
             [
              1,
              "#f0f921"
             ]
            ],
            "type": "surface"
           }
          ],
          "table": [
           {
            "cells": {
             "fill": {
              "color": "#EBF0F8"
             },
             "line": {
              "color": "white"
             }
            },
            "header": {
             "fill": {
              "color": "#C8D4E3"
             },
             "line": {
              "color": "white"
             }
            },
            "type": "table"
           }
          ]
         },
         "layout": {
          "annotationdefaults": {
           "arrowcolor": "#2a3f5f",
           "arrowhead": 0,
           "arrowwidth": 1
          },
          "autotypenumbers": "strict",
          "coloraxis": {
           "colorbar": {
            "outlinewidth": 0,
            "ticks": ""
           }
          },
          "colorscale": {
           "diverging": [
            [
             0,
             "#8e0152"
            ],
            [
             0.1,
             "#c51b7d"
            ],
            [
             0.2,
             "#de77ae"
            ],
            [
             0.3,
             "#f1b6da"
            ],
            [
             0.4,
             "#fde0ef"
            ],
            [
             0.5,
             "#f7f7f7"
            ],
            [
             0.6,
             "#e6f5d0"
            ],
            [
             0.7,
             "#b8e186"
            ],
            [
             0.8,
             "#7fbc41"
            ],
            [
             0.9,
             "#4d9221"
            ],
            [
             1,
             "#276419"
            ]
           ],
           "sequential": [
            [
             0,
             "#0d0887"
            ],
            [
             0.1111111111111111,
             "#46039f"
            ],
            [
             0.2222222222222222,
             "#7201a8"
            ],
            [
             0.3333333333333333,
             "#9c179e"
            ],
            [
             0.4444444444444444,
             "#bd3786"
            ],
            [
             0.5555555555555556,
             "#d8576b"
            ],
            [
             0.6666666666666666,
             "#ed7953"
            ],
            [
             0.7777777777777778,
             "#fb9f3a"
            ],
            [
             0.8888888888888888,
             "#fdca26"
            ],
            [
             1,
             "#f0f921"
            ]
           ],
           "sequentialminus": [
            [
             0,
             "#0d0887"
            ],
            [
             0.1111111111111111,
             "#46039f"
            ],
            [
             0.2222222222222222,
             "#7201a8"
            ],
            [
             0.3333333333333333,
             "#9c179e"
            ],
            [
             0.4444444444444444,
             "#bd3786"
            ],
            [
             0.5555555555555556,
             "#d8576b"
            ],
            [
             0.6666666666666666,
             "#ed7953"
            ],
            [
             0.7777777777777778,
             "#fb9f3a"
            ],
            [
             0.8888888888888888,
             "#fdca26"
            ],
            [
             1,
             "#f0f921"
            ]
           ]
          },
          "colorway": [
           "#636efa",
           "#EF553B",
           "#00cc96",
           "#ab63fa",
           "#FFA15A",
           "#19d3f3",
           "#FF6692",
           "#B6E880",
           "#FF97FF",
           "#FECB52"
          ],
          "font": {
           "color": "#2a3f5f"
          },
          "geo": {
           "bgcolor": "white",
           "lakecolor": "white",
           "landcolor": "#E5ECF6",
           "showlakes": true,
           "showland": true,
           "subunitcolor": "white"
          },
          "hoverlabel": {
           "align": "left"
          },
          "hovermode": "closest",
          "mapbox": {
           "style": "light"
          },
          "paper_bgcolor": "white",
          "plot_bgcolor": "#E5ECF6",
          "polar": {
           "angularaxis": {
            "gridcolor": "white",
            "linecolor": "white",
            "ticks": ""
           },
           "bgcolor": "#E5ECF6",
           "radialaxis": {
            "gridcolor": "white",
            "linecolor": "white",
            "ticks": ""
           }
          },
          "scene": {
           "xaxis": {
            "backgroundcolor": "#E5ECF6",
            "gridcolor": "white",
            "gridwidth": 2,
            "linecolor": "white",
            "showbackground": true,
            "ticks": "",
            "zerolinecolor": "white"
           },
           "yaxis": {
            "backgroundcolor": "#E5ECF6",
            "gridcolor": "white",
            "gridwidth": 2,
            "linecolor": "white",
            "showbackground": true,
            "ticks": "",
            "zerolinecolor": "white"
           },
           "zaxis": {
            "backgroundcolor": "#E5ECF6",
            "gridcolor": "white",
            "gridwidth": 2,
            "linecolor": "white",
            "showbackground": true,
            "ticks": "",
            "zerolinecolor": "white"
           }
          },
          "shapedefaults": {
           "line": {
            "color": "#2a3f5f"
           }
          },
          "ternary": {
           "aaxis": {
            "gridcolor": "white",
            "linecolor": "white",
            "ticks": ""
           },
           "baxis": {
            "gridcolor": "white",
            "linecolor": "white",
            "ticks": ""
           },
           "bgcolor": "#E5ECF6",
           "caxis": {
            "gridcolor": "white",
            "linecolor": "white",
            "ticks": ""
           }
          },
          "title": {
           "x": 0.05
          },
          "xaxis": {
           "automargin": true,
           "gridcolor": "white",
           "linecolor": "white",
           "ticks": "",
           "title": {
            "standoff": 15
           },
           "zerolinecolor": "white",
           "zerolinewidth": 2
          },
          "yaxis": {
           "automargin": true,
           "gridcolor": "white",
           "linecolor": "white",
           "ticks": "",
           "title": {
            "standoff": 15
           },
           "zerolinecolor": "white",
           "zerolinewidth": 2
          }
         }
        },
        "title": {
         "font": {
          "color": "#222",
          "family": "Arial",
          "size": 22
         },
         "text": "Średnia liczba lotów na Lotnisku Chopina w Warszawie (2020 rok)",
         "x": 0.5
        },
        "width": 1000,
        "xaxis": {
         "anchor": "y",
         "domain": [
          0,
          1
         ],
         "showgrid": false,
         "tickangle": -35,
         "tickfont": {
          "family": "Arial",
          "size": 16
         },
         "title": {
          "font": {
           "color": "#333",
           "family": "Arial",
           "size": 18
          },
          "text": "Miesiąc"
         }
        },
        "yaxis": {
         "anchor": "x",
         "domain": [
          0,
          1
         ],
         "gridcolor": "rgba(200,200,200,0.3)",
         "range": [
          -10,
          610
         ],
         "showgrid": true,
         "tickfont": {
          "family": "Arial",
          "size": 16
         },
         "title": {
          "font": {
           "color": "#333",
           "family": "Arial",
           "size": 18
          },
          "text": "Średnia liczba lotów"
         },
         "zeroline": false
        }
       }
      }
     },
     "metadata": {},
     "output_type": "display_data"
    }
   ],
   "source": [
    "airport_traffic_df['FLT_DATE'] = pd.to_datetime(airport_traffic_df['FLT_DATE'], errors='coerce')\n",
    "\n",
    "# Filtrowanie danych dla EPWA i roku 2021\n",
    "import plotly.express as px\n",
    "\n",
    "# Przygotowanie danych jak poprzednio\n",
    "epwa_2021 = airport_traffic_df[\n",
    "    (airport_traffic_df['APT_ICAO'] == 'EPWA') &\n",
    "    (airport_traffic_df['FLT_DATE'].dt.year == 2020)\n",
    "].copy()\n",
    "epwa_2021['FLT_TOT_1'] = pd.to_numeric(epwa_2021['FLT_TOT_1'], errors='coerce')\n",
    "epwa_2021['month'] = epwa_2021['FLT_DATE'].dt.month\n",
    "\n",
    "polish_months = {\n",
    "    1: 'Styczeń', 2: 'Luty', 3: 'Marzec', 4: 'Kwiecień',\n",
    "    5: 'Maj', 6: 'Czerwiec', 7: 'Lipiec', 8: 'Sierpień',\n",
    "    9: 'Wrzesień', 10: 'Październik', 11: 'Listopad', 12: 'Grudzień'\n",
    "}\n",
    "monthly_avg = epwa_2021.groupby('month')['FLT_TOT_1'].mean().reset_index()\n",
    "monthly_avg['month_name'] = monthly_avg['month'].map(polish_months)\n",
    "\n",
    "# Wykres liniowy w Plotly\n",
    "fig = px.line(\n",
    "    monthly_avg,\n",
    "    x='month_name',\n",
    "    y='FLT_TOT_1',\n",
    "    markers=True,\n",
    "    title='Średnia liczba lotów na Lotnisku Chopina w Warszawie (2020 rok)',\n",
    "    labels={'month_name': 'Miesiąc', 'FLT_TOT_1': 'Średnia liczba lotów'}\n",
    ")\n",
    "\n",
    "fig.update_traces(\n",
    "    line=dict(color='#0072B5', width=4),\n",
    "    marker=dict(size=12, color='#FF9900', line=dict(width=2, color='white'))\n",
    ")\n",
    "\n",
    "fig.update_layout(\n",
    "    xaxis=dict(\n",
    "        tickangle=-35,\n",
    "        showgrid=False,\n",
    "        tickfont=dict(size=16, family='Arial'),\n",
    "        title_font=dict(size=18, family='Arial', color='#333')\n",
    "    ),\n",
    "    yaxis=dict(\n",
    "        range=[-10, 610],\n",
    "        showgrid=True,\n",
    "        gridcolor='rgba(200,200,200,0.3)',\n",
    "        zeroline=False,\n",
    "        tickfont=dict(size=16, family='Arial'),\n",
    "        title_font=dict(size=18, family='Arial', color='#333')\n",
    "    ),\n",
    "    plot_bgcolor='white',\n",
    "    font=dict(size=16, family='Arial'),\n",
    "    title=dict(x=0.5, font=dict(size=22, family='Arial', color='#222')),\n",
    "    margin=dict(l=60, r=30, t=70, b=60),\n",
    "    width=1000,\n",
    "    height=550\n",
    ")\n",
    "\n",
    "fig.show()"
   ]
  },
  {
   "cell_type": "code",
   "execution_count": 34,
   "id": "f2c738b6",
   "metadata": {},
   "outputs": [
    {
     "data": {
      "application/vnd.plotly.v1+json": {
       "config": {
        "plotlyServerURL": "https://plot.ly"
       },
       "data": [
        {
         "hovertemplate": "Miesiąc=%{x}<br>Średnia liczba lotów=%{y}<extra></extra>",
         "legendgroup": "",
         "line": {
          "color": "#0072B5",
          "dash": "solid",
          "width": 4
         },
         "marker": {
          "color": "#FF9900",
          "line": {
           "color": "white",
           "width": 2
          },
          "size": 12,
          "symbol": "circle"
         },
         "mode": "lines+markers",
         "name": "",
         "orientation": "v",
         "showlegend": false,
         "type": "scatter",
         "x": [
          "Styczeń",
          "Luty",
          "Marzec",
          "Kwiecień",
          "Maj",
          "Czerwiec",
          "Lipiec",
          "Sierpień",
          "Wrzesień",
          "Październik",
          "Listopad",
          "Grudzień"
         ],
         "xaxis": "x",
         "y": {
          "bdata": "77333ntPYUAAAAAAAOBcQCGEEEIIYWFAAAAAAABQY0CMMcYYY8xlQCIiIiIiEnFAzjnnnHNedUCEEEIIIUR3QKuqqqqqundAnXPOOefMdEBERERERPR0QK211lprjXVA",
          "dtype": "f8"
         },
         "yaxis": "y"
        }
       ],
       "layout": {
        "font": {
         "family": "Arial",
         "size": 16
        },
        "height": 550,
        "legend": {
         "tracegroupgap": 0
        },
        "margin": {
         "b": 60,
         "l": 60,
         "r": 30,
         "t": 70
        },
        "plot_bgcolor": "white",
        "template": {
         "data": {
          "bar": [
           {
            "error_x": {
             "color": "#2a3f5f"
            },
            "error_y": {
             "color": "#2a3f5f"
            },
            "marker": {
             "line": {
              "color": "#E5ECF6",
              "width": 0.5
             },
             "pattern": {
              "fillmode": "overlay",
              "size": 10,
              "solidity": 0.2
             }
            },
            "type": "bar"
           }
          ],
          "barpolar": [
           {
            "marker": {
             "line": {
              "color": "#E5ECF6",
              "width": 0.5
             },
             "pattern": {
              "fillmode": "overlay",
              "size": 10,
              "solidity": 0.2
             }
            },
            "type": "barpolar"
           }
          ],
          "carpet": [
           {
            "aaxis": {
             "endlinecolor": "#2a3f5f",
             "gridcolor": "white",
             "linecolor": "white",
             "minorgridcolor": "white",
             "startlinecolor": "#2a3f5f"
            },
            "baxis": {
             "endlinecolor": "#2a3f5f",
             "gridcolor": "white",
             "linecolor": "white",
             "minorgridcolor": "white",
             "startlinecolor": "#2a3f5f"
            },
            "type": "carpet"
           }
          ],
          "choropleth": [
           {
            "colorbar": {
             "outlinewidth": 0,
             "ticks": ""
            },
            "type": "choropleth"
           }
          ],
          "contour": [
           {
            "colorbar": {
             "outlinewidth": 0,
             "ticks": ""
            },
            "colorscale": [
             [
              0,
              "#0d0887"
             ],
             [
              0.1111111111111111,
              "#46039f"
             ],
             [
              0.2222222222222222,
              "#7201a8"
             ],
             [
              0.3333333333333333,
              "#9c179e"
             ],
             [
              0.4444444444444444,
              "#bd3786"
             ],
             [
              0.5555555555555556,
              "#d8576b"
             ],
             [
              0.6666666666666666,
              "#ed7953"
             ],
             [
              0.7777777777777778,
              "#fb9f3a"
             ],
             [
              0.8888888888888888,
              "#fdca26"
             ],
             [
              1,
              "#f0f921"
             ]
            ],
            "type": "contour"
           }
          ],
          "contourcarpet": [
           {
            "colorbar": {
             "outlinewidth": 0,
             "ticks": ""
            },
            "type": "contourcarpet"
           }
          ],
          "heatmap": [
           {
            "colorbar": {
             "outlinewidth": 0,
             "ticks": ""
            },
            "colorscale": [
             [
              0,
              "#0d0887"
             ],
             [
              0.1111111111111111,
              "#46039f"
             ],
             [
              0.2222222222222222,
              "#7201a8"
             ],
             [
              0.3333333333333333,
              "#9c179e"
             ],
             [
              0.4444444444444444,
              "#bd3786"
             ],
             [
              0.5555555555555556,
              "#d8576b"
             ],
             [
              0.6666666666666666,
              "#ed7953"
             ],
             [
              0.7777777777777778,
              "#fb9f3a"
             ],
             [
              0.8888888888888888,
              "#fdca26"
             ],
             [
              1,
              "#f0f921"
             ]
            ],
            "type": "heatmap"
           }
          ],
          "histogram": [
           {
            "marker": {
             "pattern": {
              "fillmode": "overlay",
              "size": 10,
              "solidity": 0.2
             }
            },
            "type": "histogram"
           }
          ],
          "histogram2d": [
           {
            "colorbar": {
             "outlinewidth": 0,
             "ticks": ""
            },
            "colorscale": [
             [
              0,
              "#0d0887"
             ],
             [
              0.1111111111111111,
              "#46039f"
             ],
             [
              0.2222222222222222,
              "#7201a8"
             ],
             [
              0.3333333333333333,
              "#9c179e"
             ],
             [
              0.4444444444444444,
              "#bd3786"
             ],
             [
              0.5555555555555556,
              "#d8576b"
             ],
             [
              0.6666666666666666,
              "#ed7953"
             ],
             [
              0.7777777777777778,
              "#fb9f3a"
             ],
             [
              0.8888888888888888,
              "#fdca26"
             ],
             [
              1,
              "#f0f921"
             ]
            ],
            "type": "histogram2d"
           }
          ],
          "histogram2dcontour": [
           {
            "colorbar": {
             "outlinewidth": 0,
             "ticks": ""
            },
            "colorscale": [
             [
              0,
              "#0d0887"
             ],
             [
              0.1111111111111111,
              "#46039f"
             ],
             [
              0.2222222222222222,
              "#7201a8"
             ],
             [
              0.3333333333333333,
              "#9c179e"
             ],
             [
              0.4444444444444444,
              "#bd3786"
             ],
             [
              0.5555555555555556,
              "#d8576b"
             ],
             [
              0.6666666666666666,
              "#ed7953"
             ],
             [
              0.7777777777777778,
              "#fb9f3a"
             ],
             [
              0.8888888888888888,
              "#fdca26"
             ],
             [
              1,
              "#f0f921"
             ]
            ],
            "type": "histogram2dcontour"
           }
          ],
          "mesh3d": [
           {
            "colorbar": {
             "outlinewidth": 0,
             "ticks": ""
            },
            "type": "mesh3d"
           }
          ],
          "parcoords": [
           {
            "line": {
             "colorbar": {
              "outlinewidth": 0,
              "ticks": ""
             }
            },
            "type": "parcoords"
           }
          ],
          "pie": [
           {
            "automargin": true,
            "type": "pie"
           }
          ],
          "scatter": [
           {
            "fillpattern": {
             "fillmode": "overlay",
             "size": 10,
             "solidity": 0.2
            },
            "type": "scatter"
           }
          ],
          "scatter3d": [
           {
            "line": {
             "colorbar": {
              "outlinewidth": 0,
              "ticks": ""
             }
            },
            "marker": {
             "colorbar": {
              "outlinewidth": 0,
              "ticks": ""
             }
            },
            "type": "scatter3d"
           }
          ],
          "scattercarpet": [
           {
            "marker": {
             "colorbar": {
              "outlinewidth": 0,
              "ticks": ""
             }
            },
            "type": "scattercarpet"
           }
          ],
          "scattergeo": [
           {
            "marker": {
             "colorbar": {
              "outlinewidth": 0,
              "ticks": ""
             }
            },
            "type": "scattergeo"
           }
          ],
          "scattergl": [
           {
            "marker": {
             "colorbar": {
              "outlinewidth": 0,
              "ticks": ""
             }
            },
            "type": "scattergl"
           }
          ],
          "scattermap": [
           {
            "marker": {
             "colorbar": {
              "outlinewidth": 0,
              "ticks": ""
             }
            },
            "type": "scattermap"
           }
          ],
          "scattermapbox": [
           {
            "marker": {
             "colorbar": {
              "outlinewidth": 0,
              "ticks": ""
             }
            },
            "type": "scattermapbox"
           }
          ],
          "scatterpolar": [
           {
            "marker": {
             "colorbar": {
              "outlinewidth": 0,
              "ticks": ""
             }
            },
            "type": "scatterpolar"
           }
          ],
          "scatterpolargl": [
           {
            "marker": {
             "colorbar": {
              "outlinewidth": 0,
              "ticks": ""
             }
            },
            "type": "scatterpolargl"
           }
          ],
          "scatterternary": [
           {
            "marker": {
             "colorbar": {
              "outlinewidth": 0,
              "ticks": ""
             }
            },
            "type": "scatterternary"
           }
          ],
          "surface": [
           {
            "colorbar": {
             "outlinewidth": 0,
             "ticks": ""
            },
            "colorscale": [
             [
              0,
              "#0d0887"
             ],
             [
              0.1111111111111111,
              "#46039f"
             ],
             [
              0.2222222222222222,
              "#7201a8"
             ],
             [
              0.3333333333333333,
              "#9c179e"
             ],
             [
              0.4444444444444444,
              "#bd3786"
             ],
             [
              0.5555555555555556,
              "#d8576b"
             ],
             [
              0.6666666666666666,
              "#ed7953"
             ],
             [
              0.7777777777777778,
              "#fb9f3a"
             ],
             [
              0.8888888888888888,
              "#fdca26"
             ],
             [
              1,
              "#f0f921"
             ]
            ],
            "type": "surface"
           }
          ],
          "table": [
           {
            "cells": {
             "fill": {
              "color": "#EBF0F8"
             },
             "line": {
              "color": "white"
             }
            },
            "header": {
             "fill": {
              "color": "#C8D4E3"
             },
             "line": {
              "color": "white"
             }
            },
            "type": "table"
           }
          ]
         },
         "layout": {
          "annotationdefaults": {
           "arrowcolor": "#2a3f5f",
           "arrowhead": 0,
           "arrowwidth": 1
          },
          "autotypenumbers": "strict",
          "coloraxis": {
           "colorbar": {
            "outlinewidth": 0,
            "ticks": ""
           }
          },
          "colorscale": {
           "diverging": [
            [
             0,
             "#8e0152"
            ],
            [
             0.1,
             "#c51b7d"
            ],
            [
             0.2,
             "#de77ae"
            ],
            [
             0.3,
             "#f1b6da"
            ],
            [
             0.4,
             "#fde0ef"
            ],
            [
             0.5,
             "#f7f7f7"
            ],
            [
             0.6,
             "#e6f5d0"
            ],
            [
             0.7,
             "#b8e186"
            ],
            [
             0.8,
             "#7fbc41"
            ],
            [
             0.9,
             "#4d9221"
            ],
            [
             1,
             "#276419"
            ]
           ],
           "sequential": [
            [
             0,
             "#0d0887"
            ],
            [
             0.1111111111111111,
             "#46039f"
            ],
            [
             0.2222222222222222,
             "#7201a8"
            ],
            [
             0.3333333333333333,
             "#9c179e"
            ],
            [
             0.4444444444444444,
             "#bd3786"
            ],
            [
             0.5555555555555556,
             "#d8576b"
            ],
            [
             0.6666666666666666,
             "#ed7953"
            ],
            [
             0.7777777777777778,
             "#fb9f3a"
            ],
            [
             0.8888888888888888,
             "#fdca26"
            ],
            [
             1,
             "#f0f921"
            ]
           ],
           "sequentialminus": [
            [
             0,
             "#0d0887"
            ],
            [
             0.1111111111111111,
             "#46039f"
            ],
            [
             0.2222222222222222,
             "#7201a8"
            ],
            [
             0.3333333333333333,
             "#9c179e"
            ],
            [
             0.4444444444444444,
             "#bd3786"
            ],
            [
             0.5555555555555556,
             "#d8576b"
            ],
            [
             0.6666666666666666,
             "#ed7953"
            ],
            [
             0.7777777777777778,
             "#fb9f3a"
            ],
            [
             0.8888888888888888,
             "#fdca26"
            ],
            [
             1,
             "#f0f921"
            ]
           ]
          },
          "colorway": [
           "#636efa",
           "#EF553B",
           "#00cc96",
           "#ab63fa",
           "#FFA15A",
           "#19d3f3",
           "#FF6692",
           "#B6E880",
           "#FF97FF",
           "#FECB52"
          ],
          "font": {
           "color": "#2a3f5f"
          },
          "geo": {
           "bgcolor": "white",
           "lakecolor": "white",
           "landcolor": "#E5ECF6",
           "showlakes": true,
           "showland": true,
           "subunitcolor": "white"
          },
          "hoverlabel": {
           "align": "left"
          },
          "hovermode": "closest",
          "mapbox": {
           "style": "light"
          },
          "paper_bgcolor": "white",
          "plot_bgcolor": "#E5ECF6",
          "polar": {
           "angularaxis": {
            "gridcolor": "white",
            "linecolor": "white",
            "ticks": ""
           },
           "bgcolor": "#E5ECF6",
           "radialaxis": {
            "gridcolor": "white",
            "linecolor": "white",
            "ticks": ""
           }
          },
          "scene": {
           "xaxis": {
            "backgroundcolor": "#E5ECF6",
            "gridcolor": "white",
            "gridwidth": 2,
            "linecolor": "white",
            "showbackground": true,
            "ticks": "",
            "zerolinecolor": "white"
           },
           "yaxis": {
            "backgroundcolor": "#E5ECF6",
            "gridcolor": "white",
            "gridwidth": 2,
            "linecolor": "white",
            "showbackground": true,
            "ticks": "",
            "zerolinecolor": "white"
           },
           "zaxis": {
            "backgroundcolor": "#E5ECF6",
            "gridcolor": "white",
            "gridwidth": 2,
            "linecolor": "white",
            "showbackground": true,
            "ticks": "",
            "zerolinecolor": "white"
           }
          },
          "shapedefaults": {
           "line": {
            "color": "#2a3f5f"
           }
          },
          "ternary": {
           "aaxis": {
            "gridcolor": "white",
            "linecolor": "white",
            "ticks": ""
           },
           "baxis": {
            "gridcolor": "white",
            "linecolor": "white",
            "ticks": ""
           },
           "bgcolor": "#E5ECF6",
           "caxis": {
            "gridcolor": "white",
            "linecolor": "white",
            "ticks": ""
           }
          },
          "title": {
           "x": 0.05
          },
          "xaxis": {
           "automargin": true,
           "gridcolor": "white",
           "linecolor": "white",
           "ticks": "",
           "title": {
            "standoff": 15
           },
           "zerolinecolor": "white",
           "zerolinewidth": 2
          },
          "yaxis": {
           "automargin": true,
           "gridcolor": "white",
           "linecolor": "white",
           "ticks": "",
           "title": {
            "standoff": 15
           },
           "zerolinecolor": "white",
           "zerolinewidth": 2
          }
         }
        },
        "title": {
         "font": {
          "color": "#222",
          "family": "Arial",
          "size": 22
         },
         "text": "Średnia liczba lotów na Lotnisku Chopina w Warszawie (2021 rok)",
         "x": 0.5
        },
        "width": 1000,
        "xaxis": {
         "anchor": "y",
         "domain": [
          0,
          1
         ],
         "showgrid": false,
         "tickangle": -35,
         "tickfont": {
          "family": "Arial",
          "size": 16
         },
         "title": {
          "font": {
           "color": "#333",
           "family": "Arial",
           "size": 18
          },
          "text": "Miesiąc"
         }
        },
        "yaxis": {
         "anchor": "x",
         "domain": [
          0,
          1
         ],
         "gridcolor": "rgba(200,200,200,0.3)",
         "range": [
          -10,
          610
         ],
         "showgrid": true,
         "tickfont": {
          "family": "Arial",
          "size": 16
         },
         "title": {
          "font": {
           "color": "#333",
           "family": "Arial",
           "size": 18
          },
          "text": "Średnia liczba lotów"
         },
         "zeroline": false
        }
       }
      }
     },
     "metadata": {},
     "output_type": "display_data"
    }
   ],
   "source": [
    "airport_traffic_df['FLT_DATE'] = pd.to_datetime(airport_traffic_df['FLT_DATE'], errors='coerce')\n",
    "\n",
    "# Filtrowanie danych dla EPWA i roku 2021\n",
    "import plotly.express as px\n",
    "\n",
    "# Przygotowanie danych jak poprzednio\n",
    "epwa_2021 = airport_traffic_df[\n",
    "    (airport_traffic_df['APT_ICAO'] == 'EPWA') &\n",
    "    (airport_traffic_df['FLT_DATE'].dt.year == 2021)\n",
    "].copy()\n",
    "epwa_2021['FLT_TOT_1'] = pd.to_numeric(epwa_2021['FLT_TOT_1'], errors='coerce')\n",
    "epwa_2021['month'] = epwa_2021['FLT_DATE'].dt.month\n",
    "\n",
    "polish_months = {\n",
    "    1: 'Styczeń', 2: 'Luty', 3: 'Marzec', 4: 'Kwiecień',\n",
    "    5: 'Maj', 6: 'Czerwiec', 7: 'Lipiec', 8: 'Sierpień',\n",
    "    9: 'Wrzesień', 10: 'Październik', 11: 'Listopad', 12: 'Grudzień'\n",
    "}\n",
    "monthly_avg = epwa_2021.groupby('month')['FLT_TOT_1'].mean().reset_index()\n",
    "monthly_avg['month_name'] = monthly_avg['month'].map(polish_months)\n",
    "\n",
    "# Wykres liniowy w Plotly\n",
    "fig = px.line(\n",
    "    monthly_avg,\n",
    "    x='month_name',\n",
    "    y='FLT_TOT_1',\n",
    "    markers=True,\n",
    "    title='Średnia liczba lotów na Lotnisku Chopina w Warszawie (2021 rok)',\n",
    "    labels={'month_name': 'Miesiąc', 'FLT_TOT_1': 'Średnia liczba lotów'}\n",
    ")\n",
    "\n",
    "fig.update_traces(\n",
    "    line=dict(color='#0072B5', width=4),\n",
    "    marker=dict(size=12, color='#FF9900', line=dict(width=2, color='white'))\n",
    ")\n",
    "\n",
    "fig.update_layout(\n",
    "    xaxis=dict(\n",
    "        tickangle=-35,\n",
    "        showgrid=False,\n",
    "        tickfont=dict(size=16, family='Arial'),\n",
    "        title_font=dict(size=18, family='Arial', color='#333')\n",
    "    ),\n",
    "    yaxis=dict(\n",
    "        range=[-10, 610],\n",
    "        showgrid=True,\n",
    "        gridcolor='rgba(200,200,200,0.3)',\n",
    "        zeroline=False,\n",
    "        tickfont=dict(size=16, family='Arial'),\n",
    "        title_font=dict(size=18, family='Arial', color='#333')\n",
    "    ),\n",
    "    plot_bgcolor='white',\n",
    "    font=dict(size=16, family='Arial'),\n",
    "    title=dict(x=0.5, font=dict(size=22, family='Arial', color='#222')),\n",
    "    margin=dict(l=60, r=30, t=70, b=60),\n",
    "    width=1000,\n",
    "    height=550\n",
    ")\n",
    "\n",
    "fig.show()"
   ]
  },
  {
   "cell_type": "code",
   "execution_count": 56,
   "id": "5ad6ea87",
   "metadata": {},
   "outputs": [
    {
     "data": {
      "application/vnd.plotly.v1+json": {
       "config": {
        "plotlyServerURL": "https://plot.ly"
       },
       "data": [
        {
         "alignmentgroup": "True",
         "hovertemplate": "Rok=2019<br>Lotnisko=%{x}<br>Średnia liczba lotów=%{text}<extra></extra>",
         "legendgroup": "2019",
         "marker": {
          "color": "indianred",
          "line": {
           "color": "white",
           "width": 1
          },
          "pattern": {
           "shape": ""
          }
         },
         "name": "2019",
         "offsetgroup": "2019",
         "orientation": "v",
         "showlegend": true,
         "text": {
          "bdata": "AAAAAACggEAAAAAAAHiUQAAAAAAAAJZA",
          "dtype": "f8"
         },
         "textposition": "outside",
         "texttemplate": "%{text}",
         "type": "bar",
         "width": 0.3,
         "x": [
          "Warszawa",
          "Londyn",
          "Frankfurt"
         ],
         "xaxis": "x",
         "y": {
          "bdata": "FAIeBYAF",
          "dtype": "i2"
         },
         "yaxis": "y"
        },
        {
         "alignmentgroup": "True",
         "hovertemplate": "Rok=2024<br>Lotnisko=%{x}<br>Średnia liczba lotów=%{text}<extra></extra>",
         "legendgroup": "2024",
         "marker": {
          "color": "lightsalmon",
          "line": {
           "color": "white",
           "width": 1
          },
          "pattern": {
           "shape": ""
          }
         },
         "name": "2024",
         "offsetgroup": "2024",
         "orientation": "v",
         "showlegend": true,
         "text": {
          "bdata": "AAAAAABAf0AAAAAAAFiUQAAAAAAA0JJA",
          "dtype": "f8"
         },
         "textposition": "outside",
         "texttemplate": "%{text}",
         "type": "bar",
         "width": 0.3,
         "x": [
          "Warszawa",
          "Londyn",
          "Frankfurt"
         ],
         "xaxis": "x",
         "y": {
          "bdata": "9AEWBbQE",
          "dtype": "i2"
         },
         "yaxis": "y"
        }
       ],
       "layout": {
        "barmode": "group",
        "font": {
         "family": "Arial",
         "size": 16
        },
        "height": 550,
        "legend": {
         "bgcolor": "rgba(255,255,255,0.7)",
         "bordercolor": "#ccc",
         "borderwidth": 1,
         "font": {
          "family": "Arial",
          "size": 16
         },
         "orientation": "v",
         "title": {
          "text": "Rok"
         },
         "tracegroupgap": 0,
         "x": 1.02,
         "xanchor": "left",
         "y": 0.98,
         "yanchor": "top"
        },
        "margin": {
         "b": 60,
         "l": 60,
         "r": 60,
         "t": 90
        },
        "plot_bgcolor": "white",
        "template": {
         "data": {
          "bar": [
           {
            "error_x": {
             "color": "#2a3f5f"
            },
            "error_y": {
             "color": "#2a3f5f"
            },
            "marker": {
             "line": {
              "color": "#E5ECF6",
              "width": 0.5
             },
             "pattern": {
              "fillmode": "overlay",
              "size": 10,
              "solidity": 0.2
             }
            },
            "type": "bar"
           }
          ],
          "barpolar": [
           {
            "marker": {
             "line": {
              "color": "#E5ECF6",
              "width": 0.5
             },
             "pattern": {
              "fillmode": "overlay",
              "size": 10,
              "solidity": 0.2
             }
            },
            "type": "barpolar"
           }
          ],
          "carpet": [
           {
            "aaxis": {
             "endlinecolor": "#2a3f5f",
             "gridcolor": "white",
             "linecolor": "white",
             "minorgridcolor": "white",
             "startlinecolor": "#2a3f5f"
            },
            "baxis": {
             "endlinecolor": "#2a3f5f",
             "gridcolor": "white",
             "linecolor": "white",
             "minorgridcolor": "white",
             "startlinecolor": "#2a3f5f"
            },
            "type": "carpet"
           }
          ],
          "choropleth": [
           {
            "colorbar": {
             "outlinewidth": 0,
             "ticks": ""
            },
            "type": "choropleth"
           }
          ],
          "contour": [
           {
            "colorbar": {
             "outlinewidth": 0,
             "ticks": ""
            },
            "colorscale": [
             [
              0,
              "#0d0887"
             ],
             [
              0.1111111111111111,
              "#46039f"
             ],
             [
              0.2222222222222222,
              "#7201a8"
             ],
             [
              0.3333333333333333,
              "#9c179e"
             ],
             [
              0.4444444444444444,
              "#bd3786"
             ],
             [
              0.5555555555555556,
              "#d8576b"
             ],
             [
              0.6666666666666666,
              "#ed7953"
             ],
             [
              0.7777777777777778,
              "#fb9f3a"
             ],
             [
              0.8888888888888888,
              "#fdca26"
             ],
             [
              1,
              "#f0f921"
             ]
            ],
            "type": "contour"
           }
          ],
          "contourcarpet": [
           {
            "colorbar": {
             "outlinewidth": 0,
             "ticks": ""
            },
            "type": "contourcarpet"
           }
          ],
          "heatmap": [
           {
            "colorbar": {
             "outlinewidth": 0,
             "ticks": ""
            },
            "colorscale": [
             [
              0,
              "#0d0887"
             ],
             [
              0.1111111111111111,
              "#46039f"
             ],
             [
              0.2222222222222222,
              "#7201a8"
             ],
             [
              0.3333333333333333,
              "#9c179e"
             ],
             [
              0.4444444444444444,
              "#bd3786"
             ],
             [
              0.5555555555555556,
              "#d8576b"
             ],
             [
              0.6666666666666666,
              "#ed7953"
             ],
             [
              0.7777777777777778,
              "#fb9f3a"
             ],
             [
              0.8888888888888888,
              "#fdca26"
             ],
             [
              1,
              "#f0f921"
             ]
            ],
            "type": "heatmap"
           }
          ],
          "histogram": [
           {
            "marker": {
             "pattern": {
              "fillmode": "overlay",
              "size": 10,
              "solidity": 0.2
             }
            },
            "type": "histogram"
           }
          ],
          "histogram2d": [
           {
            "colorbar": {
             "outlinewidth": 0,
             "ticks": ""
            },
            "colorscale": [
             [
              0,
              "#0d0887"
             ],
             [
              0.1111111111111111,
              "#46039f"
             ],
             [
              0.2222222222222222,
              "#7201a8"
             ],
             [
              0.3333333333333333,
              "#9c179e"
             ],
             [
              0.4444444444444444,
              "#bd3786"
             ],
             [
              0.5555555555555556,
              "#d8576b"
             ],
             [
              0.6666666666666666,
              "#ed7953"
             ],
             [
              0.7777777777777778,
              "#fb9f3a"
             ],
             [
              0.8888888888888888,
              "#fdca26"
             ],
             [
              1,
              "#f0f921"
             ]
            ],
            "type": "histogram2d"
           }
          ],
          "histogram2dcontour": [
           {
            "colorbar": {
             "outlinewidth": 0,
             "ticks": ""
            },
            "colorscale": [
             [
              0,
              "#0d0887"
             ],
             [
              0.1111111111111111,
              "#46039f"
             ],
             [
              0.2222222222222222,
              "#7201a8"
             ],
             [
              0.3333333333333333,
              "#9c179e"
             ],
             [
              0.4444444444444444,
              "#bd3786"
             ],
             [
              0.5555555555555556,
              "#d8576b"
             ],
             [
              0.6666666666666666,
              "#ed7953"
             ],
             [
              0.7777777777777778,
              "#fb9f3a"
             ],
             [
              0.8888888888888888,
              "#fdca26"
             ],
             [
              1,
              "#f0f921"
             ]
            ],
            "type": "histogram2dcontour"
           }
          ],
          "mesh3d": [
           {
            "colorbar": {
             "outlinewidth": 0,
             "ticks": ""
            },
            "type": "mesh3d"
           }
          ],
          "parcoords": [
           {
            "line": {
             "colorbar": {
              "outlinewidth": 0,
              "ticks": ""
             }
            },
            "type": "parcoords"
           }
          ],
          "pie": [
           {
            "automargin": true,
            "type": "pie"
           }
          ],
          "scatter": [
           {
            "fillpattern": {
             "fillmode": "overlay",
             "size": 10,
             "solidity": 0.2
            },
            "type": "scatter"
           }
          ],
          "scatter3d": [
           {
            "line": {
             "colorbar": {
              "outlinewidth": 0,
              "ticks": ""
             }
            },
            "marker": {
             "colorbar": {
              "outlinewidth": 0,
              "ticks": ""
             }
            },
            "type": "scatter3d"
           }
          ],
          "scattercarpet": [
           {
            "marker": {
             "colorbar": {
              "outlinewidth": 0,
              "ticks": ""
             }
            },
            "type": "scattercarpet"
           }
          ],
          "scattergeo": [
           {
            "marker": {
             "colorbar": {
              "outlinewidth": 0,
              "ticks": ""
             }
            },
            "type": "scattergeo"
           }
          ],
          "scattergl": [
           {
            "marker": {
             "colorbar": {
              "outlinewidth": 0,
              "ticks": ""
             }
            },
            "type": "scattergl"
           }
          ],
          "scattermap": [
           {
            "marker": {
             "colorbar": {
              "outlinewidth": 0,
              "ticks": ""
             }
            },
            "type": "scattermap"
           }
          ],
          "scattermapbox": [
           {
            "marker": {
             "colorbar": {
              "outlinewidth": 0,
              "ticks": ""
             }
            },
            "type": "scattermapbox"
           }
          ],
          "scatterpolar": [
           {
            "marker": {
             "colorbar": {
              "outlinewidth": 0,
              "ticks": ""
             }
            },
            "type": "scatterpolar"
           }
          ],
          "scatterpolargl": [
           {
            "marker": {
             "colorbar": {
              "outlinewidth": 0,
              "ticks": ""
             }
            },
            "type": "scatterpolargl"
           }
          ],
          "scatterternary": [
           {
            "marker": {
             "colorbar": {
              "outlinewidth": 0,
              "ticks": ""
             }
            },
            "type": "scatterternary"
           }
          ],
          "surface": [
           {
            "colorbar": {
             "outlinewidth": 0,
             "ticks": ""
            },
            "colorscale": [
             [
              0,
              "#0d0887"
             ],
             [
              0.1111111111111111,
              "#46039f"
             ],
             [
              0.2222222222222222,
              "#7201a8"
             ],
             [
              0.3333333333333333,
              "#9c179e"
             ],
             [
              0.4444444444444444,
              "#bd3786"
             ],
             [
              0.5555555555555556,
              "#d8576b"
             ],
             [
              0.6666666666666666,
              "#ed7953"
             ],
             [
              0.7777777777777778,
              "#fb9f3a"
             ],
             [
              0.8888888888888888,
              "#fdca26"
             ],
             [
              1,
              "#f0f921"
             ]
            ],
            "type": "surface"
           }
          ],
          "table": [
           {
            "cells": {
             "fill": {
              "color": "#EBF0F8"
             },
             "line": {
              "color": "white"
             }
            },
            "header": {
             "fill": {
              "color": "#C8D4E3"
             },
             "line": {
              "color": "white"
             }
            },
            "type": "table"
           }
          ]
         },
         "layout": {
          "annotationdefaults": {
           "arrowcolor": "#2a3f5f",
           "arrowhead": 0,
           "arrowwidth": 1
          },
          "autotypenumbers": "strict",
          "coloraxis": {
           "colorbar": {
            "outlinewidth": 0,
            "ticks": ""
           }
          },
          "colorscale": {
           "diverging": [
            [
             0,
             "#8e0152"
            ],
            [
             0.1,
             "#c51b7d"
            ],
            [
             0.2,
             "#de77ae"
            ],
            [
             0.3,
             "#f1b6da"
            ],
            [
             0.4,
             "#fde0ef"
            ],
            [
             0.5,
             "#f7f7f7"
            ],
            [
             0.6,
             "#e6f5d0"
            ],
            [
             0.7,
             "#b8e186"
            ],
            [
             0.8,
             "#7fbc41"
            ],
            [
             0.9,
             "#4d9221"
            ],
            [
             1,
             "#276419"
            ]
           ],
           "sequential": [
            [
             0,
             "#0d0887"
            ],
            [
             0.1111111111111111,
             "#46039f"
            ],
            [
             0.2222222222222222,
             "#7201a8"
            ],
            [
             0.3333333333333333,
             "#9c179e"
            ],
            [
             0.4444444444444444,
             "#bd3786"
            ],
            [
             0.5555555555555556,
             "#d8576b"
            ],
            [
             0.6666666666666666,
             "#ed7953"
            ],
            [
             0.7777777777777778,
             "#fb9f3a"
            ],
            [
             0.8888888888888888,
             "#fdca26"
            ],
            [
             1,
             "#f0f921"
            ]
           ],
           "sequentialminus": [
            [
             0,
             "#0d0887"
            ],
            [
             0.1111111111111111,
             "#46039f"
            ],
            [
             0.2222222222222222,
             "#7201a8"
            ],
            [
             0.3333333333333333,
             "#9c179e"
            ],
            [
             0.4444444444444444,
             "#bd3786"
            ],
            [
             0.5555555555555556,
             "#d8576b"
            ],
            [
             0.6666666666666666,
             "#ed7953"
            ],
            [
             0.7777777777777778,
             "#fb9f3a"
            ],
            [
             0.8888888888888888,
             "#fdca26"
            ],
            [
             1,
             "#f0f921"
            ]
           ]
          },
          "colorway": [
           "#636efa",
           "#EF553B",
           "#00cc96",
           "#ab63fa",
           "#FFA15A",
           "#19d3f3",
           "#FF6692",
           "#B6E880",
           "#FF97FF",
           "#FECB52"
          ],
          "font": {
           "color": "#2a3f5f"
          },
          "geo": {
           "bgcolor": "white",
           "lakecolor": "white",
           "landcolor": "#E5ECF6",
           "showlakes": true,
           "showland": true,
           "subunitcolor": "white"
          },
          "hoverlabel": {
           "align": "left"
          },
          "hovermode": "closest",
          "mapbox": {
           "style": "light"
          },
          "paper_bgcolor": "white",
          "plot_bgcolor": "#E5ECF6",
          "polar": {
           "angularaxis": {
            "gridcolor": "white",
            "linecolor": "white",
            "ticks": ""
           },
           "bgcolor": "#E5ECF6",
           "radialaxis": {
            "gridcolor": "white",
            "linecolor": "white",
            "ticks": ""
           }
          },
          "scene": {
           "xaxis": {
            "backgroundcolor": "#E5ECF6",
            "gridcolor": "white",
            "gridwidth": 2,
            "linecolor": "white",
            "showbackground": true,
            "ticks": "",
            "zerolinecolor": "white"
           },
           "yaxis": {
            "backgroundcolor": "#E5ECF6",
            "gridcolor": "white",
            "gridwidth": 2,
            "linecolor": "white",
            "showbackground": true,
            "ticks": "",
            "zerolinecolor": "white"
           },
           "zaxis": {
            "backgroundcolor": "#E5ECF6",
            "gridcolor": "white",
            "gridwidth": 2,
            "linecolor": "white",
            "showbackground": true,
            "ticks": "",
            "zerolinecolor": "white"
           }
          },
          "shapedefaults": {
           "line": {
            "color": "#2a3f5f"
           }
          },
          "ternary": {
           "aaxis": {
            "gridcolor": "white",
            "linecolor": "white",
            "ticks": ""
           },
           "baxis": {
            "gridcolor": "white",
            "linecolor": "white",
            "ticks": ""
           },
           "bgcolor": "#E5ECF6",
           "caxis": {
            "gridcolor": "white",
            "linecolor": "white",
            "ticks": ""
           }
          },
          "title": {
           "x": 0.05
          },
          "xaxis": {
           "automargin": true,
           "gridcolor": "white",
           "linecolor": "white",
           "ticks": "",
           "title": {
            "standoff": 15
           },
           "zerolinecolor": "white",
           "zerolinewidth": 2
          },
          "yaxis": {
           "automargin": true,
           "gridcolor": "white",
           "linecolor": "white",
           "ticks": "",
           "title": {
            "standoff": 15
           },
           "zerolinecolor": "white",
           "zerolinewidth": 2
          }
         }
        },
        "title": {
         "font": {
          "color": "#222",
          "family": "Arial",
          "size": 22
         },
         "text": "Średnia liczba lotów dziennie na wybranych lotniskach",
         "x": 0.5
        },
        "width": 950,
        "xaxis": {
         "anchor": "y",
         "domain": [
          0,
          1
         ],
         "tickfont": {
          "family": "Arial",
          "size": 16
         },
         "title": {
          "font": {
           "color": "#333",
           "family": "Arial",
           "size": 18
          },
          "text": "Lotnisko"
         }
        },
        "yaxis": {
         "anchor": "x",
         "domain": [
          0,
          1
         ],
         "gridcolor": "rgba(200,200,200,0.3)",
         "showgrid": true,
         "tickfont": {
          "family": "Arial",
          "size": 16
         },
         "title": {
          "font": {
           "color": "#333",
           "family": "Arial",
           "size": 18
          },
          "text": "Średnia liczba lotów dziennie"
         }
        }
       }
      }
     },
     "metadata": {},
     "output_type": "display_data"
    }
   ],
   "source": [
    "import plotly.express as px\n",
    "\n",
    "# Przygotowanie danych\n",
    "airports = {\n",
    "    'Warszawa': 'EPWA',\n",
    "    'Londyn': 'EGLL',\n",
    "    'Frankfurt': 'EDDF'\n",
    "}\n",
    "years = [2019, 2024]\n",
    "\n",
    "data = []\n",
    "for city, icao in airports.items():\n",
    "    for year in years:\n",
    "        avg = airport_traffic_df[\n",
    "            (airport_traffic_df['APT_ICAO'] == icao) &\n",
    "            (pd.to_datetime(airport_traffic_df['FLT_DATE'], errors='coerce').dt.year == year)\n",
    "        ]['FLT_TOT_1'].astype(float).mean()\n",
    "        data.append({'Lotnisko': city, 'Rok': str(year), 'Średnia liczba lotów': int(round(avg))})\n",
    "\n",
    "df_bar = pd.DataFrame(data)\n",
    "\n",
    "# Wykres słupkowy z ładnym formatowaniem, każda para obok siebie\n",
    "fig = px.bar(\n",
    "    df_bar,\n",
    "    x='Lotnisko',\n",
    "    y='Średnia liczba lotów',\n",
    "    color='Rok',\n",
    "    barmode='group',\n",
    "    text='Średnia liczba lotów',\n",
    "    color_discrete_map={'2019': 'indianred', '2024': 'lightsalmon'},\n",
    "    category_orders={'Rok': ['2019', '2024']}\n",
    ")\n",
    "\n",
    "fig.update_traces(\n",
    "    texttemplate='%{text}', \n",
    "    textposition='outside',\n",
    "    marker_line_width=1,\n",
    "    marker_line_color='white',\n",
    "    width=0.3\n",
    ")\n",
    "\n",
    "fig.update_layout(\n",
    "    title=dict(\n",
    "        text='Średnia liczba lotów dziennie na wybranych lotniskach',\n",
    "        x=0.5,\n",
    "        font=dict(size=22, family='Arial', color='#222')\n",
    "    ),\n",
    "    xaxis=dict(\n",
    "        title='Lotnisko',\n",
    "        tickfont=dict(size=16, family='Arial'),\n",
    "        title_font=dict(size=18, family='Arial', color='#333')\n",
    "    ),\n",
    "    yaxis=dict(\n",
    "        title='Średnia liczba lotów dziennie',\n",
    "        tickfont=dict(size=16, family='Arial'),\n",
    "        title_font=dict(size=18, family='Arial', color='#333'),\n",
    "        showgrid=True,\n",
    "        gridcolor='rgba(200,200,200,0.3)'\n",
    "    ),\n",
    "    legend=dict(\n",
    "        title='Rok',\n",
    "        orientation='v',\n",
    "        yanchor='top',\n",
    "        y=0.98,\n",
    "        xanchor='left',\n",
    "        x=1.02,\n",
    "        font=dict(size=16, family='Arial'),\n",
    "        bgcolor='rgba(255,255,255,0.7)',\n",
    "        bordercolor='#ccc',\n",
    "        borderwidth=1\n",
    "    ),\n",
    "    plot_bgcolor='white',\n",
    "    font=dict(size=16, family='Arial'),\n",
    "    margin=dict(l=60, r=60, t=90, b=60),\n",
    "    width=950,\n",
    "    height=550\n",
    ")\n",
    "\n",
    "fig.show()"
   ]
  },
  {
   "cell_type": "code",
   "execution_count": 83,
   "id": "5bcb33f9",
   "metadata": {},
   "outputs": [
    {
     "name": "stderr",
     "output_type": "stream",
     "text": [
      "C:\\Users\\pawci\\AppData\\Local\\Temp\\ipykernel_2288\\2661338694.py:15: MatplotlibDeprecationWarning:\n",
      "\n",
      "The get_cmap function was deprecated in Matplotlib 3.7 and will be removed in 3.11. Use ``matplotlib.colormaps[name]`` or ``matplotlib.colormaps.get_cmap()`` or ``pyplot.get_cmap()`` instead.\n",
      "\n"
     ]
    },
    {
     "data": {
      "application/vnd.plotly.v1+json": {
       "config": {
        "plotlyServerURL": "https://plot.ly"
       },
       "data": [
        {
         "marker": {
          "color": [
           "#bbd6eb",
           "#88bedc",
           "#549ecd",
           "#2a7aba",
           "#0c56a0",
           "#08306b",
           "rgba(0,0,0,0)"
          ]
         },
         "showlegend": false,
         "text": [
          "532",
          "218",
          "259",
          "397",
          "453",
          "500",
          ""
         ],
         "textposition": "outside",
         "type": "bar",
         "x": [
          "Warszawa_2019",
          "Warszawa_2020",
          "Warszawa_2021",
          "Warszawa_2022",
          "Warszawa_2023",
          "Warszawa_2024",
          "spacer_Warszawa"
         ],
         "y": [
          532,
          218,
          259,
          397,
          453,
          500,
          null
         ]
        },
        {
         "hoverinfo": "skip",
         "marker": {
          "color": "#2a7aba"
         },
         "name": "Warszawa",
         "showlegend": true,
         "type": "bar",
         "x": [
          null
         ],
         "y": [
          null
         ]
        },
        {
         "marker": {
          "color": [
           "#bce4b5",
           "#8ed08b",
           "#57b668",
           "#2c944c",
           "#057130",
           "#00441b",
           "rgba(0,0,0,0)"
          ]
         },
         "showlegend": false,
         "text": [
          "1310",
          "559",
          "535",
          "1042",
          "1251",
          "1302",
          ""
         ],
         "textposition": "outside",
         "type": "bar",
         "x": [
          "Londyn_2019",
          "Londyn_2020",
          "Londyn_2021",
          "Londyn_2022",
          "Londyn_2023",
          "Londyn_2024",
          "spacer_Londyn"
         ],
         "y": [
          1310,
          559,
          535,
          1042,
          1251,
          1302,
          null
         ]
        },
        {
         "hoverinfo": "skip",
         "marker": {
          "color": "#2c944c"
         },
         "name": "Londyn",
         "showlegend": true,
         "type": "bar",
         "x": [
          null
         ],
         "y": [
          null
         ]
        },
        {
         "marker": {
          "color": [
           "#fdc692",
           "#fda057",
           "#f67825",
           "#e05106",
           "#ad3903",
           "#7f2704",
           "rgba(0,0,0,0)"
          ]
         },
         "showlegend": false,
         "text": [
          "1408",
          "580",
          "718",
          "1047",
          "1179",
          "1204",
          ""
         ],
         "textposition": "outside",
         "type": "bar",
         "x": [
          "Frankfurt_2019",
          "Frankfurt_2020",
          "Frankfurt_2021",
          "Frankfurt_2022",
          "Frankfurt_2023",
          "Frankfurt_2024",
          "spacer_Frankfurt"
         ],
         "y": [
          1408,
          580,
          718,
          1047,
          1179,
          1204,
          null
         ]
        },
        {
         "hoverinfo": "skip",
         "marker": {
          "color": "#e05106"
         },
         "name": "Frankfurt",
         "showlegend": true,
         "type": "bar",
         "x": [
          null
         ],
         "y": [
          null
         ]
        }
       ],
       "layout": {
        "bargap": 0.35,
        "barmode": "group",
        "font": {
         "family": "Arial",
         "size": 16
        },
        "height": 550,
        "legend": {
         "bgcolor": "rgba(255,255,255,0.7)",
         "bordercolor": "#ccc",
         "borderwidth": 1,
         "font": {
          "family": "Arial",
          "size": 16
         },
         "orientation": "h",
         "title": {
          "text": "Miasto"
         },
         "x": 0.5,
         "xanchor": "center",
         "y": 1.15,
         "yanchor": "top"
        },
        "margin": {
         "b": 60,
         "l": 60,
         "r": 60,
         "t": 150
        },
        "plot_bgcolor": "white",
        "template": {
         "data": {
          "bar": [
           {
            "error_x": {
             "color": "#2a3f5f"
            },
            "error_y": {
             "color": "#2a3f5f"
            },
            "marker": {
             "line": {
              "color": "#E5ECF6",
              "width": 0.5
             },
             "pattern": {
              "fillmode": "overlay",
              "size": 10,
              "solidity": 0.2
             }
            },
            "type": "bar"
           }
          ],
          "barpolar": [
           {
            "marker": {
             "line": {
              "color": "#E5ECF6",
              "width": 0.5
             },
             "pattern": {
              "fillmode": "overlay",
              "size": 10,
              "solidity": 0.2
             }
            },
            "type": "barpolar"
           }
          ],
          "carpet": [
           {
            "aaxis": {
             "endlinecolor": "#2a3f5f",
             "gridcolor": "white",
             "linecolor": "white",
             "minorgridcolor": "white",
             "startlinecolor": "#2a3f5f"
            },
            "baxis": {
             "endlinecolor": "#2a3f5f",
             "gridcolor": "white",
             "linecolor": "white",
             "minorgridcolor": "white",
             "startlinecolor": "#2a3f5f"
            },
            "type": "carpet"
           }
          ],
          "choropleth": [
           {
            "colorbar": {
             "outlinewidth": 0,
             "ticks": ""
            },
            "type": "choropleth"
           }
          ],
          "contour": [
           {
            "colorbar": {
             "outlinewidth": 0,
             "ticks": ""
            },
            "colorscale": [
             [
              0,
              "#0d0887"
             ],
             [
              0.1111111111111111,
              "#46039f"
             ],
             [
              0.2222222222222222,
              "#7201a8"
             ],
             [
              0.3333333333333333,
              "#9c179e"
             ],
             [
              0.4444444444444444,
              "#bd3786"
             ],
             [
              0.5555555555555556,
              "#d8576b"
             ],
             [
              0.6666666666666666,
              "#ed7953"
             ],
             [
              0.7777777777777778,
              "#fb9f3a"
             ],
             [
              0.8888888888888888,
              "#fdca26"
             ],
             [
              1,
              "#f0f921"
             ]
            ],
            "type": "contour"
           }
          ],
          "contourcarpet": [
           {
            "colorbar": {
             "outlinewidth": 0,
             "ticks": ""
            },
            "type": "contourcarpet"
           }
          ],
          "heatmap": [
           {
            "colorbar": {
             "outlinewidth": 0,
             "ticks": ""
            },
            "colorscale": [
             [
              0,
              "#0d0887"
             ],
             [
              0.1111111111111111,
              "#46039f"
             ],
             [
              0.2222222222222222,
              "#7201a8"
             ],
             [
              0.3333333333333333,
              "#9c179e"
             ],
             [
              0.4444444444444444,
              "#bd3786"
             ],
             [
              0.5555555555555556,
              "#d8576b"
             ],
             [
              0.6666666666666666,
              "#ed7953"
             ],
             [
              0.7777777777777778,
              "#fb9f3a"
             ],
             [
              0.8888888888888888,
              "#fdca26"
             ],
             [
              1,
              "#f0f921"
             ]
            ],
            "type": "heatmap"
           }
          ],
          "histogram": [
           {
            "marker": {
             "pattern": {
              "fillmode": "overlay",
              "size": 10,
              "solidity": 0.2
             }
            },
            "type": "histogram"
           }
          ],
          "histogram2d": [
           {
            "colorbar": {
             "outlinewidth": 0,
             "ticks": ""
            },
            "colorscale": [
             [
              0,
              "#0d0887"
             ],
             [
              0.1111111111111111,
              "#46039f"
             ],
             [
              0.2222222222222222,
              "#7201a8"
             ],
             [
              0.3333333333333333,
              "#9c179e"
             ],
             [
              0.4444444444444444,
              "#bd3786"
             ],
             [
              0.5555555555555556,
              "#d8576b"
             ],
             [
              0.6666666666666666,
              "#ed7953"
             ],
             [
              0.7777777777777778,
              "#fb9f3a"
             ],
             [
              0.8888888888888888,
              "#fdca26"
             ],
             [
              1,
              "#f0f921"
             ]
            ],
            "type": "histogram2d"
           }
          ],
          "histogram2dcontour": [
           {
            "colorbar": {
             "outlinewidth": 0,
             "ticks": ""
            },
            "colorscale": [
             [
              0,
              "#0d0887"
             ],
             [
              0.1111111111111111,
              "#46039f"
             ],
             [
              0.2222222222222222,
              "#7201a8"
             ],
             [
              0.3333333333333333,
              "#9c179e"
             ],
             [
              0.4444444444444444,
              "#bd3786"
             ],
             [
              0.5555555555555556,
              "#d8576b"
             ],
             [
              0.6666666666666666,
              "#ed7953"
             ],
             [
              0.7777777777777778,
              "#fb9f3a"
             ],
             [
              0.8888888888888888,
              "#fdca26"
             ],
             [
              1,
              "#f0f921"
             ]
            ],
            "type": "histogram2dcontour"
           }
          ],
          "mesh3d": [
           {
            "colorbar": {
             "outlinewidth": 0,
             "ticks": ""
            },
            "type": "mesh3d"
           }
          ],
          "parcoords": [
           {
            "line": {
             "colorbar": {
              "outlinewidth": 0,
              "ticks": ""
             }
            },
            "type": "parcoords"
           }
          ],
          "pie": [
           {
            "automargin": true,
            "type": "pie"
           }
          ],
          "scatter": [
           {
            "fillpattern": {
             "fillmode": "overlay",
             "size": 10,
             "solidity": 0.2
            },
            "type": "scatter"
           }
          ],
          "scatter3d": [
           {
            "line": {
             "colorbar": {
              "outlinewidth": 0,
              "ticks": ""
             }
            },
            "marker": {
             "colorbar": {
              "outlinewidth": 0,
              "ticks": ""
             }
            },
            "type": "scatter3d"
           }
          ],
          "scattercarpet": [
           {
            "marker": {
             "colorbar": {
              "outlinewidth": 0,
              "ticks": ""
             }
            },
            "type": "scattercarpet"
           }
          ],
          "scattergeo": [
           {
            "marker": {
             "colorbar": {
              "outlinewidth": 0,
              "ticks": ""
             }
            },
            "type": "scattergeo"
           }
          ],
          "scattergl": [
           {
            "marker": {
             "colorbar": {
              "outlinewidth": 0,
              "ticks": ""
             }
            },
            "type": "scattergl"
           }
          ],
          "scattermap": [
           {
            "marker": {
             "colorbar": {
              "outlinewidth": 0,
              "ticks": ""
             }
            },
            "type": "scattermap"
           }
          ],
          "scattermapbox": [
           {
            "marker": {
             "colorbar": {
              "outlinewidth": 0,
              "ticks": ""
             }
            },
            "type": "scattermapbox"
           }
          ],
          "scatterpolar": [
           {
            "marker": {
             "colorbar": {
              "outlinewidth": 0,
              "ticks": ""
             }
            },
            "type": "scatterpolar"
           }
          ],
          "scatterpolargl": [
           {
            "marker": {
             "colorbar": {
              "outlinewidth": 0,
              "ticks": ""
             }
            },
            "type": "scatterpolargl"
           }
          ],
          "scatterternary": [
           {
            "marker": {
             "colorbar": {
              "outlinewidth": 0,
              "ticks": ""
             }
            },
            "type": "scatterternary"
           }
          ],
          "surface": [
           {
            "colorbar": {
             "outlinewidth": 0,
             "ticks": ""
            },
            "colorscale": [
             [
              0,
              "#0d0887"
             ],
             [
              0.1111111111111111,
              "#46039f"
             ],
             [
              0.2222222222222222,
              "#7201a8"
             ],
             [
              0.3333333333333333,
              "#9c179e"
             ],
             [
              0.4444444444444444,
              "#bd3786"
             ],
             [
              0.5555555555555556,
              "#d8576b"
             ],
             [
              0.6666666666666666,
              "#ed7953"
             ],
             [
              0.7777777777777778,
              "#fb9f3a"
             ],
             [
              0.8888888888888888,
              "#fdca26"
             ],
             [
              1,
              "#f0f921"
             ]
            ],
            "type": "surface"
           }
          ],
          "table": [
           {
            "cells": {
             "fill": {
              "color": "#EBF0F8"
             },
             "line": {
              "color": "white"
             }
            },
            "header": {
             "fill": {
              "color": "#C8D4E3"
             },
             "line": {
              "color": "white"
             }
            },
            "type": "table"
           }
          ]
         },
         "layout": {
          "annotationdefaults": {
           "arrowcolor": "#2a3f5f",
           "arrowhead": 0,
           "arrowwidth": 1
          },
          "autotypenumbers": "strict",
          "coloraxis": {
           "colorbar": {
            "outlinewidth": 0,
            "ticks": ""
           }
          },
          "colorscale": {
           "diverging": [
            [
             0,
             "#8e0152"
            ],
            [
             0.1,
             "#c51b7d"
            ],
            [
             0.2,
             "#de77ae"
            ],
            [
             0.3,
             "#f1b6da"
            ],
            [
             0.4,
             "#fde0ef"
            ],
            [
             0.5,
             "#f7f7f7"
            ],
            [
             0.6,
             "#e6f5d0"
            ],
            [
             0.7,
             "#b8e186"
            ],
            [
             0.8,
             "#7fbc41"
            ],
            [
             0.9,
             "#4d9221"
            ],
            [
             1,
             "#276419"
            ]
           ],
           "sequential": [
            [
             0,
             "#0d0887"
            ],
            [
             0.1111111111111111,
             "#46039f"
            ],
            [
             0.2222222222222222,
             "#7201a8"
            ],
            [
             0.3333333333333333,
             "#9c179e"
            ],
            [
             0.4444444444444444,
             "#bd3786"
            ],
            [
             0.5555555555555556,
             "#d8576b"
            ],
            [
             0.6666666666666666,
             "#ed7953"
            ],
            [
             0.7777777777777778,
             "#fb9f3a"
            ],
            [
             0.8888888888888888,
             "#fdca26"
            ],
            [
             1,
             "#f0f921"
            ]
           ],
           "sequentialminus": [
            [
             0,
             "#0d0887"
            ],
            [
             0.1111111111111111,
             "#46039f"
            ],
            [
             0.2222222222222222,
             "#7201a8"
            ],
            [
             0.3333333333333333,
             "#9c179e"
            ],
            [
             0.4444444444444444,
             "#bd3786"
            ],
            [
             0.5555555555555556,
             "#d8576b"
            ],
            [
             0.6666666666666666,
             "#ed7953"
            ],
            [
             0.7777777777777778,
             "#fb9f3a"
            ],
            [
             0.8888888888888888,
             "#fdca26"
            ],
            [
             1,
             "#f0f921"
            ]
           ]
          },
          "colorway": [
           "#636efa",
           "#EF553B",
           "#00cc96",
           "#ab63fa",
           "#FFA15A",
           "#19d3f3",
           "#FF6692",
           "#B6E880",
           "#FF97FF",
           "#FECB52"
          ],
          "font": {
           "color": "#2a3f5f"
          },
          "geo": {
           "bgcolor": "white",
           "lakecolor": "white",
           "landcolor": "#E5ECF6",
           "showlakes": true,
           "showland": true,
           "subunitcolor": "white"
          },
          "hoverlabel": {
           "align": "left"
          },
          "hovermode": "closest",
          "mapbox": {
           "style": "light"
          },
          "paper_bgcolor": "white",
          "plot_bgcolor": "#E5ECF6",
          "polar": {
           "angularaxis": {
            "gridcolor": "white",
            "linecolor": "white",
            "ticks": ""
           },
           "bgcolor": "#E5ECF6",
           "radialaxis": {
            "gridcolor": "white",
            "linecolor": "white",
            "ticks": ""
           }
          },
          "scene": {
           "xaxis": {
            "backgroundcolor": "#E5ECF6",
            "gridcolor": "white",
            "gridwidth": 2,
            "linecolor": "white",
            "showbackground": true,
            "ticks": "",
            "zerolinecolor": "white"
           },
           "yaxis": {
            "backgroundcolor": "#E5ECF6",
            "gridcolor": "white",
            "gridwidth": 2,
            "linecolor": "white",
            "showbackground": true,
            "ticks": "",
            "zerolinecolor": "white"
           },
           "zaxis": {
            "backgroundcolor": "#E5ECF6",
            "gridcolor": "white",
            "gridwidth": 2,
            "linecolor": "white",
            "showbackground": true,
            "ticks": "",
            "zerolinecolor": "white"
           }
          },
          "shapedefaults": {
           "line": {
            "color": "#2a3f5f"
           }
          },
          "ternary": {
           "aaxis": {
            "gridcolor": "white",
            "linecolor": "white",
            "ticks": ""
           },
           "baxis": {
            "gridcolor": "white",
            "linecolor": "white",
            "ticks": ""
           },
           "bgcolor": "#E5ECF6",
           "caxis": {
            "gridcolor": "white",
            "linecolor": "white",
            "ticks": ""
           }
          },
          "title": {
           "x": 0.05
          },
          "xaxis": {
           "automargin": true,
           "gridcolor": "white",
           "linecolor": "white",
           "ticks": "",
           "title": {
            "standoff": 15
           },
           "zerolinecolor": "white",
           "zerolinewidth": 2
          },
          "yaxis": {
           "automargin": true,
           "gridcolor": "white",
           "linecolor": "white",
           "ticks": "",
           "title": {
            "standoff": 15
           },
           "zerolinecolor": "white",
           "zerolinewidth": 2
          }
         }
        },
        "title": {
         "font": {
          "color": "#222",
          "family": "Arial",
          "size": 22
         },
         "text": "Ruch na wybranych lotniskach w latach 2019-2024",
         "x": 0.5
        },
        "width": 1400,
        "xaxis": {
         "tickfont": {
          "family": "Arial",
          "size": 16
         },
         "ticktext": [
          "2019",
          "2020",
          "2021",
          "2022",
          "2023",
          "2024",
          "",
          "2019",
          "2020",
          "2021",
          "2022",
          "2023",
          "2024",
          "",
          "2019",
          "2020",
          "2021",
          "2022",
          "2023",
          "2024",
          ""
         ],
         "tickvals": [
          "Warszawa_2019",
          "Warszawa_2020",
          "Warszawa_2021",
          "Warszawa_2022",
          "Warszawa_2023",
          "Warszawa_2024",
          "spacer_Warszawa",
          "Londyn_2019",
          "Londyn_2020",
          "Londyn_2021",
          "Londyn_2022",
          "Londyn_2023",
          "Londyn_2024",
          "spacer_Londyn",
          "Frankfurt_2019",
          "Frankfurt_2020",
          "Frankfurt_2021",
          "Frankfurt_2022",
          "Frankfurt_2023",
          "Frankfurt_2024",
          "spacer_Frankfurt"
         ],
         "title": {
          "font": {
           "color": "#333",
           "family": "Arial",
           "size": 18
          },
          "text": "Rok"
         }
        },
        "yaxis": {
         "gridcolor": "rgba(200,200,200,0.3)",
         "range": [
          -190,
          1590
         ],
         "showgrid": true,
         "tickfont": {
          "family": "Arial",
          "size": 16
         },
         "title": {
          "font": {
           "color": "#333",
           "family": "Arial",
           "size": 18
          },
          "text": "Średnia liczba lotów rocznie"
         }
        }
       }
      }
     },
     "metadata": {},
     "output_type": "display_data"
    }
   ],
   "source": [
    "import plotly.graph_objects as go\n",
    "from matplotlib import cm\n",
    "import matplotlib.colors as mcolors\n",
    "import numpy as np\n",
    "\n",
    "airports = {\n",
    "    'Warszawa': 'EPWA',\n",
    "    'Londyn': 'EGLL',\n",
    "    'Frankfurt': 'EDDF'\n",
    "}\n",
    "years = list(range(2019, 2025))\n",
    "\n",
    "# Przygotuj gradienty dla każdego lotniska\n",
    "def get_gradient(cmap_name, n):\n",
    "    cmap = cm.get_cmap(cmap_name, n+2)\n",
    "    return [mcolors.to_hex(cmap(i+2)[:3]) for i in range(n)]\n",
    "\n",
    "warszawa_colors = get_gradient('Blues', len(years))      # niebieski\n",
    "londyn_colors   = get_gradient('Greens', len(years))     # zielony\n",
    "frankfurt_colors= get_gradient('Oranges', len(years))    # pomarańczowy\n",
    "\n",
    "airport_colors = {\n",
    "    'Warszawa': warszawa_colors,\n",
    "    'Londyn': londyn_colors,\n",
    "    'Frankfurt': frankfurt_colors\n",
    "}\n",
    "airport_legend_label = {\n",
    "    'Warszawa': 'Warszawa',\n",
    "    'Londyn': 'Londyn',\n",
    "    'Frankfurt': 'Frankfurt'\n",
    "}\n",
    "\n",
    "data = []\n",
    "for city, icao in airports.items():\n",
    "    for year in years:\n",
    "        avg = airport_traffic_df[\n",
    "            (airport_traffic_df['APT_ICAO'] == icao) &\n",
    "            (pd.to_datetime(airport_traffic_df['FLT_DATE'], errors='coerce').dt.year == year)\n",
    "        ]['FLT_TOT_1'].astype(float).mean()\n",
    "        data.append({'Lotnisko': city, 'Rok': str(year), 'Średnia liczba lotów': int(round(avg))})\n",
    "\n",
    "df_bar = pd.DataFrame(data)\n",
    "\n",
    "fig = go.Figure()\n",
    "\n",
    "# Przygotuj x_labels z odstępami\n",
    "x_labels = []\n",
    "x_ticks = []\n",
    "for city in airports.keys():\n",
    "    for year in years:\n",
    "        x_labels.append(f\"{year}\")\n",
    "        x_ticks.append(f\"{city}_{year}\")\n",
    "    x_labels.append(\"\")  # odstęp\n",
    "    x_ticks.append(f\"spacer_{city}\")\n",
    "\n",
    "# Dodaj słupki: każdy trace to jedno miasto, 6 słupków (lata), odstęp po każdym mieście\n",
    "for city in airports.keys():\n",
    "    colors = airport_colors[city]\n",
    "    y_vals = []\n",
    "    text_vals = []\n",
    "    x_vals = []\n",
    "    for i, year in enumerate(years):\n",
    "        val = df_bar[(df_bar['Lotnisko'] == city) & (df_bar['Rok'] == str(year))]['Średnia liczba lotów'].values\n",
    "        y_vals.append(val[0] if len(val) > 0 else None)\n",
    "        text_vals.append(val[0] if len(val) > 0 else \"\")\n",
    "        x_vals.append(f\"{city}_{year}\")\n",
    "    # Dodaj puste miejsce na koniec serii (dla odstępu)\n",
    "    y_vals.append(None)\n",
    "    text_vals.append(\"\")\n",
    "    x_vals.append(f\"spacer_{city}\")\n",
    "    # Słupki z gradientem (bez legendy)\n",
    "    fig.add_trace(go.Bar(\n",
    "        x=x_vals,\n",
    "        y=y_vals,\n",
    "        name=None,\n",
    "        marker_color=colors + ['rgba(0,0,0,0)'],\n",
    "        text=text_vals,\n",
    "        textposition='outside',\n",
    "        showlegend=False\n",
    "    ))\n",
    "    # Dummy trace tylko do legendy, z kolorem środkowym\n",
    "    fig.add_trace(go.Bar(\n",
    "        x=[None],\n",
    "        y=[None],\n",
    "        name=airport_legend_label[city],\n",
    "        marker_color=colors[len(colors)//2],\n",
    "        showlegend=True,\n",
    "        hoverinfo='skip'\n",
    "    ))\n",
    "\n",
    "fig.update_layout(\n",
    "    barmode='group',\n",
    "    title=dict(\n",
    "        text='Ruch na wybranych lotniskach w latach 2019-2024',\n",
    "        x=0.5,\n",
    "        font=dict(size=22, family='Arial', color='#222')\n",
    "    ),\n",
    "    xaxis=dict(\n",
    "        title='Rok',\n",
    "        tickvals=x_ticks,\n",
    "        ticktext=x_labels,\n",
    "        tickfont=dict(size=16, family='Arial'),\n",
    "        title_font=dict(size=18, family='Arial', color='#333'),\n",
    "    ),\n",
    "    yaxis=dict(\n",
    "        range=[-190, 1590],\n",
    "        title='Średnia liczba lotów rocznie',\n",
    "        tickfont=dict(size=16, family='Arial'),\n",
    "        title_font=dict(size=18, family='Arial', color='#333'),\n",
    "        showgrid=True,\n",
    "        gridcolor='rgba(200,200,200,0.3)'\n",
    "    ),\n",
    "    legend=dict(\n",
    "        title='Miasto',\n",
    "        orientation='h',\n",
    "        yanchor='top',\n",
    "        y=1.15,           # Wyżej niż tytuł, nad wykresem\n",
    "        xanchor='center',\n",
    "        x=0.5,\n",
    "        font=dict(size=16, family='Arial'),\n",
    "        bgcolor='rgba(255,255,255,0.7)',\n",
    "        bordercolor='#ccc',\n",
    "        borderwidth=1\n",
    "    ),\n",
    "    bargap=0.35,\n",
    "    plot_bgcolor='white',\n",
    "    font=dict(size=16, family='Arial'),\n",
    "    margin=dict(l=60, r=60, t=150, b=60),  # większy górny margines na legendę\n",
    "    width=1400,\n",
    "    height=550\n",
    ")\n",
    "\n",
    "fig.show()"
   ]
  }
 ],
 "metadata": {
  "kernelspec": {
   "display_name": "graphics",
   "language": "python",
   "name": "python3"
  },
  "language_info": {
   "codemirror_mode": {
    "name": "ipython",
    "version": 3
   },
   "file_extension": ".py",
   "mimetype": "text/x-python",
   "name": "python",
   "nbconvert_exporter": "python",
   "pygments_lexer": "ipython3",
   "version": "3.13.2"
  }
 },
 "nbformat": 4,
 "nbformat_minor": 5
}
