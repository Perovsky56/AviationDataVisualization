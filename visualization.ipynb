{
 "cells": [
  {
   "cell_type": "code",
   "execution_count": null,
   "id": "ca75480a",
   "metadata": {},
   "outputs": [],
   "source": [
    "import numpy as np\n",
    "import pandas as pd\n",
    "import matplotlib.pyplot as plt\n",
    "import seaborn as sns\n",
    "import plotly.express as px\n",
    "import os\n",
    "#nbformat"
   ]
  },
  {
   "cell_type": "code",
   "execution_count": 2,
   "id": "dd09ca24",
   "metadata": {},
   "outputs": [],
   "source": [
    "base_dir = os.path.join(os.getcwd(), 'data')\n",
    "\n",
    "def load_csv(folder_name):\n",
    "    folder_path = os.path.join(base_dir, folder_name)\n",
    "    file_name = f\"{folder_name}.csv\"\n",
    "    file_path = os.path.join(folder_path, file_name)\n",
    "    if os.path.exists(file_path):\n",
    "        try:\n",
    "            return pd.read_csv(file_path, low_memory=False)\n",
    "        except Exception as e:\n",
    "            print(f\"Błąd podczas wczytywania pliku {file_name}: {e}\")\n",
    "            return None\n",
    "    else:\n",
    "        print(f\"Plik {file_name} nie istnieje w folderze {folder_name}\")\n",
    "        return None\n",
    "\n",
    "airport_traffic_df = load_csv('airport_traffic')\n",
    "taxi_in_df = load_csv('taxi_in_additional_time')\n",
    "taxi_out_df = load_csv('taxi_out_additional_time')\n",
    "horizontal_flight_efficiency_df = load_csv('horizontal_flight_efficiency')\n",
    "co2_emmissions_df = load_csv('co2_emmissions_by_state')"
   ]
  },
  {
   "cell_type": "code",
   "execution_count": 93,
   "id": "67d98663",
   "metadata": {},
   "outputs": [
    {
     "data": {
      "text/html": [
       "<div>\n",
       "<style scoped>\n",
       "    .dataframe tbody tr th:only-of-type {\n",
       "        vertical-align: middle;\n",
       "    }\n",
       "\n",
       "    .dataframe tbody tr th {\n",
       "        vertical-align: top;\n",
       "    }\n",
       "\n",
       "    .dataframe thead th {\n",
       "        text-align: right;\n",
       "    }\n",
       "</style>\n",
       "<table border=\"1\" class=\"dataframe\">\n",
       "  <thead>\n",
       "    <tr style=\"text-align: right;\">\n",
       "      <th></th>\n",
       "      <th>YEAR</th>\n",
       "      <th>MONTH_NUM</th>\n",
       "      <th>MONTH_MON</th>\n",
       "      <th>FLT_DATE</th>\n",
       "      <th>APT_ICAO</th>\n",
       "      <th>APT_NAME</th>\n",
       "      <th>STATE_NAME</th>\n",
       "      <th>FLT_DEP_1</th>\n",
       "      <th>FLT_ARR_1</th>\n",
       "      <th>FLT_TOT_1</th>\n",
       "      <th>FLT_DEP_IFR_2</th>\n",
       "      <th>FLT_ARR_IFR_2</th>\n",
       "      <th>FLT_TOT_IFR_2</th>\n",
       "    </tr>\n",
       "  </thead>\n",
       "  <tbody>\n",
       "    <tr>\n",
       "      <th>3064299</th>\n",
       "      <td>2025</td>\n",
       "      <td>04</td>\n",
       "      <td>APR</td>\n",
       "      <td>2025-04-30</td>\n",
       "      <td>EGNX</td>\n",
       "      <td>East Midlands</td>\n",
       "      <td>United Kingdom</td>\n",
       "      <td>77</td>\n",
       "      <td>84</td>\n",
       "      <td>161</td>\n",
       "      <td>NaN</td>\n",
       "      <td>NaN</td>\n",
       "      <td>NaN</td>\n",
       "    </tr>\n",
       "    <tr>\n",
       "      <th>3064300</th>\n",
       "      <td>2025</td>\n",
       "      <td>04</td>\n",
       "      <td>APR</td>\n",
       "      <td>2025-04-30</td>\n",
       "      <td>EGPD</td>\n",
       "      <td>Aberdeen</td>\n",
       "      <td>United Kingdom</td>\n",
       "      <td>61</td>\n",
       "      <td>61</td>\n",
       "      <td>122</td>\n",
       "      <td>NaN</td>\n",
       "      <td>NaN</td>\n",
       "      <td>NaN</td>\n",
       "    </tr>\n",
       "    <tr>\n",
       "      <th>3064301</th>\n",
       "      <td>2025</td>\n",
       "      <td>04</td>\n",
       "      <td>APR</td>\n",
       "      <td>2025-04-30</td>\n",
       "      <td>EGPF</td>\n",
       "      <td>Glasgow</td>\n",
       "      <td>United Kingdom</td>\n",
       "      <td>101</td>\n",
       "      <td>102</td>\n",
       "      <td>203</td>\n",
       "      <td>NaN</td>\n",
       "      <td>NaN</td>\n",
       "      <td>NaN</td>\n",
       "    </tr>\n",
       "    <tr>\n",
       "      <th>3064302</th>\n",
       "      <td>2025</td>\n",
       "      <td>04</td>\n",
       "      <td>APR</td>\n",
       "      <td>2025-04-30</td>\n",
       "      <td>EGPH</td>\n",
       "      <td>Edinburgh</td>\n",
       "      <td>United Kingdom</td>\n",
       "      <td>179</td>\n",
       "      <td>176</td>\n",
       "      <td>355</td>\n",
       "      <td>178</td>\n",
       "      <td>174</td>\n",
       "      <td>352</td>\n",
       "    </tr>\n",
       "    <tr>\n",
       "      <th>3064303</th>\n",
       "      <td>2025</td>\n",
       "      <td>04</td>\n",
       "      <td>APR</td>\n",
       "      <td>2025-04-30</td>\n",
       "      <td>EGSS</td>\n",
       "      <td>London - Stansted</td>\n",
       "      <td>United Kingdom</td>\n",
       "      <td>272</td>\n",
       "      <td>273</td>\n",
       "      <td>545</td>\n",
       "      <td>270</td>\n",
       "      <td>260</td>\n",
       "      <td>530</td>\n",
       "    </tr>\n",
       "  </tbody>\n",
       "</table>\n",
       "</div>"
      ],
      "text/plain": [
       "         YEAR MONTH_NUM MONTH_MON    FLT_DATE APT_ICAO           APT_NAME  \\\n",
       "3064299  2025        04       APR  2025-04-30     EGNX      East Midlands   \n",
       "3064300  2025        04       APR  2025-04-30     EGPD           Aberdeen   \n",
       "3064301  2025        04       APR  2025-04-30     EGPF            Glasgow   \n",
       "3064302  2025        04       APR  2025-04-30     EGPH          Edinburgh   \n",
       "3064303  2025        04       APR  2025-04-30     EGSS  London - Stansted   \n",
       "\n",
       "             STATE_NAME FLT_DEP_1 FLT_ARR_1 FLT_TOT_1 FLT_DEP_IFR_2  \\\n",
       "3064299  United Kingdom        77        84       161           NaN   \n",
       "3064300  United Kingdom        61        61       122           NaN   \n",
       "3064301  United Kingdom       101       102       203           NaN   \n",
       "3064302  United Kingdom       179       176       355           178   \n",
       "3064303  United Kingdom       272       273       545           270   \n",
       "\n",
       "        FLT_ARR_IFR_2 FLT_TOT_IFR_2  \n",
       "3064299           NaN           NaN  \n",
       "3064300           NaN           NaN  \n",
       "3064301           NaN           NaN  \n",
       "3064302           174           352  \n",
       "3064303           260           530  "
      ]
     },
     "execution_count": 93,
     "metadata": {},
     "output_type": "execute_result"
    }
   ],
   "source": [
    "airport_traffic_df.tail(5)"
   ]
  },
  {
   "cell_type": "code",
   "execution_count": 4,
   "id": "09e69890",
   "metadata": {},
   "outputs": [
    {
     "data": {
      "text/html": [
       "<div>\n",
       "<style scoped>\n",
       "    .dataframe tbody tr th:only-of-type {\n",
       "        vertical-align: middle;\n",
       "    }\n",
       "\n",
       "    .dataframe tbody tr th {\n",
       "        vertical-align: top;\n",
       "    }\n",
       "\n",
       "    .dataframe thead th {\n",
       "        text-align: right;\n",
       "    }\n",
       "</style>\n",
       "<table border=\"1\" class=\"dataframe\">\n",
       "  <thead>\n",
       "    <tr style=\"text-align: right;\">\n",
       "      <th></th>\n",
       "      <th>YEAR</th>\n",
       "      <th>MONTH_NUM</th>\n",
       "      <th>MONTH_MON</th>\n",
       "      <th>APT_ICAO</th>\n",
       "      <th>APT_NAME</th>\n",
       "      <th>STATE_NAME</th>\n",
       "      <th>TF</th>\n",
       "      <th>VALID_FL</th>\n",
       "      <th>NO_REF</th>\n",
       "      <th>TOTAL_REF_NB_FL</th>\n",
       "      <th>TOTAL_REF_TIME_MIN</th>\n",
       "      <th>TOTAL_ADD_TIME_MIN</th>\n",
       "      <th>COMMENT</th>\n",
       "    </tr>\n",
       "  </thead>\n",
       "  <tbody>\n",
       "    <tr>\n",
       "      <th>15031</th>\n",
       "      <td>2024</td>\n",
       "      <td>04</td>\n",
       "      <td>APR</td>\n",
       "      <td>LEMD</td>\n",
       "      <td>Madrid - Barajas</td>\n",
       "      <td>Spain</td>\n",
       "      <td>17145</td>\n",
       "      <td>17145</td>\n",
       "      <td>1843</td>\n",
       "      <td>15302</td>\n",
       "      <td>98886.6433333333</td>\n",
       "      <td>28064.423333333303</td>\n",
       "      <td>NaN</td>\n",
       "    </tr>\n",
       "    <tr>\n",
       "      <th>19335</th>\n",
       "      <td>2021</td>\n",
       "      <td>02</td>\n",
       "      <td>FEB</td>\n",
       "      <td>LMML</td>\n",
       "      <td>Malta</td>\n",
       "      <td>Malta</td>\n",
       "      <td>1292</td>\n",
       "      <td>1280</td>\n",
       "      <td>164</td>\n",
       "      <td>1116</td>\n",
       "      <td>4078</td>\n",
       "      <td>336</td>\n",
       "      <td>NaN</td>\n",
       "    </tr>\n",
       "    <tr>\n",
       "      <th>5414</th>\n",
       "      <td>2022</td>\n",
       "      <td>10</td>\n",
       "      <td>OCT</td>\n",
       "      <td>ENBR</td>\n",
       "      <td>Bergen</td>\n",
       "      <td>Norway</td>\n",
       "      <td>NaN</td>\n",
       "      <td>NaN</td>\n",
       "      <td>NaN</td>\n",
       "      <td>NaN</td>\n",
       "      <td>NaN</td>\n",
       "      <td>NaN</td>\n",
       "      <td>NO DATA RECEIVED</td>\n",
       "    </tr>\n",
       "    <tr>\n",
       "      <th>11941</th>\n",
       "      <td>2021</td>\n",
       "      <td>07</td>\n",
       "      <td>JUL</td>\n",
       "      <td>EGLC</td>\n",
       "      <td>London - City</td>\n",
       "      <td>United Kingdom</td>\n",
       "      <td>541</td>\n",
       "      <td>541</td>\n",
       "      <td>63</td>\n",
       "      <td>478</td>\n",
       "      <td>775</td>\n",
       "      <td>899</td>\n",
       "      <td>NaN</td>\n",
       "    </tr>\n",
       "    <tr>\n",
       "      <th>6312</th>\n",
       "      <td>2023</td>\n",
       "      <td>08</td>\n",
       "      <td>AUG</td>\n",
       "      <td>LFBO</td>\n",
       "      <td>Toulouse-Blagnac</td>\n",
       "      <td>France</td>\n",
       "      <td>2691</td>\n",
       "      <td>2691</td>\n",
       "      <td>80</td>\n",
       "      <td>2611</td>\n",
       "      <td>8434.1</td>\n",
       "      <td>2295.9</td>\n",
       "      <td>NaN</td>\n",
       "    </tr>\n",
       "  </tbody>\n",
       "</table>\n",
       "</div>"
      ],
      "text/plain": [
       "       YEAR MONTH_NUM MONTH_MON APT_ICAO          APT_NAME      STATE_NAME  \\\n",
       "15031  2024        04       APR     LEMD  Madrid - Barajas           Spain   \n",
       "19335  2021        02       FEB     LMML             Malta           Malta   \n",
       "5414   2022        10       OCT     ENBR            Bergen          Norway   \n",
       "11941  2021        07       JUL     EGLC     London - City  United Kingdom   \n",
       "6312   2023        08       AUG     LFBO  Toulouse-Blagnac          France   \n",
       "\n",
       "          TF VALID_FL NO_REF TOTAL_REF_NB_FL TOTAL_REF_TIME_MIN  \\\n",
       "15031  17145    17145   1843           15302   98886.6433333333   \n",
       "19335   1292     1280    164            1116               4078   \n",
       "5414     NaN      NaN    NaN             NaN                NaN   \n",
       "11941    541      541     63             478                775   \n",
       "6312    2691     2691     80            2611             8434.1   \n",
       "\n",
       "       TOTAL_ADD_TIME_MIN           COMMENT  \n",
       "15031  28064.423333333303               NaN  \n",
       "19335                 336               NaN  \n",
       "5414                  NaN  NO DATA RECEIVED  \n",
       "11941                 899               NaN  \n",
       "6312               2295.9               NaN  "
      ]
     },
     "execution_count": 4,
     "metadata": {},
     "output_type": "execute_result"
    }
   ],
   "source": [
    "taxi_in_df.sample(5)"
   ]
  },
  {
   "cell_type": "code",
   "execution_count": 5,
   "id": "3a940310",
   "metadata": {},
   "outputs": [
    {
     "data": {
      "text/html": [
       "<div>\n",
       "<style scoped>\n",
       "    .dataframe tbody tr th:only-of-type {\n",
       "        vertical-align: middle;\n",
       "    }\n",
       "\n",
       "    .dataframe tbody tr th {\n",
       "        vertical-align: top;\n",
       "    }\n",
       "\n",
       "    .dataframe thead th {\n",
       "        text-align: right;\n",
       "    }\n",
       "</style>\n",
       "<table border=\"1\" class=\"dataframe\">\n",
       "  <thead>\n",
       "    <tr style=\"text-align: right;\">\n",
       "      <th></th>\n",
       "      <th>YEAR</th>\n",
       "      <th>MONTH_NUM</th>\n",
       "      <th>MONTH_MON</th>\n",
       "      <th>APT_ICAO</th>\n",
       "      <th>APT_NAME</th>\n",
       "      <th>STATE_NAME</th>\n",
       "      <th>TF</th>\n",
       "      <th>VALID_FL</th>\n",
       "      <th>NO_REF</th>\n",
       "      <th>TOTAL_REF_NB_FL</th>\n",
       "      <th>TOTAL_REF_TIME_MIN</th>\n",
       "      <th>TOTAL_ADD_TIME_MIN</th>\n",
       "      <th>COMMENT</th>\n",
       "    </tr>\n",
       "  </thead>\n",
       "  <tbody>\n",
       "    <tr>\n",
       "      <th>0</th>\n",
       "      <td>2018</td>\n",
       "      <td>01</td>\n",
       "      <td>JAN</td>\n",
       "      <td>LOWW</td>\n",
       "      <td>Vienna</td>\n",
       "      <td>Austria</td>\n",
       "      <td>8546</td>\n",
       "      <td>7841</td>\n",
       "      <td>366</td>\n",
       "      <td>7475</td>\n",
       "      <td>48963.5</td>\n",
       "      <td>18452.866666666698</td>\n",
       "      <td>NaN</td>\n",
       "    </tr>\n",
       "    <tr>\n",
       "      <th>1</th>\n",
       "      <td>2018</td>\n",
       "      <td>01</td>\n",
       "      <td>JAN</td>\n",
       "      <td>EBBR</td>\n",
       "      <td>Brussels</td>\n",
       "      <td>Belgium</td>\n",
       "      <td>8449</td>\n",
       "      <td>8410</td>\n",
       "      <td>360</td>\n",
       "      <td>8050</td>\n",
       "      <td>61529.5</td>\n",
       "      <td>22937.5</td>\n",
       "      <td>NaN</td>\n",
       "    </tr>\n",
       "    <tr>\n",
       "      <th>2</th>\n",
       "      <td>2018</td>\n",
       "      <td>01</td>\n",
       "      <td>JAN</td>\n",
       "      <td>EBCI</td>\n",
       "      <td>Charleroi</td>\n",
       "      <td>Belgium</td>\n",
       "      <td>2193</td>\n",
       "      <td>2184</td>\n",
       "      <td>36</td>\n",
       "      <td>2148</td>\n",
       "      <td>15858.4</td>\n",
       "      <td>4540.6</td>\n",
       "      <td>NaN</td>\n",
       "    </tr>\n",
       "    <tr>\n",
       "      <th>3</th>\n",
       "      <td>2018</td>\n",
       "      <td>01</td>\n",
       "      <td>JAN</td>\n",
       "      <td>LBSF</td>\n",
       "      <td>Sofia</td>\n",
       "      <td>Bulgaria</td>\n",
       "      <td>2223</td>\n",
       "      <td>1751</td>\n",
       "      <td>140</td>\n",
       "      <td>1611</td>\n",
       "      <td>14961</td>\n",
       "      <td>4211</td>\n",
       "      <td>NaN</td>\n",
       "    </tr>\n",
       "    <tr>\n",
       "      <th>4</th>\n",
       "      <td>2018</td>\n",
       "      <td>01</td>\n",
       "      <td>JAN</td>\n",
       "      <td>LDZA</td>\n",
       "      <td>Zagreb</td>\n",
       "      <td>Croatia</td>\n",
       "      <td>1518</td>\n",
       "      <td>1515</td>\n",
       "      <td>125</td>\n",
       "      <td>1390</td>\n",
       "      <td>9623.300000000001</td>\n",
       "      <td>3335.7000000000003</td>\n",
       "      <td>NaN</td>\n",
       "    </tr>\n",
       "  </tbody>\n",
       "</table>\n",
       "</div>"
      ],
      "text/plain": [
       "   YEAR MONTH_NUM MONTH_MON APT_ICAO   APT_NAME STATE_NAME    TF VALID_FL  \\\n",
       "0  2018        01       JAN     LOWW     Vienna    Austria  8546     7841   \n",
       "1  2018        01       JAN     EBBR   Brussels    Belgium  8449     8410   \n",
       "2  2018        01       JAN     EBCI  Charleroi    Belgium  2193     2184   \n",
       "3  2018        01       JAN     LBSF      Sofia   Bulgaria  2223     1751   \n",
       "4  2018        01       JAN     LDZA     Zagreb    Croatia  1518     1515   \n",
       "\n",
       "  NO_REF TOTAL_REF_NB_FL TOTAL_REF_TIME_MIN  TOTAL_ADD_TIME_MIN COMMENT  \n",
       "0    366            7475            48963.5  18452.866666666698     NaN  \n",
       "1    360            8050            61529.5             22937.5     NaN  \n",
       "2     36            2148            15858.4              4540.6     NaN  \n",
       "3    140            1611              14961                4211     NaN  \n",
       "4    125            1390  9623.300000000001  3335.7000000000003     NaN  "
      ]
     },
     "execution_count": 5,
     "metadata": {},
     "output_type": "execute_result"
    }
   ],
   "source": [
    "taxi_out_df.head(5)"
   ]
  },
  {
   "cell_type": "code",
   "execution_count": 6,
   "id": "64dc515a",
   "metadata": {},
   "outputs": [
    {
     "data": {
      "text/html": [
       "<div>\n",
       "<style scoped>\n",
       "    .dataframe tbody tr th:only-of-type {\n",
       "        vertical-align: middle;\n",
       "    }\n",
       "\n",
       "    .dataframe tbody tr th {\n",
       "        vertical-align: top;\n",
       "    }\n",
       "\n",
       "    .dataframe thead th {\n",
       "        text-align: right;\n",
       "    }\n",
       "</style>\n",
       "<table border=\"1\" class=\"dataframe\">\n",
       "  <thead>\n",
       "    <tr style=\"text-align: right;\">\n",
       "      <th></th>\n",
       "      <th>YEAR</th>\n",
       "      <th>MONTH_NUM</th>\n",
       "      <th>MONTH_MON</th>\n",
       "      <th>ENTRY_DATE</th>\n",
       "      <th>ENTITY_NAME</th>\n",
       "      <th>ENTITY_TYPE</th>\n",
       "      <th>TYPE_MODEL</th>\n",
       "      <th>DIST_FLOWN_KM</th>\n",
       "      <th>DIST_DIRECT_KM</th>\n",
       "      <th>DIST_ACHIEVED_KM</th>\n",
       "    </tr>\n",
       "  </thead>\n",
       "  <tbody>\n",
       "    <tr>\n",
       "      <th>0</th>\n",
       "      <td>2015</td>\n",
       "      <td>1</td>\n",
       "      <td>JAN</td>\n",
       "      <td>2015-01-01</td>\n",
       "      <td>Albania</td>\n",
       "      <td>State (FIR)</td>\n",
       "      <td>CPF</td>\n",
       "      <td>54860</td>\n",
       "      <td>54818.31</td>\n",
       "      <td>54243.46</td>\n",
       "    </tr>\n",
       "    <tr>\n",
       "      <th>1</th>\n",
       "      <td>2015</td>\n",
       "      <td>1</td>\n",
       "      <td>JAN</td>\n",
       "      <td>2015-01-01</td>\n",
       "      <td>Albania</td>\n",
       "      <td>State (FIR)</td>\n",
       "      <td>FTFM</td>\n",
       "      <td>57351</td>\n",
       "      <td>57203.44</td>\n",
       "      <td>56046.98</td>\n",
       "    </tr>\n",
       "    <tr>\n",
       "      <th>2</th>\n",
       "      <td>2015</td>\n",
       "      <td>1</td>\n",
       "      <td>JAN</td>\n",
       "      <td>2015-01-01</td>\n",
       "      <td>Armenia</td>\n",
       "      <td>State (FIR)</td>\n",
       "      <td>FTFM</td>\n",
       "      <td>12569</td>\n",
       "      <td>12480.85</td>\n",
       "      <td>12203.53</td>\n",
       "    </tr>\n",
       "    <tr>\n",
       "      <th>3</th>\n",
       "      <td>2015</td>\n",
       "      <td>1</td>\n",
       "      <td>JAN</td>\n",
       "      <td>2015-01-01</td>\n",
       "      <td>Austria</td>\n",
       "      <td>State (FIR)</td>\n",
       "      <td>CPF</td>\n",
       "      <td>276427</td>\n",
       "      <td>275679.17</td>\n",
       "      <td>271400</td>\n",
       "    </tr>\n",
       "    <tr>\n",
       "      <th>4</th>\n",
       "      <td>2015</td>\n",
       "      <td>1</td>\n",
       "      <td>JAN</td>\n",
       "      <td>2015-01-01</td>\n",
       "      <td>Austria</td>\n",
       "      <td>State (FIR)</td>\n",
       "      <td>FTFM</td>\n",
       "      <td>293622</td>\n",
       "      <td>289908.71</td>\n",
       "      <td>281492.61</td>\n",
       "    </tr>\n",
       "  </tbody>\n",
       "</table>\n",
       "</div>"
      ],
      "text/plain": [
       "   YEAR MONTH_NUM MONTH_MON  ENTRY_DATE ENTITY_NAME  ENTITY_TYPE TYPE_MODEL  \\\n",
       "0  2015         1       JAN  2015-01-01     Albania  State (FIR)        CPF   \n",
       "1  2015         1       JAN  2015-01-01     Albania  State (FIR)       FTFM   \n",
       "2  2015         1       JAN  2015-01-01     Armenia  State (FIR)       FTFM   \n",
       "3  2015         1       JAN  2015-01-01     Austria  State (FIR)        CPF   \n",
       "4  2015         1       JAN  2015-01-01     Austria  State (FIR)       FTFM   \n",
       "\n",
       "  DIST_FLOWN_KM DIST_DIRECT_KM DIST_ACHIEVED_KM  \n",
       "0         54860       54818.31         54243.46  \n",
       "1         57351       57203.44         56046.98  \n",
       "2         12569       12480.85         12203.53  \n",
       "3        276427      275679.17           271400  \n",
       "4        293622      289908.71        281492.61  "
      ]
     },
     "execution_count": 6,
     "metadata": {},
     "output_type": "execute_result"
    }
   ],
   "source": [
    "horizontal_flight_efficiency_df.head(5)"
   ]
  },
  {
   "cell_type": "code",
   "execution_count": 7,
   "id": "112e4337",
   "metadata": {},
   "outputs": [
    {
     "data": {
      "text/html": [
       "<div>\n",
       "<style scoped>\n",
       "    .dataframe tbody tr th:only-of-type {\n",
       "        vertical-align: middle;\n",
       "    }\n",
       "\n",
       "    .dataframe tbody tr th {\n",
       "        vertical-align: top;\n",
       "    }\n",
       "\n",
       "    .dataframe thead th {\n",
       "        text-align: right;\n",
       "    }\n",
       "</style>\n",
       "<table border=\"1\" class=\"dataframe\">\n",
       "  <thead>\n",
       "    <tr style=\"text-align: right;\">\n",
       "      <th></th>\n",
       "      <th>YEAR</th>\n",
       "      <th>MONTH</th>\n",
       "      <th>STATE_NAME</th>\n",
       "      <th>STATE_CODE</th>\n",
       "      <th>CO2_QTY_TONNES</th>\n",
       "      <th>TF</th>\n",
       "      <th>NOTE</th>\n",
       "      <th>Unnamed: 7</th>\n",
       "    </tr>\n",
       "  </thead>\n",
       "  <tbody>\n",
       "    <tr>\n",
       "      <th>6887</th>\n",
       "      <td>2023</td>\n",
       "      <td>7</td>\n",
       "      <td>SLOVAKIA</td>\n",
       "      <td>LZ</td>\n",
       "      <td>22953.28155</td>\n",
       "      <td>1909</td>\n",
       "      <td>FALSE</td>\n",
       "      <td>NaN</td>\n",
       "    </tr>\n",
       "    <tr>\n",
       "      <th>10142</th>\n",
       "      <td>2015</td>\n",
       "      <td>1</td>\n",
       "      <td>SPAIN</td>\n",
       "      <td>LE</td>\n",
       "      <td>846081.015</td>\n",
       "      <td>42362</td>\n",
       "      <td>FALSE</td>\n",
       "      <td>NaN</td>\n",
       "    </tr>\n",
       "    <tr>\n",
       "      <th>12093</th>\n",
       "      <td>2018</td>\n",
       "      <td>11</td>\n",
       "      <td>NORTH MACEDONIA</td>\n",
       "      <td>LW</td>\n",
       "      <td>8589.698</td>\n",
       "      <td>645</td>\n",
       "      <td>FALSE</td>\n",
       "      <td>NaN</td>\n",
       "    </tr>\n",
       "    <tr>\n",
       "      <th>4291</th>\n",
       "      <td>2018</td>\n",
       "      <td>7</td>\n",
       "      <td>POLAND</td>\n",
       "      <td>EP</td>\n",
       "      <td>316375.361</td>\n",
       "      <td>21683</td>\n",
       "      <td>FALSE</td>\n",
       "      <td>NaN</td>\n",
       "    </tr>\n",
       "    <tr>\n",
       "      <th>15055</th>\n",
       "      <td>2024</td>\n",
       "      <td>8</td>\n",
       "      <td>DENMARK</td>\n",
       "      <td>EK</td>\n",
       "      <td>280139.57214</td>\n",
       "      <td>16245</td>\n",
       "      <td>TRUE</td>\n",
       "      <td>NaN</td>\n",
       "    </tr>\n",
       "  </tbody>\n",
       "</table>\n",
       "</div>"
      ],
      "text/plain": [
       "       YEAR MONTH       STATE_NAME STATE_CODE CO2_QTY_TONNES     TF   NOTE  \\\n",
       "6887   2023     7         SLOVAKIA         LZ    22953.28155   1909  FALSE   \n",
       "10142  2015     1            SPAIN         LE     846081.015  42362  FALSE   \n",
       "12093  2018    11  NORTH MACEDONIA         LW       8589.698    645  FALSE   \n",
       "4291   2018     7           POLAND         EP     316375.361  21683  FALSE   \n",
       "15055  2024     8          DENMARK         EK   280139.57214  16245   TRUE   \n",
       "\n",
       "      Unnamed: 7  \n",
       "6887         NaN  \n",
       "10142        NaN  \n",
       "12093        NaN  \n",
       "4291         NaN  \n",
       "15055        NaN  "
      ]
     },
     "execution_count": 7,
     "metadata": {},
     "output_type": "execute_result"
    }
   ],
   "source": [
    "co2_emmissions_df.sample(5)"
   ]
  },
  {
   "cell_type": "code",
   "execution_count": null,
   "id": "7b8068df",
   "metadata": {},
   "outputs": [
    {
     "data": {
      "application/vnd.plotly.v1+json": {
       "config": {
        "plotlyServerURL": "https://plot.ly"
       },
       "data": [
        {
         "customdata": [
          [
           42,
           "Albania"
          ],
          [
           34,
           "Armenia"
          ],
          [
           30,
           "Austria"
          ],
          [
           35,
           "Austria"
          ],
          [
           10,
           "Austria"
          ],
          [
           19,
           "Austria"
          ],
          [
           60,
           "Austria"
          ],
          [
           366,
           "Austria"
          ],
          [
           51,
           "Belgium"
          ],
          [
           307,
           "Belgium"
          ],
          [
           130,
           "Belgium"
          ],
          [
           140,
           "Belgium"
          ],
          [
           22,
           "Belgium"
          ],
          [
           21,
           "Bosnia and Herzegovina"
          ],
          [
           110,
           "Bulgaria"
          ],
          [
           80,
           "Croatia"
          ],
          [
           71,
           "Cyprus"
          ],
          [
           40,
           "Cyprus"
          ],
          [
           4,
           "Czech Republic"
          ],
          [
           22,
           "Czech Republic"
          ],
          [
           171,
           "Czech Republic"
          ],
          [
           13,
           "Czech Republic"
          ],
          [
           415,
           "Denmark"
          ],
          [
           81,
           "Estonia"
          ],
          [
           312,
           "Finland"
          ],
          [
           8,
           "France"
          ],
          [
           2,
           "France"
          ],
          [
           111,
           "France"
          ],
          [
           8,
           "France"
          ],
          [
           10,
           "France"
          ],
          [
           21,
           "France"
          ],
          [
           12,
           "France"
          ],
          [
           166,
           "France"
          ],
          [
           20,
           "France"
          ],
          [
           23,
           "France"
          ],
          [
           30,
           "France"
          ],
          [
           11,
           "France"
          ],
          [
           4,
           "France"
          ],
          [
           6,
           "France"
          ],
          [
           1,
           "France"
          ],
          [
           24,
           "France"
          ],
          [
           14,
           "France"
          ],
          [
           13,
           "France"
          ],
          [
           28,
           "France"
          ],
          [
           32,
           "France"
          ],
          [
           30,
           "France"
          ],
          [
           4,
           "France"
          ],
          [
           177,
           "France"
          ],
          [
           12,
           "France"
          ],
          [
           22,
           "France"
          ],
          [
           14,
           "France"
          ],
          [
           39,
           "France"
          ],
          [
           33,
           "France"
          ],
          [
           7,
           "France"
          ],
          [
           13,
           "France"
          ],
          [
           20,
           "France"
          ],
          [
           209,
           "France"
          ],
          [
           241,
           "France"
          ],
          [
           52,
           "France"
          ],
          [
           94,
           "France"
          ],
          [
           20,
           "France"
          ],
          [
           25,
           "France"
          ],
          [
           62,
           "France"
          ],
          [
           8,
           "France"
          ],
          [
           13,
           "France"
          ],
          [
           10,
           "France"
          ],
          [
           13,
           "France"
          ],
          [
           151,
           "France"
          ],
          [
           896,
           "France"
          ],
          [
           29,
           "France"
          ],
          [
           415,
           "France"
          ],
          [
           46,
           "France"
          ],
          [
           35,
           "France"
          ],
          [
           5,
           "France"
          ],
          [
           14,
           "France"
          ],
          [
           16,
           "France"
          ],
          [
           4,
           "France"
          ],
          [
           44,
           "France"
          ],
          [
           3,
           "France"
          ],
          [
           10,
           "France"
          ],
          [
           70,
           "France"
          ],
          [
           10,
           "France"
          ],
          [
           109,
           "France"
          ],
          [
           6,
           "France"
          ],
          [
           30,
           "France"
          ],
          [
           9,
           "France"
          ],
          [
           11,
           "France"
          ],
          [
           57,
           "Georgia"
          ],
          [
           318,
           "Germany"
          ],
          [
           16,
           "Germany"
          ],
          [
           15,
           "Germany"
          ],
          [
           749,
           "Germany"
          ],
          [
           49,
           "Germany"
          ],
          [
           210,
           "Germany"
          ],
          [
           293,
           "Germany"
          ],
          [
           259,
           "Germany"
          ],
          [
           493,
           "Germany"
          ],
          [
           64,
           "Germany"
          ],
          [
           254,
           "Germany"
          ],
          [
           16,
           "Germany"
          ],
          [
           167,
           "Germany"
          ],
          [
           96,
           "Germany"
          ],
          [
           51,
           "Germany"
          ],
          [
           338,
           "Greece"
          ],
          [
           30,
           "Greece"
          ],
          [
           5,
           "Greece"
          ],
          [
           15,
           "Greece"
          ],
          [
           11,
           "Greece"
          ],
          [
           5,
           "Greece"
          ],
          [
           2,
           "Greece"
          ],
          [
           14,
           "Greece"
          ],
          [
           18,
           "Greece"
          ],
          [
           2,
           "Greece"
          ],
          [
           7,
           "Greece"
          ],
          [
           75,
           "Greece"
          ],
          [
           5,
           "Greece"
          ],
          [
           217,
           "Hungary"
          ],
          [
           36,
           "Ireland"
          ],
          [
           2,
           "Ireland"
          ],
          [
           382,
           "Ireland"
          ],
          [
           7,
           "Ireland"
          ],
          [
           6,
           "Ireland"
          ],
          [
           38,
           "Ireland"
          ],
          [
           1,
           "Ireland"
          ],
          [
           268,
           "Israel"
          ],
          [
           36,
           "Italy"
          ],
          [
           132,
           "Italy"
          ],
          [
           100,
           "Italy"
          ],
          [
           387,
           "Italy"
          ],
          [
           185,
           "Italy"
          ],
          [
           71,
           "Italy"
          ],
          [
           234,
           "Italy"
          ],
          [
           144,
           "Italy"
          ],
          [
           34,
           "Italy"
          ],
          [
           110,
           "Italy"
          ],
          [
           99,
           "Italy"
          ],
          [
           327,
           "Italy"
          ],
          [
           134,
           "Italy"
          ],
          [
           58,
           "Italy"
          ],
          [
           2,
           "Latvia"
          ],
          [
           106,
           "Latvia"
          ],
          [
           21,
           "Lithuania"
          ],
          [
           8,
           "Lithuania"
          ],
          [
           8,
           "Lithuania"
          ],
          [
           67,
           "Lithuania"
          ],
          [
           166,
           "Luxembourg"
          ],
          [
           76,
           "Malta"
          ],
          [
           31,
           "Moldova"
          ],
          [
           12,
           "Montenegro"
          ],
          [
           25,
           "Morocco"
          ],
          [
           19,
           "Morocco"
          ],
          [
           25,
           "Morocco"
          ],
          [
           156,
           "Morocco"
          ],
          [
           43,
           "Morocco"
          ],
          [
           36,
           "Morocco"
          ],
          [
           898,
           "Netherlands"
          ],
          [
           25,
           "Netherlands"
          ],
          [
           55,
           "Netherlands"
          ],
          [
           14,
           "Netherlands"
          ],
          [
           51,
           "Netherlands"
          ],
          [
           35,
           "Norway"
          ],
          [
           10,
           "Norway"
          ],
          [
           25,
           "Norway"
          ],
          [
           8,
           "Norway"
          ],
          [
           16,
           "Norway"
          ],
          [
           119,
           "Norway"
          ],
          [
           223,
           "Norway"
          ],
          [
           8,
           "Norway"
          ],
          [
           6,
           "Norway"
          ],
          [
           28,
           "Norway"
          ],
          [
           9,
           "Norway"
          ],
          [
           28,
           "Norway"
          ],
          [
           16,
           "Norway"
          ],
          [
           395,
           "Norway"
          ],
          [
           16,
           "Norway"
          ],
          [
           38,
           "Norway"
          ],
          [
           4,
           "Norway"
          ],
          [
           16,
           "Norway"
          ],
          [
           20,
           "Norway"
          ],
          [
           12,
           "Norway"
          ],
          [
           10,
           "Norway"
          ],
          [
           9,
           "Norway"
          ],
          [
           18,
           "Norway"
          ],
          [
           6,
           "Norway"
          ],
          [
           8,
           "Norway"
          ],
          [
           8,
           "Norway"
          ],
          [
           16,
           "Norway"
          ],
          [
           11,
           "Norway"
          ],
          [
           4,
           "Norway"
          ],
          [
           6,
           "Norway"
          ],
          [
           8,
           "Norway"
          ],
          [
           3,
           "Norway"
          ],
          [
           12,
           "Norway"
          ],
          [
           12,
           "Norway"
          ],
          [
           20,
           "Norway"
          ],
          [
           6,
           "Norway"
          ],
          [
           8,
           "Norway"
          ],
          [
           4,
           "Norway"
          ],
          [
           133,
           "Norway"
          ],
          [
           141,
           "Norway"
          ],
          [
           22,
           "Norway"
          ],
          [
           2,
           "Norway"
          ],
          [
           138,
           "Norway"
          ],
          [
           2,
           "Poland"
          ],
          [
           76,
           "Poland"
          ],
          [
           112,
           "Poland"
          ],
          [
           49,
           "Poland"
          ],
          [
           6,
           "Poland"
          ],
          [
           8,
           "Poland"
          ],
          [
           41,
           "Poland"
          ],
          [
           31,
           "Poland"
          ],
          [
           25,
           "Poland"
          ],
          [
           8,
           "Poland"
          ],
          [
           264,
           "Poland"
          ],
          [
           54,
           "Poland"
          ],
          [
           2,
           "Poland"
          ],
          [
           10,
           "Portugal"
          ],
          [
           16,
           "Portugal"
          ],
          [
           4,
           "Portugal"
          ],
          [
           74,
           "Portugal"
          ],
          [
           10,
           "Portugal"
          ],
          [
           60,
           "Portugal"
          ],
          [
           2,
           "Portugal"
          ],
          [
           42,
           "Portugal"
          ],
          [
           178,
           "Portugal"
          ],
          [
           7,
           "Portugal"
          ],
          [
           397,
           "Portugal"
          ],
          [
           24,
           "Republic of North Macedonia"
          ],
          [
           37,
           "Romania"
          ],
          [
           217,
           "Romania"
          ],
          [
           116,
           "Serbia"
          ],
          [
           33,
           "Slovakia"
          ],
          [
           42,
           "Slovenia"
          ],
          [
           7,
           "Slovenia"
          ],
          [
           1,
           "Slovenia"
          ],
          [
           105,
           "Spain"
          ],
          [
           4,
           "Spain"
          ],
          [
           14,
           "Spain"
          ],
          [
           42,
           "Spain"
          ],
          [
           300,
           "Spain"
          ],
          [
           110,
           "Spain"
          ],
          [
           175,
           "Spain"
          ],
          [
           154,
           "Spain"
          ],
          [
           18,
           "Spain"
          ],
          [
           9,
           "Spain"
          ],
          [
           125,
           "Spain"
          ],
          [
           10,
           "Spain"
          ],
          [
           15,
           "Spain"
          ],
          [
           4,
           "Spain"
          ],
          [
           72,
           "Spain"
          ],
          [
           12,
           "Spain"
          ],
          [
           519,
           "Spain"
          ],
          [
           6,
           "Spain"
          ],
          [
           19,
           "Spain"
          ],
          [
           15,
           "Spain"
          ],
          [
           32,
           "Spain"
          ],
          [
           26,
           "Spain"
          ],
          [
           17,
           "Spain"
          ],
          [
           4,
           "Spain"
          ],
          [
           71,
           "Spain"
          ],
          [
           4,
           "Spain"
          ],
          [
           49,
           "Spain"
          ],
          [
           12,
           "Spain"
          ],
          [
           2,
           "Spain"
          ],
          [
           817,
           "Spain"
          ],
          [
           244,
           "Spain"
          ],
          [
           26,
           "Spain"
          ],
          [
           2,
           "Spain"
          ],
          [
           16,
           "Spain"
          ],
          [
           210,
           "Spain"
          ],
          [
           8,
           "Spain"
          ],
          [
           4,
           "Spain"
          ],
          [
           2,
           "Spain"
          ],
          [
           6,
           "Spain"
          ],
          [
           21,
           "Spain"
          ],
          [
           12,
           "Spain"
          ],
          [
           3,
           "Spain"
          ],
          [
           14,
           "Spain"
          ],
          [
           33,
           "Spain"
          ],
          [
           5,
           "Spain"
          ],
          [
           132,
           "Spain"
          ],
          [
           11,
           "Spain"
          ],
          [
           40,
           "Spain"
          ],
          [
           21,
           "Spain"
          ],
          [
           14,
           "Spain"
          ],
          [
           24,
           "Spain"
          ],
          [
           101,
           "Spain"
          ],
          [
           87,
           "Sweden"
          ],
          [
           316,
           "Sweden"
          ],
          [
           76,
           "Sweden"
          ],
          [
           331,
           "Switzerland"
          ],
          [
           28,
           "Switzerland"
          ],
          [
           352,
           "Switzerland"
          ],
          [
           163,
           "Türkiye"
          ],
          [
           125,
           "Türkiye"
          ],
          [
           42,
           "Türkiye"
          ],
          [
           93,
           "Türkiye"
          ],
          [
           446,
           "Türkiye"
          ],
          [
           916,
           "Türkiye"
          ],
          [
           163,
           "Ukraine"
          ],
          [
           99,
           "United Kingdom"
          ],
          [
           38,
           "United Kingdom"
          ],
          [
           6,
           "United Kingdom"
          ],
          [
           131,
           "United Kingdom"
          ],
          [
           284,
           "United Kingdom"
          ],
          [
           119,
           "United Kingdom"
          ],
          [
           221,
           "United Kingdom"
          ],
          [
           44,
           "United Kingdom"
          ],
          [
           79,
           "United Kingdom"
          ],
          [
           288,
           "United Kingdom"
          ],
          [
           95,
           "United Kingdom"
          ],
          [
           86,
           "United Kingdom"
          ],
          [
           716,
           "United Kingdom"
          ],
          [
           50,
           "United Kingdom"
          ],
          [
           156,
           "United Kingdom"
          ],
          [
           80,
           "United Kingdom"
          ],
          [
           110,
           "United Kingdom"
          ],
          [
           176,
           "United Kingdom"
          ],
          [
           306,
           "United Kingdom"
          ],
          [
           42,
           "Albania"
          ],
          [
           34,
           "Armenia"
          ],
          [
           30,
           "Austria"
          ],
          [
           35,
           "Austria"
          ],
          [
           10,
           "Austria"
          ],
          [
           19,
           "Austria"
          ],
          [
           60,
           "Austria"
          ],
          [
           366,
           "Austria"
          ],
          [
           51,
           "Belgium"
          ],
          [
           307,
           "Belgium"
          ],
          [
           130,
           "Belgium"
          ],
          [
           140,
           "Belgium"
          ],
          [
           22,
           "Belgium"
          ],
          [
           21,
           "Bosnia and Herzegovina"
          ],
          [
           110,
           "Bulgaria"
          ],
          [
           80,
           "Croatia"
          ],
          [
           71,
           "Cyprus"
          ],
          [
           40,
           "Cyprus"
          ],
          [
           4,
           "Czech Republic"
          ],
          [
           22,
           "Czech Republic"
          ],
          [
           171,
           "Czech Republic"
          ],
          [
           13,
           "Czech Republic"
          ],
          [
           415,
           "Denmark"
          ],
          [
           81,
           "Estonia"
          ],
          [
           312,
           "Finland"
          ],
          [
           8,
           "France"
          ],
          [
           2,
           "France"
          ],
          [
           111,
           "France"
          ],
          [
           8,
           "France"
          ],
          [
           10,
           "France"
          ],
          [
           21,
           "France"
          ],
          [
           12,
           "France"
          ],
          [
           166,
           "France"
          ],
          [
           20,
           "France"
          ],
          [
           23,
           "France"
          ],
          [
           30,
           "France"
          ],
          [
           11,
           "France"
          ],
          [
           4,
           "France"
          ],
          [
           6,
           "France"
          ],
          [
           1,
           "France"
          ],
          [
           24,
           "France"
          ],
          [
           14,
           "France"
          ],
          [
           13,
           "France"
          ],
          [
           28,
           "France"
          ],
          [
           32,
           "France"
          ],
          [
           30,
           "France"
          ],
          [
           4,
           "France"
          ],
          [
           177,
           "France"
          ],
          [
           12,
           "France"
          ],
          [
           22,
           "France"
          ],
          [
           14,
           "France"
          ],
          [
           39,
           "France"
          ],
          [
           33,
           "France"
          ],
          [
           7,
           "France"
          ],
          [
           13,
           "France"
          ],
          [
           20,
           "France"
          ],
          [
           209,
           "France"
          ],
          [
           241,
           "France"
          ],
          [
           52,
           "France"
          ],
          [
           94,
           "France"
          ],
          [
           20,
           "France"
          ],
          [
           25,
           "France"
          ],
          [
           62,
           "France"
          ],
          [
           8,
           "France"
          ],
          [
           13,
           "France"
          ],
          [
           10,
           "France"
          ],
          [
           13,
           "France"
          ],
          [
           151,
           "France"
          ],
          [
           896,
           "France"
          ],
          [
           29,
           "France"
          ],
          [
           415,
           "France"
          ],
          [
           46,
           "France"
          ],
          [
           35,
           "France"
          ],
          [
           5,
           "France"
          ],
          [
           14,
           "France"
          ],
          [
           16,
           "France"
          ],
          [
           4,
           "France"
          ],
          [
           44,
           "France"
          ],
          [
           3,
           "France"
          ],
          [
           10,
           "France"
          ],
          [
           70,
           "France"
          ],
          [
           10,
           "France"
          ],
          [
           109,
           "France"
          ],
          [
           6,
           "France"
          ],
          [
           30,
           "France"
          ],
          [
           9,
           "France"
          ],
          [
           11,
           "France"
          ],
          [
           57,
           "Georgia"
          ],
          [
           318,
           "Germany"
          ],
          [
           16,
           "Germany"
          ],
          [
           15,
           "Germany"
          ],
          [
           749,
           "Germany"
          ],
          [
           49,
           "Germany"
          ],
          [
           210,
           "Germany"
          ],
          [
           293,
           "Germany"
          ],
          [
           259,
           "Germany"
          ],
          [
           493,
           "Germany"
          ],
          [
           64,
           "Germany"
          ],
          [
           254,
           "Germany"
          ],
          [
           16,
           "Germany"
          ],
          [
           167,
           "Germany"
          ],
          [
           96,
           "Germany"
          ],
          [
           51,
           "Germany"
          ],
          [
           338,
           "Greece"
          ],
          [
           30,
           "Greece"
          ],
          [
           5,
           "Greece"
          ],
          [
           15,
           "Greece"
          ],
          [
           11,
           "Greece"
          ],
          [
           5,
           "Greece"
          ],
          [
           2,
           "Greece"
          ],
          [
           14,
           "Greece"
          ],
          [
           18,
           "Greece"
          ],
          [
           2,
           "Greece"
          ],
          [
           7,
           "Greece"
          ],
          [
           75,
           "Greece"
          ],
          [
           5,
           "Greece"
          ],
          [
           217,
           "Hungary"
          ],
          [
           36,
           "Ireland"
          ],
          [
           2,
           "Ireland"
          ],
          [
           382,
           "Ireland"
          ],
          [
           7,
           "Ireland"
          ],
          [
           6,
           "Ireland"
          ],
          [
           38,
           "Ireland"
          ],
          [
           1,
           "Ireland"
          ],
          [
           268,
           "Israel"
          ],
          [
           36,
           "Italy"
          ],
          [
           132,
           "Italy"
          ],
          [
           100,
           "Italy"
          ],
          [
           387,
           "Italy"
          ],
          [
           185,
           "Italy"
          ],
          [
           71,
           "Italy"
          ],
          [
           234,
           "Italy"
          ],
          [
           144,
           "Italy"
          ],
          [
           34,
           "Italy"
          ],
          [
           110,
           "Italy"
          ],
          [
           99,
           "Italy"
          ],
          [
           327,
           "Italy"
          ],
          [
           134,
           "Italy"
          ],
          [
           58,
           "Italy"
          ],
          [
           2,
           "Latvia"
          ],
          [
           106,
           "Latvia"
          ],
          [
           21,
           "Lithuania"
          ],
          [
           8,
           "Lithuania"
          ],
          [
           8,
           "Lithuania"
          ],
          [
           67,
           "Lithuania"
          ],
          [
           166,
           "Luxembourg"
          ],
          [
           76,
           "Malta"
          ],
          [
           31,
           "Moldova"
          ],
          [
           12,
           "Montenegro"
          ],
          [
           25,
           "Morocco"
          ],
          [
           19,
           "Morocco"
          ],
          [
           25,
           "Morocco"
          ],
          [
           156,
           "Morocco"
          ],
          [
           43,
           "Morocco"
          ],
          [
           36,
           "Morocco"
          ],
          [
           898,
           "Netherlands"
          ],
          [
           25,
           "Netherlands"
          ],
          [
           55,
           "Netherlands"
          ],
          [
           14,
           "Netherlands"
          ],
          [
           51,
           "Netherlands"
          ],
          [
           35,
           "Norway"
          ],
          [
           10,
           "Norway"
          ],
          [
           25,
           "Norway"
          ],
          [
           8,
           "Norway"
          ],
          [
           16,
           "Norway"
          ],
          [
           119,
           "Norway"
          ],
          [
           223,
           "Norway"
          ],
          [
           8,
           "Norway"
          ],
          [
           6,
           "Norway"
          ],
          [
           28,
           "Norway"
          ],
          [
           9,
           "Norway"
          ],
          [
           28,
           "Norway"
          ],
          [
           16,
           "Norway"
          ],
          [
           395,
           "Norway"
          ],
          [
           16,
           "Norway"
          ],
          [
           38,
           "Norway"
          ],
          [
           4,
           "Norway"
          ],
          [
           16,
           "Norway"
          ],
          [
           20,
           "Norway"
          ],
          [
           12,
           "Norway"
          ],
          [
           10,
           "Norway"
          ],
          [
           9,
           "Norway"
          ],
          [
           18,
           "Norway"
          ],
          [
           6,
           "Norway"
          ],
          [
           8,
           "Norway"
          ],
          [
           8,
           "Norway"
          ],
          [
           16,
           "Norway"
          ],
          [
           11,
           "Norway"
          ],
          [
           4,
           "Norway"
          ],
          [
           6,
           "Norway"
          ],
          [
           8,
           "Norway"
          ],
          [
           3,
           "Norway"
          ],
          [
           12,
           "Norway"
          ],
          [
           12,
           "Norway"
          ],
          [
           20,
           "Norway"
          ],
          [
           6,
           "Norway"
          ],
          [
           8,
           "Norway"
          ],
          [
           4,
           "Norway"
          ],
          [
           133,
           "Norway"
          ],
          [
           141,
           "Norway"
          ],
          [
           22,
           "Norway"
          ],
          [
           2,
           "Norway"
          ],
          [
           138,
           "Norway"
          ],
          [
           2,
           "Poland"
          ],
          [
           76,
           "Poland"
          ],
          [
           112,
           "Poland"
          ],
          [
           49,
           "Poland"
          ],
          [
           6,
           "Poland"
          ],
          [
           8,
           "Poland"
          ],
          [
           41,
           "Poland"
          ],
          [
           31,
           "Poland"
          ],
          [
           25,
           "Poland"
          ],
          [
           8,
           "Poland"
          ],
          [
           264,
           "Poland"
          ],
          [
           54,
           "Poland"
          ],
          [
           2,
           "Poland"
          ],
          [
           10,
           "Portugal"
          ],
          [
           16,
           "Portugal"
          ],
          [
           4,
           "Portugal"
          ],
          [
           74,
           "Portugal"
          ],
          [
           10,
           "Portugal"
          ],
          [
           60,
           "Portugal"
          ],
          [
           2,
           "Portugal"
          ],
          [
           42,
           "Portugal"
          ],
          [
           178,
           "Portugal"
          ],
          [
           7,
           "Portugal"
          ],
          [
           397,
           "Portugal"
          ],
          [
           24,
           "Republic of North Macedonia"
          ],
          [
           37,
           "Romania"
          ],
          [
           217,
           "Romania"
          ],
          [
           116,
           "Serbia"
          ],
          [
           33,
           "Slovakia"
          ],
          [
           42,
           "Slovenia"
          ],
          [
           7,
           "Slovenia"
          ],
          [
           1,
           "Slovenia"
          ],
          [
           105,
           "Spain"
          ],
          [
           4,
           "Spain"
          ],
          [
           14,
           "Spain"
          ],
          [
           42,
           "Spain"
          ],
          [
           300,
           "Spain"
          ],
          [
           110,
           "Spain"
          ],
          [
           175,
           "Spain"
          ],
          [
           154,
           "Spain"
          ],
          [
           18,
           "Spain"
          ],
          [
           9,
           "Spain"
          ],
          [
           125,
           "Spain"
          ],
          [
           10,
           "Spain"
          ],
          [
           15,
           "Spain"
          ],
          [
           4,
           "Spain"
          ],
          [
           72,
           "Spain"
          ],
          [
           12,
           "Spain"
          ],
          [
           519,
           "Spain"
          ],
          [
           6,
           "Spain"
          ],
          [
           19,
           "Spain"
          ],
          [
           15,
           "Spain"
          ],
          [
           32,
           "Spain"
          ],
          [
           26,
           "Spain"
          ],
          [
           17,
           "Spain"
          ],
          [
           4,
           "Spain"
          ],
          [
           71,
           "Spain"
          ],
          [
           4,
           "Spain"
          ],
          [
           49,
           "Spain"
          ],
          [
           12,
           "Spain"
          ],
          [
           2,
           "Spain"
          ],
          [
           817,
           "Spain"
          ],
          [
           244,
           "Spain"
          ],
          [
           26,
           "Spain"
          ],
          [
           2,
           "Spain"
          ],
          [
           16,
           "Spain"
          ],
          [
           210,
           "Spain"
          ],
          [
           8,
           "Spain"
          ],
          [
           4,
           "Spain"
          ],
          [
           2,
           "Spain"
          ],
          [
           6,
           "Spain"
          ],
          [
           21,
           "Spain"
          ],
          [
           12,
           "Spain"
          ],
          [
           3,
           "Spain"
          ],
          [
           14,
           "Spain"
          ],
          [
           33,
           "Spain"
          ],
          [
           5,
           "Spain"
          ],
          [
           132,
           "Spain"
          ],
          [
           11,
           "Spain"
          ],
          [
           40,
           "Spain"
          ],
          [
           21,
           "Spain"
          ],
          [
           14,
           "Spain"
          ],
          [
           24,
           "Spain"
          ],
          [
           101,
           "Spain"
          ],
          [
           87,
           "Sweden"
          ],
          [
           316,
           "Sweden"
          ],
          [
           76,
           "Sweden"
          ],
          [
           331,
           "Switzerland"
          ],
          [
           28,
           "Switzerland"
          ],
          [
           352,
           "Switzerland"
          ],
          [
           163,
           "Türkiye"
          ],
          [
           125,
           "Türkiye"
          ],
          [
           42,
           "Türkiye"
          ],
          [
           93,
           "Türkiye"
          ],
          [
           446,
           "Türkiye"
          ],
          [
           916,
           "Türkiye"
          ],
          [
           163,
           "Ukraine"
          ],
          [
           99,
           "United Kingdom"
          ],
          [
           38,
           "United Kingdom"
          ],
          [
           6,
           "United Kingdom"
          ],
          [
           131,
           "United Kingdom"
          ],
          [
           284,
           "United Kingdom"
          ],
          [
           119,
           "United Kingdom"
          ],
          [
           221,
           "United Kingdom"
          ],
          [
           44,
           "United Kingdom"
          ],
          [
           79,
           "United Kingdom"
          ],
          [
           288,
           "United Kingdom"
          ],
          [
           95,
           "United Kingdom"
          ],
          [
           86,
           "United Kingdom"
          ],
          [
           716,
           "United Kingdom"
          ],
          [
           50,
           "United Kingdom"
          ],
          [
           156,
           "United Kingdom"
          ],
          [
           80,
           "United Kingdom"
          ],
          [
           110,
           "United Kingdom"
          ],
          [
           176,
           "United Kingdom"
          ],
          [
           306,
           "United Kingdom"
          ],
          [
           42,
           "Albania"
          ],
          [
           34,
           "Armenia"
          ],
          [
           30,
           "Austria"
          ],
          [
           35,
           "Austria"
          ],
          [
           10,
           "Austria"
          ],
          [
           19,
           "Austria"
          ],
          [
           60,
           "Austria"
          ],
          [
           366,
           "Austria"
          ],
          [
           51,
           "Belgium"
          ],
          [
           307,
           "Belgium"
          ],
          [
           130,
           "Belgium"
          ],
          [
           140,
           "Belgium"
          ],
          [
           22,
           "Belgium"
          ],
          [
           21,
           "Bosnia and Herzegovina"
          ],
          [
           110,
           "Bulgaria"
          ],
          [
           80,
           "Croatia"
          ],
          [
           71,
           "Cyprus"
          ],
          [
           40,
           "Cyprus"
          ],
          [
           4,
           "Czech Republic"
          ],
          [
           22,
           "Czech Republic"
          ],
          [
           171,
           "Czech Republic"
          ],
          [
           13,
           "Czech Republic"
          ],
          [
           415,
           "Denmark"
          ],
          [
           81,
           "Estonia"
          ],
          [
           312,
           "Finland"
          ],
          [
           8,
           "France"
          ],
          [
           2,
           "France"
          ],
          [
           111,
           "France"
          ],
          [
           8,
           "France"
          ],
          [
           10,
           "France"
          ],
          [
           21,
           "France"
          ],
          [
           12,
           "France"
          ],
          [
           166,
           "France"
          ],
          [
           20,
           "France"
          ],
          [
           23,
           "France"
          ],
          [
           30,
           "France"
          ],
          [
           11,
           "France"
          ],
          [
           4,
           "France"
          ],
          [
           6,
           "France"
          ],
          [
           1,
           "France"
          ],
          [
           24,
           "France"
          ],
          [
           14,
           "France"
          ],
          [
           13,
           "France"
          ],
          [
           28,
           "France"
          ],
          [
           32,
           "France"
          ],
          [
           30,
           "France"
          ],
          [
           4,
           "France"
          ],
          [
           177,
           "France"
          ],
          [
           12,
           "France"
          ],
          [
           22,
           "France"
          ],
          [
           14,
           "France"
          ],
          [
           39,
           "France"
          ],
          [
           33,
           "France"
          ],
          [
           7,
           "France"
          ],
          [
           13,
           "France"
          ],
          [
           20,
           "France"
          ],
          [
           209,
           "France"
          ],
          [
           241,
           "France"
          ],
          [
           52,
           "France"
          ],
          [
           94,
           "France"
          ],
          [
           20,
           "France"
          ],
          [
           25,
           "France"
          ],
          [
           62,
           "France"
          ],
          [
           8,
           "France"
          ],
          [
           13,
           "France"
          ],
          [
           10,
           "France"
          ],
          [
           13,
           "France"
          ],
          [
           151,
           "France"
          ],
          [
           896,
           "France"
          ],
          [
           29,
           "France"
          ],
          [
           415,
           "France"
          ],
          [
           46,
           "France"
          ],
          [
           35,
           "France"
          ],
          [
           5,
           "France"
          ],
          [
           14,
           "France"
          ],
          [
           16,
           "France"
          ],
          [
           4,
           "France"
          ],
          [
           44,
           "France"
          ],
          [
           3,
           "France"
          ],
          [
           10,
           "France"
          ],
          [
           70,
           "France"
          ],
          [
           10,
           "France"
          ],
          [
           109,
           "France"
          ],
          [
           6,
           "France"
          ],
          [
           30,
           "France"
          ],
          [
           9,
           "France"
          ],
          [
           11,
           "France"
          ],
          [
           57,
           "Georgia"
          ],
          [
           318,
           "Germany"
          ],
          [
           16,
           "Germany"
          ],
          [
           15,
           "Germany"
          ],
          [
           749,
           "Germany"
          ],
          [
           49,
           "Germany"
          ],
          [
           210,
           "Germany"
          ],
          [
           293,
           "Germany"
          ],
          [
           259,
           "Germany"
          ],
          [
           493,
           "Germany"
          ],
          [
           64,
           "Germany"
          ],
          [
           254,
           "Germany"
          ],
          [
           16,
           "Germany"
          ],
          [
           167,
           "Germany"
          ],
          [
           96,
           "Germany"
          ],
          [
           51,
           "Germany"
          ],
          [
           338,
           "Greece"
          ],
          [
           30,
           "Greece"
          ],
          [
           5,
           "Greece"
          ],
          [
           15,
           "Greece"
          ],
          [
           11,
           "Greece"
          ],
          [
           5,
           "Greece"
          ],
          [
           2,
           "Greece"
          ],
          [
           14,
           "Greece"
          ],
          [
           18,
           "Greece"
          ],
          [
           2,
           "Greece"
          ],
          [
           7,
           "Greece"
          ],
          [
           75,
           "Greece"
          ],
          [
           5,
           "Greece"
          ],
          [
           217,
           "Hungary"
          ],
          [
           36,
           "Ireland"
          ],
          [
           2,
           "Ireland"
          ],
          [
           382,
           "Ireland"
          ],
          [
           7,
           "Ireland"
          ],
          [
           6,
           "Ireland"
          ],
          [
           38,
           "Ireland"
          ],
          [
           1,
           "Ireland"
          ],
          [
           268,
           "Israel"
          ],
          [
           36,
           "Italy"
          ],
          [
           132,
           "Italy"
          ],
          [
           100,
           "Italy"
          ],
          [
           387,
           "Italy"
          ],
          [
           185,
           "Italy"
          ],
          [
           71,
           "Italy"
          ],
          [
           234,
           "Italy"
          ],
          [
           144,
           "Italy"
          ],
          [
           34,
           "Italy"
          ],
          [
           110,
           "Italy"
          ],
          [
           99,
           "Italy"
          ],
          [
           327,
           "Italy"
          ],
          [
           134,
           "Italy"
          ],
          [
           58,
           "Italy"
          ],
          [
           2,
           "Latvia"
          ],
          [
           106,
           "Latvia"
          ],
          [
           21,
           "Lithuania"
          ],
          [
           8,
           "Lithuania"
          ],
          [
           8,
           "Lithuania"
          ],
          [
           67,
           "Lithuania"
          ],
          [
           166,
           "Luxembourg"
          ],
          [
           76,
           "Malta"
          ],
          [
           31,
           "Moldova"
          ],
          [
           12,
           "Montenegro"
          ],
          [
           25,
           "Morocco"
          ],
          [
           19,
           "Morocco"
          ],
          [
           25,
           "Morocco"
          ],
          [
           156,
           "Morocco"
          ],
          [
           43,
           "Morocco"
          ],
          [
           36,
           "Morocco"
          ],
          [
           898,
           "Netherlands"
          ],
          [
           25,
           "Netherlands"
          ],
          [
           55,
           "Netherlands"
          ],
          [
           14,
           "Netherlands"
          ],
          [
           51,
           "Netherlands"
          ],
          [
           35,
           "Norway"
          ],
          [
           10,
           "Norway"
          ],
          [
           25,
           "Norway"
          ],
          [
           8,
           "Norway"
          ],
          [
           16,
           "Norway"
          ],
          [
           119,
           "Norway"
          ],
          [
           223,
           "Norway"
          ],
          [
           8,
           "Norway"
          ],
          [
           6,
           "Norway"
          ],
          [
           28,
           "Norway"
          ],
          [
           9,
           "Norway"
          ],
          [
           28,
           "Norway"
          ],
          [
           16,
           "Norway"
          ],
          [
           395,
           "Norway"
          ],
          [
           16,
           "Norway"
          ],
          [
           38,
           "Norway"
          ],
          [
           4,
           "Norway"
          ],
          [
           16,
           "Norway"
          ],
          [
           20,
           "Norway"
          ],
          [
           12,
           "Norway"
          ],
          [
           10,
           "Norway"
          ],
          [
           9,
           "Norway"
          ],
          [
           18,
           "Norway"
          ],
          [
           6,
           "Norway"
          ],
          [
           8,
           "Norway"
          ],
          [
           8,
           "Norway"
          ],
          [
           16,
           "Norway"
          ],
          [
           11,
           "Norway"
          ],
          [
           4,
           "Norway"
          ],
          [
           6,
           "Norway"
          ],
          [
           8,
           "Norway"
          ],
          [
           3,
           "Norway"
          ],
          [
           12,
           "Norway"
          ],
          [
           12,
           "Norway"
          ],
          [
           20,
           "Norway"
          ],
          [
           6,
           "Norway"
          ],
          [
           8,
           "Norway"
          ],
          [
           4,
           "Norway"
          ],
          [
           133,
           "Norway"
          ],
          [
           141,
           "Norway"
          ],
          [
           22,
           "Norway"
          ],
          [
           2,
           "Norway"
          ],
          [
           138,
           "Norway"
          ],
          [
           2,
           "Poland"
          ],
          [
           76,
           "Poland"
          ],
          [
           112,
           "Poland"
          ],
          [
           49,
           "Poland"
          ],
          [
           6,
           "Poland"
          ],
          [
           8,
           "Poland"
          ],
          [
           41,
           "Poland"
          ],
          [
           31,
           "Poland"
          ],
          [
           25,
           "Poland"
          ],
          [
           8,
           "Poland"
          ],
          [
           264,
           "Poland"
          ],
          [
           54,
           "Poland"
          ],
          [
           2,
           "Poland"
          ],
          [
           10,
           "Portugal"
          ],
          [
           16,
           "Portugal"
          ],
          [
           4,
           "Portugal"
          ],
          [
           74,
           "Portugal"
          ],
          [
           10,
           "Portugal"
          ],
          [
           60,
           "Portugal"
          ],
          [
           2,
           "Portugal"
          ],
          [
           42,
           "Portugal"
          ],
          [
           178,
           "Portugal"
          ],
          [
           7,
           "Portugal"
          ],
          [
           397,
           "Portugal"
          ],
          [
           24,
           "Republic of North Macedonia"
          ],
          [
           37,
           "Romania"
          ],
          [
           217,
           "Romania"
          ],
          [
           116,
           "Serbia"
          ],
          [
           33,
           "Slovakia"
          ],
          [
           42,
           "Slovenia"
          ],
          [
           7,
           "Slovenia"
          ],
          [
           1,
           "Slovenia"
          ],
          [
           105,
           "Spain"
          ],
          [
           4,
           "Spain"
          ],
          [
           14,
           "Spain"
          ],
          [
           42,
           "Spain"
          ],
          [
           300,
           "Spain"
          ],
          [
           110,
           "Spain"
          ],
          [
           175,
           "Spain"
          ],
          [
           154,
           "Spain"
          ],
          [
           18,
           "Spain"
          ],
          [
           9,
           "Spain"
          ],
          [
           125,
           "Spain"
          ],
          [
           10,
           "Spain"
          ],
          [
           15,
           "Spain"
          ],
          [
           4,
           "Spain"
          ],
          [
           72,
           "Spain"
          ],
          [
           12,
           "Spain"
          ],
          [
           519,
           "Spain"
          ],
          [
           6,
           "Spain"
          ],
          [
           19,
           "Spain"
          ],
          [
           15,
           "Spain"
          ],
          [
           32,
           "Spain"
          ],
          [
           26,
           "Spain"
          ],
          [
           17,
           "Spain"
          ],
          [
           4,
           "Spain"
          ],
          [
           71,
           "Spain"
          ],
          [
           4,
           "Spain"
          ],
          [
           49,
           "Spain"
          ],
          [
           12,
           "Spain"
          ],
          [
           2,
           "Spain"
          ],
          [
           817,
           "Spain"
          ],
          [
           244,
           "Spain"
          ],
          [
           26,
           "Spain"
          ],
          [
           2,
           "Spain"
          ],
          [
           16,
           "Spain"
          ],
          [
           210,
           "Spain"
          ],
          [
           8,
           "Spain"
          ],
          [
           4,
           "Spain"
          ],
          [
           2,
           "Spain"
          ],
          [
           6,
           "Spain"
          ],
          [
           21,
           "Spain"
          ],
          [
           12,
           "Spain"
          ],
          [
           3,
           "Spain"
          ],
          [
           14,
           "Spain"
          ],
          [
           33,
           "Spain"
          ],
          [
           5,
           "Spain"
          ],
          [
           132,
           "Spain"
          ],
          [
           11,
           "Spain"
          ],
          [
           40,
           "Spain"
          ],
          [
           21,
           "Spain"
          ],
          [
           14,
           "Spain"
          ],
          [
           24,
           "Spain"
          ],
          [
           101,
           "Spain"
          ],
          [
           87,
           "Sweden"
          ],
          [
           316,
           "Sweden"
          ],
          [
           76,
           "Sweden"
          ],
          [
           331,
           "Switzerland"
          ],
          [
           28,
           "Switzerland"
          ],
          [
           352,
           "Switzerland"
          ],
          [
           163,
           "Türkiye"
          ],
          [
           125,
           "Türkiye"
          ],
          [
           42,
           "Türkiye"
          ],
          [
           93,
           "Türkiye"
          ],
          [
           446,
           "Türkiye"
          ],
          [
           916,
           "Türkiye"
          ],
          [
           163,
           "Ukraine"
          ],
          [
           99,
           "United Kingdom"
          ],
          [
           38,
           "United Kingdom"
          ],
          [
           6,
           "United Kingdom"
          ],
          [
           131,
           "United Kingdom"
          ],
          [
           284,
           "United Kingdom"
          ],
          [
           119,
           "United Kingdom"
          ],
          [
           221,
           "United Kingdom"
          ],
          [
           44,
           "United Kingdom"
          ],
          [
           79,
           "United Kingdom"
          ],
          [
           288,
           "United Kingdom"
          ],
          [
           95,
           "United Kingdom"
          ],
          [
           86,
           "United Kingdom"
          ],
          [
           716,
           "United Kingdom"
          ],
          [
           50,
           "United Kingdom"
          ],
          [
           156,
           "United Kingdom"
          ],
          [
           80,
           "United Kingdom"
          ],
          [
           110,
           "United Kingdom"
          ],
          [
           176,
           "United Kingdom"
          ],
          [
           306,
           "United Kingdom"
          ]
         ],
         "geo": "geo",
         "hovertemplate": "<b>%{hovertext}</b><br><br>LICZBA LOTÓW=%{marker.color}<br>SZER. GEOGRAFICZNA=%{lat}<br>DŁ. GEOGRAFICZNA=%{lon}<br>KRAJ=%{customdata[1]}<extra></extra>",
         "hovertext": [
          "Tirana",
          "Yerevan",
          "Graz",
          "Innsbruck",
          "Klagenfurt",
          "Linz",
          "Salzburg",
          "Vienna",
          "Antwerp",
          "Brussels",
          "Charleroi",
          "Liège",
          "Ostend-Bruges",
          "Sarajevo",
          "Sofia",
          "Zagreb",
          "Larnaca",
          "Paphos",
          "Karlovy Vary",
          "Ostrava",
          "Prague",
          "Brno-Tuřany",
          "Copenhagen - Kastrup",
          "Tallinn",
          "Helsinki - Vantaa",
          "Albert-Bray",
          "Agen-La Garenne",
          "Bordeaux-Mérignac",
          "Bergerac-Roumanière",
          "La Rochelle-Ile de Ré",
          "Poitiers-Biard",
          "Limoges-Bellegarde",
          "Toulouse-Blagnac",
          "Pau-Pyrénées",
          "Tarbes-Lourdes Pyrénées",
          "Biarritz-Bayonne-Anglet",
          "Rodez-Marcillac",
          "Dôle-Tavaux",
          "Metz-Nancy-Lorraine",
          "Angers-Marcé",
          "Bastia-Poretta",
          "Calvi-Sainte-Catherine",
          "Figari-Sud Corse",
          "Ajaccio-Napoléon-Bonaparte",
          "Chambéry-Aix-les-Bains",
          "Clermont-Ferrand-Auvergne",
          "Annemasse",
          "Lyon-Saint-Exupéry",
          "Annecy-Meythet",
          "Grenoble-Isère",
          "Châteauroux-Déols",
          "Lyon-Bron",
          "Cannes-Mandelieu",
          "Saint-Etienne-Bouthéon",
          "Istres-Le Tubé",
          "Carcassonne-Salvaza",
          "Marseille-Provence",
          "Nice-Côte d’Azur",
          "Perpignan-Rivesaltes",
          "Montpellier-Méditerranée",
          "Béziers-Vias",
          "Avignon-Caumont",
          "Beauvais-Tillé",
          "Le Havre-Octeville",
          "Châlons-Vatry",
          "Rouen",
          "Tours-Val de Loire",
          "Paris-Le Bourget",
          "Paris-Charles-de-Gaulle",
          "Toussus-le-Noble",
          "Paris-Orly",
          "Lille-Lesquin",
          "Brest-Bretagne",
          "Deauville-Normandie",
          "Lorient-Lann Bihoué",
          "Caen-Carpiquet",
          "Le Mans",
          "Rennes-Saint-Jacques",
          "Lannion",
          "Quimper-Pluguffan",
          "Nantes-Atlantique",
          "Saint-Nazaire-Montoir",
          "Bâle-Mulhouse",
          "Brive-Souillac",
          "Strasbourg-Entzheim",
          "Hyères-Le Palyvestre",
          "Nîmes-Garons",
          "Tbilisi",
          "Berlin - Brandenburg",
          "Dresden",
          "Erfurt",
          "Frankfurt",
          "Muenster-Osnabrueck",
          "Hamburg",
          "Cologne-Bonn",
          "Dusseldorf",
          "Munich",
          "Nuremberg",
          "Leipzig-Halle",
          "Saarbruecken",
          "Stuttgart",
          "Hanover",
          "Bremen",
          "Athens",
          "Heraklion",
          "Kefallinia",
          "Kos",
          "Corfu",
          "Mikonos",
          "Aktion",
          "Rodos",
          "Khania - Souda",
          "Skiathos",
          "Santorini",
          "Thessaloniki",
          "Zakinthos",
          "Budapest - Ferihegy",
          "Cork",
          "Donegal",
          "Dublin",
          "Connaught",
          "Kerry - Farranfore",
          "Shannon",
          "Weston",
          "Tel Aviv - Ben Gurion International",
          "Brindisi",
          "Catania",
          "Palermo Falcone-Borsellino",
          "Milan - Malpensa",
          "Bergamo",
          "Torino Caselle",
          "Milan - Linate",
          "Bologna",
          "Treviso",
          "Venice",
          "Rome - Ciampino",
          "Rome - Fiumicino",
          "Naples",
          "Pisa San Giusto",
          "Liepaja",
          "Riga",
          "Kaunas",
          "Palanga",
          "Siauliai",
          "Vilnius",
          "Luxembourg",
          "Malta",
          "Chișinău",
          "Podgorica",
          "Al Massira",
          "Saïss",
          "Rabat-Salé",
          "Mohammed V International",
          "Menara",
          "Ibn Batouta",
          "Amsterdam - Schiphol",
          "Maastricht-Aachen",
          "Groningen",
          "Lelystad",
          "Rotterdam",
          "Alesund",
          "Andenes",
          "Alta",
          "Forde Bringeland",
          "Bronnoysund Bronnoy",
          "Bodø",
          "Bergen",
          "Batsfjord",
          "Berlevåg",
          "Kristiansand Kjevik",
          "Bardufoss",
          "Harstad - Narvik Evenes",
          "Florø",
          "Oslo - Gardermoen",
          "Haugesund",
          "Hammerfest",
          "Honningsvåg Valan",
          "Kristiansund Kvernberget",
          "Kirkenes Høybuktmoen",
          "Leknes",
          "Mehamn",
          "Molde Årø",
          "Mosjøen Kjærstad",
          "Lakselv Banak",
          "Namsos Høknesøra",
          "Orsta¿Volda Hovden",
          "Mo i Rana Røssvoll",
          "Rorvik Ryum",
          "Roros",
          "Rost",
          "Svalbard Longyear",
          "Sandane  Anda",
          "Sogndal Haukåsen",
          "Svolvær Helle",
          "Stokmarknes Skagen",
          "Sorkjosen",
          "Vardø Svartnes",
          "Sandnessjøen Stokka",
          "Tromsø",
          "Trondheim",
          "Vadsø",
          "Værøy",
          "Stavanger",
          "Bydgoszcz",
          "Gdansk",
          "Krakow - Balice",
          "Katowice - Pyrzowice",
          "Lublin",
          "Lodz - Lublinek",
          "Warszawa - Modlin",
          "Poznan - Lawica",
          "Rzeszow - Jasionka",
          "Szczecin - Goleniów",
          "Warszawa - Chopina",
          "Wroclaw - Strachowice",
          "Zielona Gora - Babimost",
          "Santa Maria",
          "Cascais",
          "Flores",
          "Faro",
          "Horta",
          "Madeira",
          "Montijo",
          "Ponta Delgada",
          "Porto",
          "Porto Santo",
          "Lisbon",
          "Skopje",
          "Bucharest - Băneasa",
          "Bucharest - Otopeni",
          "Belgrade - Nikola Tesla",
          "Bratislava",
          "Ljubljana",
          "Maribor",
          "Portorož",
          "Fuerteventura",
          "La Gomera",
          "Hierro",
          "La Palma",
          "Gran Canaria",
          "Lanzarote",
          "Tenerife Sur - Reina Sofia",
          "Tenerife North",
          "Melilla",
          "Albacete",
          "Alicante",
          "Almeria",
          "Asturias",
          "Cordoba",
          "Bilbao",
          "Burgos",
          "Barcelona",
          "Badajoz",
          "La Coruna",
          "Madrid - Cuatro Viento",
          "Lleida - Alguaire",
          "Gerona",
          "Granada",
          "Madrid - Getafe",
          "Ibiza",
          "Abad",
          "Jerez De La Frontera",
          "Sabadell",
          "Leon",
          "Madrid - Barajas",
          "Málaga",
          "Mahon",
          "Región de Murcia International Airport",
          "Seville - Moron",
          "Palma de Mallorca",
          "Noain Pamplona",
          "Valencia - Requena",
          "Ciudad Real Central",
          "Reus",
          "Rota",
          "Salamanca Matalan",
          "Son Bonet",
          "San Sebastian",
          "Santiago",
          "Madrid - Torrejon",
          "Valencia",
          "Valladolid",
          "Vitoria",
          "Vigo",
          "Santander",
          "Zaragoza",
          "Sevilla",
          "Göteborg",
          "Stockholm - Arlanda",
          "Stockholm - Bromma",
          "Geneva",
          "Sion",
          "Zürich",
          "Ankara - Esenboğa",
          "Antalya",
          "Istanbul Atatürk",
          "Izmir - Adnan Menderes",
          "Istanbul Sabiha Gökçen",
          "iGA Istanbul Airport",
          "Kiev - Boryspil",
          "Belfast - Aldergrove",
          "Belfast - City Airport",
          "Londonderry - Eglinton",
          "Birmingham",
          "Manchester",
          "Bristol",
          "London - Luton",
          "Southampton",
          "Biggin Hill",
          "London - Gatwick",
          "London - City",
          "Farnborough",
          "London - Heathrow",
          "Newcastle",
          "East Midlands",
          "Aberdeen",
          "Glasgow",
          "Edinburgh",
          "London - Stansted",
          "Tirana",
          "Yerevan",
          "Graz",
          "Innsbruck",
          "Klagenfurt",
          "Linz",
          "Salzburg",
          "Vienna",
          "Antwerp",
          "Brussels",
          "Charleroi",
          "Liège",
          "Ostend-Bruges",
          "Sarajevo",
          "Sofia",
          "Zagreb",
          "Larnaca",
          "Paphos",
          "Karlovy Vary",
          "Ostrava",
          "Prague",
          "Brno-Tuřany",
          "Copenhagen - Kastrup",
          "Tallinn",
          "Helsinki - Vantaa",
          "Albert-Bray",
          "Agen-La Garenne",
          "Bordeaux-Mérignac",
          "Bergerac-Roumanière",
          "La Rochelle-Ile de Ré",
          "Poitiers-Biard",
          "Limoges-Bellegarde",
          "Toulouse-Blagnac",
          "Pau-Pyrénées",
          "Tarbes-Lourdes Pyrénées",
          "Biarritz-Bayonne-Anglet",
          "Rodez-Marcillac",
          "Dôle-Tavaux",
          "Metz-Nancy-Lorraine",
          "Angers-Marcé",
          "Bastia-Poretta",
          "Calvi-Sainte-Catherine",
          "Figari-Sud Corse",
          "Ajaccio-Napoléon-Bonaparte",
          "Chambéry-Aix-les-Bains",
          "Clermont-Ferrand-Auvergne",
          "Annemasse",
          "Lyon-Saint-Exupéry",
          "Annecy-Meythet",
          "Grenoble-Isère",
          "Châteauroux-Déols",
          "Lyon-Bron",
          "Cannes-Mandelieu",
          "Saint-Etienne-Bouthéon",
          "Istres-Le Tubé",
          "Carcassonne-Salvaza",
          "Marseille-Provence",
          "Nice-Côte d’Azur",
          "Perpignan-Rivesaltes",
          "Montpellier-Méditerranée",
          "Béziers-Vias",
          "Avignon-Caumont",
          "Beauvais-Tillé",
          "Le Havre-Octeville",
          "Châlons-Vatry",
          "Rouen",
          "Tours-Val de Loire",
          "Paris-Le Bourget",
          "Paris-Charles-de-Gaulle",
          "Toussus-le-Noble",
          "Paris-Orly",
          "Lille-Lesquin",
          "Brest-Bretagne",
          "Deauville-Normandie",
          "Lorient-Lann Bihoué",
          "Caen-Carpiquet",
          "Le Mans",
          "Rennes-Saint-Jacques",
          "Lannion",
          "Quimper-Pluguffan",
          "Nantes-Atlantique",
          "Saint-Nazaire-Montoir",
          "Bâle-Mulhouse",
          "Brive-Souillac",
          "Strasbourg-Entzheim",
          "Hyères-Le Palyvestre",
          "Nîmes-Garons",
          "Tbilisi",
          "Berlin - Brandenburg",
          "Dresden",
          "Erfurt",
          "Frankfurt",
          "Muenster-Osnabrueck",
          "Hamburg",
          "Cologne-Bonn",
          "Dusseldorf",
          "Munich",
          "Nuremberg",
          "Leipzig-Halle",
          "Saarbruecken",
          "Stuttgart",
          "Hanover",
          "Bremen",
          "Athens",
          "Heraklion",
          "Kefallinia",
          "Kos",
          "Corfu",
          "Mikonos",
          "Aktion",
          "Rodos",
          "Khania - Souda",
          "Skiathos",
          "Santorini",
          "Thessaloniki",
          "Zakinthos",
          "Budapest - Ferihegy",
          "Cork",
          "Donegal",
          "Dublin",
          "Connaught",
          "Kerry - Farranfore",
          "Shannon",
          "Weston",
          "Tel Aviv - Ben Gurion International",
          "Brindisi",
          "Catania",
          "Palermo Falcone-Borsellino",
          "Milan - Malpensa",
          "Bergamo",
          "Torino Caselle",
          "Milan - Linate",
          "Bologna",
          "Treviso",
          "Venice",
          "Rome - Ciampino",
          "Rome - Fiumicino",
          "Naples",
          "Pisa San Giusto",
          "Liepaja",
          "Riga",
          "Kaunas",
          "Palanga",
          "Siauliai",
          "Vilnius",
          "Luxembourg",
          "Malta",
          "Chișinău",
          "Podgorica",
          "Al Massira",
          "Saïss",
          "Rabat-Salé",
          "Mohammed V International",
          "Menara",
          "Ibn Batouta",
          "Amsterdam - Schiphol",
          "Maastricht-Aachen",
          "Groningen",
          "Lelystad",
          "Rotterdam",
          "Alesund",
          "Andenes",
          "Alta",
          "Forde Bringeland",
          "Bronnoysund Bronnoy",
          "Bodø",
          "Bergen",
          "Batsfjord",
          "Berlevåg",
          "Kristiansand Kjevik",
          "Bardufoss",
          "Harstad - Narvik Evenes",
          "Florø",
          "Oslo - Gardermoen",
          "Haugesund",
          "Hammerfest",
          "Honningsvåg Valan",
          "Kristiansund Kvernberget",
          "Kirkenes Høybuktmoen",
          "Leknes",
          "Mehamn",
          "Molde Årø",
          "Mosjøen Kjærstad",
          "Lakselv Banak",
          "Namsos Høknesøra",
          "Orsta¿Volda Hovden",
          "Mo i Rana Røssvoll",
          "Rorvik Ryum",
          "Roros",
          "Rost",
          "Svalbard Longyear",
          "Sandane  Anda",
          "Sogndal Haukåsen",
          "Svolvær Helle",
          "Stokmarknes Skagen",
          "Sorkjosen",
          "Vardø Svartnes",
          "Sandnessjøen Stokka",
          "Tromsø",
          "Trondheim",
          "Vadsø",
          "Værøy",
          "Stavanger",
          "Bydgoszcz",
          "Gdansk",
          "Krakow - Balice",
          "Katowice - Pyrzowice",
          "Lublin",
          "Lodz - Lublinek",
          "Warszawa - Modlin",
          "Poznan - Lawica",
          "Rzeszow - Jasionka",
          "Szczecin - Goleniów",
          "Warszawa - Chopina",
          "Wroclaw - Strachowice",
          "Zielona Gora - Babimost",
          "Santa Maria",
          "Cascais",
          "Flores",
          "Faro",
          "Horta",
          "Madeira",
          "Montijo",
          "Ponta Delgada",
          "Porto",
          "Porto Santo",
          "Lisbon",
          "Skopje",
          "Bucharest - Băneasa",
          "Bucharest - Otopeni",
          "Belgrade - Nikola Tesla",
          "Bratislava",
          "Ljubljana",
          "Maribor",
          "Portorož",
          "Fuerteventura",
          "La Gomera",
          "Hierro",
          "La Palma",
          "Gran Canaria",
          "Lanzarote",
          "Tenerife Sur - Reina Sofia",
          "Tenerife North",
          "Melilla",
          "Albacete",
          "Alicante",
          "Almeria",
          "Asturias",
          "Cordoba",
          "Bilbao",
          "Burgos",
          "Barcelona",
          "Badajoz",
          "La Coruna",
          "Madrid - Cuatro Viento",
          "Lleida - Alguaire",
          "Gerona",
          "Granada",
          "Madrid - Getafe",
          "Ibiza",
          "Abad",
          "Jerez De La Frontera",
          "Sabadell",
          "Leon",
          "Madrid - Barajas",
          "Málaga",
          "Mahon",
          "Región de Murcia International Airport",
          "Seville - Moron",
          "Palma de Mallorca",
          "Noain Pamplona",
          "Valencia - Requena",
          "Ciudad Real Central",
          "Reus",
          "Rota",
          "Salamanca Matalan",
          "Son Bonet",
          "San Sebastian",
          "Santiago",
          "Madrid - Torrejon",
          "Valencia",
          "Valladolid",
          "Vitoria",
          "Vigo",
          "Santander",
          "Zaragoza",
          "Sevilla",
          "Göteborg",
          "Stockholm - Arlanda",
          "Stockholm - Bromma",
          "Geneva",
          "Sion",
          "Zürich",
          "Ankara - Esenboğa",
          "Antalya",
          "Istanbul Atatürk",
          "Izmir - Adnan Menderes",
          "Istanbul Sabiha Gökçen",
          "iGA Istanbul Airport",
          "Kiev - Boryspil",
          "Belfast - Aldergrove",
          "Belfast - City Airport",
          "Londonderry - Eglinton",
          "Birmingham",
          "Manchester",
          "Bristol",
          "London - Luton",
          "Southampton",
          "Biggin Hill",
          "London - Gatwick",
          "London - City",
          "Farnborough",
          "London - Heathrow",
          "Newcastle",
          "East Midlands",
          "Aberdeen",
          "Glasgow",
          "Edinburgh",
          "London - Stansted",
          "Tirana",
          "Yerevan",
          "Graz",
          "Innsbruck",
          "Klagenfurt",
          "Linz",
          "Salzburg",
          "Vienna",
          "Antwerp",
          "Brussels",
          "Charleroi",
          "Liège",
          "Ostend-Bruges",
          "Sarajevo",
          "Sofia",
          "Zagreb",
          "Larnaca",
          "Paphos",
          "Karlovy Vary",
          "Ostrava",
          "Prague",
          "Brno-Tuřany",
          "Copenhagen - Kastrup",
          "Tallinn",
          "Helsinki - Vantaa",
          "Albert-Bray",
          "Agen-La Garenne",
          "Bordeaux-Mérignac",
          "Bergerac-Roumanière",
          "La Rochelle-Ile de Ré",
          "Poitiers-Biard",
          "Limoges-Bellegarde",
          "Toulouse-Blagnac",
          "Pau-Pyrénées",
          "Tarbes-Lourdes Pyrénées",
          "Biarritz-Bayonne-Anglet",
          "Rodez-Marcillac",
          "Dôle-Tavaux",
          "Metz-Nancy-Lorraine",
          "Angers-Marcé",
          "Bastia-Poretta",
          "Calvi-Sainte-Catherine",
          "Figari-Sud Corse",
          "Ajaccio-Napoléon-Bonaparte",
          "Chambéry-Aix-les-Bains",
          "Clermont-Ferrand-Auvergne",
          "Annemasse",
          "Lyon-Saint-Exupéry",
          "Annecy-Meythet",
          "Grenoble-Isère",
          "Châteauroux-Déols",
          "Lyon-Bron",
          "Cannes-Mandelieu",
          "Saint-Etienne-Bouthéon",
          "Istres-Le Tubé",
          "Carcassonne-Salvaza",
          "Marseille-Provence",
          "Nice-Côte d’Azur",
          "Perpignan-Rivesaltes",
          "Montpellier-Méditerranée",
          "Béziers-Vias",
          "Avignon-Caumont",
          "Beauvais-Tillé",
          "Le Havre-Octeville",
          "Châlons-Vatry",
          "Rouen",
          "Tours-Val de Loire",
          "Paris-Le Bourget",
          "Paris-Charles-de-Gaulle",
          "Toussus-le-Noble",
          "Paris-Orly",
          "Lille-Lesquin",
          "Brest-Bretagne",
          "Deauville-Normandie",
          "Lorient-Lann Bihoué",
          "Caen-Carpiquet",
          "Le Mans",
          "Rennes-Saint-Jacques",
          "Lannion",
          "Quimper-Pluguffan",
          "Nantes-Atlantique",
          "Saint-Nazaire-Montoir",
          "Bâle-Mulhouse",
          "Brive-Souillac",
          "Strasbourg-Entzheim",
          "Hyères-Le Palyvestre",
          "Nîmes-Garons",
          "Tbilisi",
          "Berlin - Brandenburg",
          "Dresden",
          "Erfurt",
          "Frankfurt",
          "Muenster-Osnabrueck",
          "Hamburg",
          "Cologne-Bonn",
          "Dusseldorf",
          "Munich",
          "Nuremberg",
          "Leipzig-Halle",
          "Saarbruecken",
          "Stuttgart",
          "Hanover",
          "Bremen",
          "Athens",
          "Heraklion",
          "Kefallinia",
          "Kos",
          "Corfu",
          "Mikonos",
          "Aktion",
          "Rodos",
          "Khania - Souda",
          "Skiathos",
          "Santorini",
          "Thessaloniki",
          "Zakinthos",
          "Budapest - Ferihegy",
          "Cork",
          "Donegal",
          "Dublin",
          "Connaught",
          "Kerry - Farranfore",
          "Shannon",
          "Weston",
          "Tel Aviv - Ben Gurion International",
          "Brindisi",
          "Catania",
          "Palermo Falcone-Borsellino",
          "Milan - Malpensa",
          "Bergamo",
          "Torino Caselle",
          "Milan - Linate",
          "Bologna",
          "Treviso",
          "Venice",
          "Rome - Ciampino",
          "Rome - Fiumicino",
          "Naples",
          "Pisa San Giusto",
          "Liepaja",
          "Riga",
          "Kaunas",
          "Palanga",
          "Siauliai",
          "Vilnius",
          "Luxembourg",
          "Malta",
          "Chișinău",
          "Podgorica",
          "Al Massira",
          "Saïss",
          "Rabat-Salé",
          "Mohammed V International",
          "Menara",
          "Ibn Batouta",
          "Amsterdam - Schiphol",
          "Maastricht-Aachen",
          "Groningen",
          "Lelystad",
          "Rotterdam",
          "Alesund",
          "Andenes",
          "Alta",
          "Forde Bringeland",
          "Bronnoysund Bronnoy",
          "Bodø",
          "Bergen",
          "Batsfjord",
          "Berlevåg",
          "Kristiansand Kjevik",
          "Bardufoss",
          "Harstad - Narvik Evenes",
          "Florø",
          "Oslo - Gardermoen",
          "Haugesund",
          "Hammerfest",
          "Honningsvåg Valan",
          "Kristiansund Kvernberget",
          "Kirkenes Høybuktmoen",
          "Leknes",
          "Mehamn",
          "Molde Årø",
          "Mosjøen Kjærstad",
          "Lakselv Banak",
          "Namsos Høknesøra",
          "Orsta¿Volda Hovden",
          "Mo i Rana Røssvoll",
          "Rorvik Ryum",
          "Roros",
          "Rost",
          "Svalbard Longyear",
          "Sandane  Anda",
          "Sogndal Haukåsen",
          "Svolvær Helle",
          "Stokmarknes Skagen",
          "Sorkjosen",
          "Vardø Svartnes",
          "Sandnessjøen Stokka",
          "Tromsø",
          "Trondheim",
          "Vadsø",
          "Værøy",
          "Stavanger",
          "Bydgoszcz",
          "Gdansk",
          "Krakow - Balice",
          "Katowice - Pyrzowice",
          "Lublin",
          "Lodz - Lublinek",
          "Warszawa - Modlin",
          "Poznan - Lawica",
          "Rzeszow - Jasionka",
          "Szczecin - Goleniów",
          "Warszawa - Chopina",
          "Wroclaw - Strachowice",
          "Zielona Gora - Babimost",
          "Santa Maria",
          "Cascais",
          "Flores",
          "Faro",
          "Horta",
          "Madeira",
          "Montijo",
          "Ponta Delgada",
          "Porto",
          "Porto Santo",
          "Lisbon",
          "Skopje",
          "Bucharest - Băneasa",
          "Bucharest - Otopeni",
          "Belgrade - Nikola Tesla",
          "Bratislava",
          "Ljubljana",
          "Maribor",
          "Portorož",
          "Fuerteventura",
          "La Gomera",
          "Hierro",
          "La Palma",
          "Gran Canaria",
          "Lanzarote",
          "Tenerife Sur - Reina Sofia",
          "Tenerife North",
          "Melilla",
          "Albacete",
          "Alicante",
          "Almeria",
          "Asturias",
          "Cordoba",
          "Bilbao",
          "Burgos",
          "Barcelona",
          "Badajoz",
          "La Coruna",
          "Madrid - Cuatro Viento",
          "Lleida - Alguaire",
          "Gerona",
          "Granada",
          "Madrid - Getafe",
          "Ibiza",
          "Abad",
          "Jerez De La Frontera",
          "Sabadell",
          "Leon",
          "Madrid - Barajas",
          "Málaga",
          "Mahon",
          "Región de Murcia International Airport",
          "Seville - Moron",
          "Palma de Mallorca",
          "Noain Pamplona",
          "Valencia - Requena",
          "Ciudad Real Central",
          "Reus",
          "Rota",
          "Salamanca Matalan",
          "Son Bonet",
          "San Sebastian",
          "Santiago",
          "Madrid - Torrejon",
          "Valencia",
          "Valladolid",
          "Vitoria",
          "Vigo",
          "Santander",
          "Zaragoza",
          "Sevilla",
          "Göteborg",
          "Stockholm - Arlanda",
          "Stockholm - Bromma",
          "Geneva",
          "Sion",
          "Zürich",
          "Ankara - Esenboğa",
          "Antalya",
          "Istanbul Atatürk",
          "Izmir - Adnan Menderes",
          "Istanbul Sabiha Gökçen",
          "iGA Istanbul Airport",
          "Kiev - Boryspil",
          "Belfast - Aldergrove",
          "Belfast - City Airport",
          "Londonderry - Eglinton",
          "Birmingham",
          "Manchester",
          "Bristol",
          "London - Luton",
          "Southampton",
          "Biggin Hill",
          "London - Gatwick",
          "London - City",
          "Farnborough",
          "London - Heathrow",
          "Newcastle",
          "East Midlands",
          "Aberdeen",
          "Glasgow",
          "Edinburgh",
          "London - Stansted"
         ],
         "lat": {
          "bdata": "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",
          "dtype": "f8"
         },
         "legendgroup": "",
         "lon": {
          "bdata": "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",
          "dtype": "f8"
         },
         "marker": {
          "color": {
           "bdata": "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",
           "dtype": "i2"
          },
          "coloraxis": "coloraxis",
          "size": {
           "bdata": "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",
           "dtype": "i2"
          },
          "sizemode": "area",
          "sizeref": 2.29,
          "symbol": "circle"
         },
         "mode": "markers",
         "name": "",
         "showlegend": false,
         "type": "scattergeo"
        }
       ],
       "layout": {
        "coloraxis": {
         "cmax": 1200,
         "cmin": 0,
         "colorbar": {
          "title": {
           "text": "LICZBA LOTÓW"
          }
         },
         "colorscale": [
          [
           0,
           "rgb(0,0,131)"
          ],
          [
           0.2,
           "rgb(0,60,170)"
          ],
          [
           0.4,
           "rgb(5,255,255)"
          ],
          [
           0.6,
           "rgb(255,255,0)"
          ],
          [
           0.8,
           "rgb(250,0,0)"
          ],
          [
           1,
           "rgb(128,0,0)"
          ]
         ]
        },
        "geo": {
         "center": {
          "lat": 50,
          "lon": 10
         },
         "countrycolor": "rgb(100, 100, 100)",
         "domain": {
          "x": [
           0,
           1
          ],
          "y": [
           0,
           1
          ]
         },
         "landcolor": "rgb(217, 217, 217)",
         "lataxis": {
          "range": [
           10,
           60
          ]
         },
         "lonaxis": {
          "range": [
           -30,
           50
          ]
         },
         "oceancolor": "#B7D3E0",
         "projection": {
          "type": "natural earth"
         },
         "showcountries": true,
         "showlakes": false,
         "showland": true,
         "showocean": true
        },
        "height": 1080,
        "legend": {
         "itemsizing": "constant",
         "tracegroupgap": 0
        },
        "template": {
         "data": {
          "bar": [
           {
            "error_x": {
             "color": "#2a3f5f"
            },
            "error_y": {
             "color": "#2a3f5f"
            },
            "marker": {
             "line": {
              "color": "#E5ECF6",
              "width": 0.5
             },
             "pattern": {
              "fillmode": "overlay",
              "size": 10,
              "solidity": 0.2
             }
            },
            "type": "bar"
           }
          ],
          "barpolar": [
           {
            "marker": {
             "line": {
              "color": "#E5ECF6",
              "width": 0.5
             },
             "pattern": {
              "fillmode": "overlay",
              "size": 10,
              "solidity": 0.2
             }
            },
            "type": "barpolar"
           }
          ],
          "carpet": [
           {
            "aaxis": {
             "endlinecolor": "#2a3f5f",
             "gridcolor": "white",
             "linecolor": "white",
             "minorgridcolor": "white",
             "startlinecolor": "#2a3f5f"
            },
            "baxis": {
             "endlinecolor": "#2a3f5f",
             "gridcolor": "white",
             "linecolor": "white",
             "minorgridcolor": "white",
             "startlinecolor": "#2a3f5f"
            },
            "type": "carpet"
           }
          ],
          "choropleth": [
           {
            "colorbar": {
             "outlinewidth": 0,
             "ticks": ""
            },
            "type": "choropleth"
           }
          ],
          "contour": [
           {
            "colorbar": {
             "outlinewidth": 0,
             "ticks": ""
            },
            "colorscale": [
             [
              0,
              "#0d0887"
             ],
             [
              0.1111111111111111,
              "#46039f"
             ],
             [
              0.2222222222222222,
              "#7201a8"
             ],
             [
              0.3333333333333333,
              "#9c179e"
             ],
             [
              0.4444444444444444,
              "#bd3786"
             ],
             [
              0.5555555555555556,
              "#d8576b"
             ],
             [
              0.6666666666666666,
              "#ed7953"
             ],
             [
              0.7777777777777778,
              "#fb9f3a"
             ],
             [
              0.8888888888888888,
              "#fdca26"
             ],
             [
              1,
              "#f0f921"
             ]
            ],
            "type": "contour"
           }
          ],
          "contourcarpet": [
           {
            "colorbar": {
             "outlinewidth": 0,
             "ticks": ""
            },
            "type": "contourcarpet"
           }
          ],
          "heatmap": [
           {
            "colorbar": {
             "outlinewidth": 0,
             "ticks": ""
            },
            "colorscale": [
             [
              0,
              "#0d0887"
             ],
             [
              0.1111111111111111,
              "#46039f"
             ],
             [
              0.2222222222222222,
              "#7201a8"
             ],
             [
              0.3333333333333333,
              "#9c179e"
             ],
             [
              0.4444444444444444,
              "#bd3786"
             ],
             [
              0.5555555555555556,
              "#d8576b"
             ],
             [
              0.6666666666666666,
              "#ed7953"
             ],
             [
              0.7777777777777778,
              "#fb9f3a"
             ],
             [
              0.8888888888888888,
              "#fdca26"
             ],
             [
              1,
              "#f0f921"
             ]
            ],
            "type": "heatmap"
           }
          ],
          "histogram": [
           {
            "marker": {
             "pattern": {
              "fillmode": "overlay",
              "size": 10,
              "solidity": 0.2
             }
            },
            "type": "histogram"
           }
          ],
          "histogram2d": [
           {
            "colorbar": {
             "outlinewidth": 0,
             "ticks": ""
            },
            "colorscale": [
             [
              0,
              "#0d0887"
             ],
             [
              0.1111111111111111,
              "#46039f"
             ],
             [
              0.2222222222222222,
              "#7201a8"
             ],
             [
              0.3333333333333333,
              "#9c179e"
             ],
             [
              0.4444444444444444,
              "#bd3786"
             ],
             [
              0.5555555555555556,
              "#d8576b"
             ],
             [
              0.6666666666666666,
              "#ed7953"
             ],
             [
              0.7777777777777778,
              "#fb9f3a"
             ],
             [
              0.8888888888888888,
              "#fdca26"
             ],
             [
              1,
              "#f0f921"
             ]
            ],
            "type": "histogram2d"
           }
          ],
          "histogram2dcontour": [
           {
            "colorbar": {
             "outlinewidth": 0,
             "ticks": ""
            },
            "colorscale": [
             [
              0,
              "#0d0887"
             ],
             [
              0.1111111111111111,
              "#46039f"
             ],
             [
              0.2222222222222222,
              "#7201a8"
             ],
             [
              0.3333333333333333,
              "#9c179e"
             ],
             [
              0.4444444444444444,
              "#bd3786"
             ],
             [
              0.5555555555555556,
              "#d8576b"
             ],
             [
              0.6666666666666666,
              "#ed7953"
             ],
             [
              0.7777777777777778,
              "#fb9f3a"
             ],
             [
              0.8888888888888888,
              "#fdca26"
             ],
             [
              1,
              "#f0f921"
             ]
            ],
            "type": "histogram2dcontour"
           }
          ],
          "mesh3d": [
           {
            "colorbar": {
             "outlinewidth": 0,
             "ticks": ""
            },
            "type": "mesh3d"
           }
          ],
          "parcoords": [
           {
            "line": {
             "colorbar": {
              "outlinewidth": 0,
              "ticks": ""
             }
            },
            "type": "parcoords"
           }
          ],
          "pie": [
           {
            "automargin": true,
            "type": "pie"
           }
          ],
          "scatter": [
           {
            "fillpattern": {
             "fillmode": "overlay",
             "size": 10,
             "solidity": 0.2
            },
            "type": "scatter"
           }
          ],
          "scatter3d": [
           {
            "line": {
             "colorbar": {
              "outlinewidth": 0,
              "ticks": ""
             }
            },
            "marker": {
             "colorbar": {
              "outlinewidth": 0,
              "ticks": ""
             }
            },
            "type": "scatter3d"
           }
          ],
          "scattercarpet": [
           {
            "marker": {
             "colorbar": {
              "outlinewidth": 0,
              "ticks": ""
             }
            },
            "type": "scattercarpet"
           }
          ],
          "scattergeo": [
           {
            "marker": {
             "colorbar": {
              "outlinewidth": 0,
              "ticks": ""
             }
            },
            "type": "scattergeo"
           }
          ],
          "scattergl": [
           {
            "marker": {
             "colorbar": {
              "outlinewidth": 0,
              "ticks": ""
             }
            },
            "type": "scattergl"
           }
          ],
          "scattermap": [
           {
            "marker": {
             "colorbar": {
              "outlinewidth": 0,
              "ticks": ""
             }
            },
            "type": "scattermap"
           }
          ],
          "scattermapbox": [
           {
            "marker": {
             "colorbar": {
              "outlinewidth": 0,
              "ticks": ""
             }
            },
            "type": "scattermapbox"
           }
          ],
          "scatterpolar": [
           {
            "marker": {
             "colorbar": {
              "outlinewidth": 0,
              "ticks": ""
             }
            },
            "type": "scatterpolar"
           }
          ],
          "scatterpolargl": [
           {
            "marker": {
             "colorbar": {
              "outlinewidth": 0,
              "ticks": ""
             }
            },
            "type": "scatterpolargl"
           }
          ],
          "scatterternary": [
           {
            "marker": {
             "colorbar": {
              "outlinewidth": 0,
              "ticks": ""
             }
            },
            "type": "scatterternary"
           }
          ],
          "surface": [
           {
            "colorbar": {
             "outlinewidth": 0,
             "ticks": ""
            },
            "colorscale": [
             [
              0,
              "#0d0887"
             ],
             [
              0.1111111111111111,
              "#46039f"
             ],
             [
              0.2222222222222222,
              "#7201a8"
             ],
             [
              0.3333333333333333,
              "#9c179e"
             ],
             [
              0.4444444444444444,
              "#bd3786"
             ],
             [
              0.5555555555555556,
              "#d8576b"
             ],
             [
              0.6666666666666666,
              "#ed7953"
             ],
             [
              0.7777777777777778,
              "#fb9f3a"
             ],
             [
              0.8888888888888888,
              "#fdca26"
             ],
             [
              1,
              "#f0f921"
             ]
            ],
            "type": "surface"
           }
          ],
          "table": [
           {
            "cells": {
             "fill": {
              "color": "#EBF0F8"
             },
             "line": {
              "color": "white"
             }
            },
            "header": {
             "fill": {
              "color": "#C8D4E3"
             },
             "line": {
              "color": "white"
             }
            },
            "type": "table"
           }
          ]
         },
         "layout": {
          "annotationdefaults": {
           "arrowcolor": "#2a3f5f",
           "arrowhead": 0,
           "arrowwidth": 1
          },
          "autotypenumbers": "strict",
          "coloraxis": {
           "colorbar": {
            "outlinewidth": 0,
            "ticks": ""
           }
          },
          "colorscale": {
           "diverging": [
            [
             0,
             "#8e0152"
            ],
            [
             0.1,
             "#c51b7d"
            ],
            [
             0.2,
             "#de77ae"
            ],
            [
             0.3,
             "#f1b6da"
            ],
            [
             0.4,
             "#fde0ef"
            ],
            [
             0.5,
             "#f7f7f7"
            ],
            [
             0.6,
             "#e6f5d0"
            ],
            [
             0.7,
             "#b8e186"
            ],
            [
             0.8,
             "#7fbc41"
            ],
            [
             0.9,
             "#4d9221"
            ],
            [
             1,
             "#276419"
            ]
           ],
           "sequential": [
            [
             0,
             "#0d0887"
            ],
            [
             0.1111111111111111,
             "#46039f"
            ],
            [
             0.2222222222222222,
             "#7201a8"
            ],
            [
             0.3333333333333333,
             "#9c179e"
            ],
            [
             0.4444444444444444,
             "#bd3786"
            ],
            [
             0.5555555555555556,
             "#d8576b"
            ],
            [
             0.6666666666666666,
             "#ed7953"
            ],
            [
             0.7777777777777778,
             "#fb9f3a"
            ],
            [
             0.8888888888888888,
             "#fdca26"
            ],
            [
             1,
             "#f0f921"
            ]
           ],
           "sequentialminus": [
            [
             0,
             "#0d0887"
            ],
            [
             0.1111111111111111,
             "#46039f"
            ],
            [
             0.2222222222222222,
             "#7201a8"
            ],
            [
             0.3333333333333333,
             "#9c179e"
            ],
            [
             0.4444444444444444,
             "#bd3786"
            ],
            [
             0.5555555555555556,
             "#d8576b"
            ],
            [
             0.6666666666666666,
             "#ed7953"
            ],
            [
             0.7777777777777778,
             "#fb9f3a"
            ],
            [
             0.8888888888888888,
             "#fdca26"
            ],
            [
             1,
             "#f0f921"
            ]
           ]
          },
          "colorway": [
           "#636efa",
           "#EF553B",
           "#00cc96",
           "#ab63fa",
           "#FFA15A",
           "#19d3f3",
           "#FF6692",
           "#B6E880",
           "#FF97FF",
           "#FECB52"
          ],
          "font": {
           "color": "#2a3f5f"
          },
          "geo": {
           "bgcolor": "white",
           "lakecolor": "white",
           "landcolor": "#E5ECF6",
           "showlakes": true,
           "showland": true,
           "subunitcolor": "white"
          },
          "hoverlabel": {
           "align": "left"
          },
          "hovermode": "closest",
          "mapbox": {
           "style": "light"
          },
          "paper_bgcolor": "white",
          "plot_bgcolor": "#E5ECF6",
          "polar": {
           "angularaxis": {
            "gridcolor": "white",
            "linecolor": "white",
            "ticks": ""
           },
           "bgcolor": "#E5ECF6",
           "radialaxis": {
            "gridcolor": "white",
            "linecolor": "white",
            "ticks": ""
           }
          },
          "scene": {
           "xaxis": {
            "backgroundcolor": "#E5ECF6",
            "gridcolor": "white",
            "gridwidth": 2,
            "linecolor": "white",
            "showbackground": true,
            "ticks": "",
            "zerolinecolor": "white"
           },
           "yaxis": {
            "backgroundcolor": "#E5ECF6",
            "gridcolor": "white",
            "gridwidth": 2,
            "linecolor": "white",
            "showbackground": true,
            "ticks": "",
            "zerolinecolor": "white"
           },
           "zaxis": {
            "backgroundcolor": "#E5ECF6",
            "gridcolor": "white",
            "gridwidth": 2,
            "linecolor": "white",
            "showbackground": true,
            "ticks": "",
            "zerolinecolor": "white"
           }
          },
          "shapedefaults": {
           "line": {
            "color": "#2a3f5f"
           }
          },
          "ternary": {
           "aaxis": {
            "gridcolor": "white",
            "linecolor": "white",
            "ticks": ""
           },
           "baxis": {
            "gridcolor": "white",
            "linecolor": "white",
            "ticks": ""
           },
           "bgcolor": "#E5ECF6",
           "caxis": {
            "gridcolor": "white",
            "linecolor": "white",
            "ticks": ""
           }
          },
          "title": {
           "x": 0.05
          },
          "xaxis": {
           "automargin": true,
           "gridcolor": "white",
           "linecolor": "white",
           "ticks": "",
           "title": {
            "standoff": 15
           },
           "zerolinecolor": "white",
           "zerolinewidth": 2
          },
          "yaxis": {
           "automargin": true,
           "gridcolor": "white",
           "linecolor": "white",
           "ticks": "",
           "title": {
            "standoff": 15
           },
           "zerolinecolor": "white",
           "zerolinewidth": 2
          }
         }
        },
        "title": {
         "text": "RUCH LOTNICZY NA LOTNISKACH W DNIU 23.02.2022 r."
        },
        "width": 1920
       }
      }
     },
     "metadata": {},
     "output_type": "display_data"
    }
   ],
   "source": [
    "airports_location_path = os.path.join(base_dir, 'airports.csv')  # Plik z lokalizacjami lotnisk\n",
    "airports_location_df = pd.read_csv(airports_location_path)\n",
    "\n",
    "# Połączenie danych `airport_traffic` z lokalizacjami na podstawie kodu ICAO\n",
    "merged_df = pd.merge(\n",
    "    airport_traffic_df,\n",
    "    airports_location_df,\n",
    "    left_on='APT_ICAO',\n",
    "    right_on='ident',  # Kolumna z kodem ICAO w danych lokalizacji\n",
    "    how='inner'\n",
    ")\n",
    "\n",
    "selected_date = '2022-02-23'\n",
    "filtered_df = merged_df[merged_df['FLT_DATE'] == selected_date].copy()\n",
    "\n",
    "filtered_df['FLT_TOT_1'] = pd.to_numeric(filtered_df['FLT_TOT_1'], errors='coerce')\n",
    "filtered_df = filtered_df.dropna(subset=['FLT_TOT_1'])\n",
    "\n",
    "selected_date_eu = pd.to_datetime(selected_date).strftime('%d.%m.%Y')\n",
    "\n",
    "# Tworzenie wykresu mapy z bańkami\n",
    "fig = px.scatter_geo(\n",
    "    filtered_df,\n",
    "    lat='latitude_deg', \n",
    "    lon='longitude_deg', \n",
    "    size='FLT_TOT_1',\n",
    "    color='FLT_TOT_1',  # Kolor bańki na podstawie liczby lotów\n",
    "    color_continuous_scale=px.colors.sequential.Bluered,\n",
    "    range_color=[0, 1200],\n",
    "    hover_name='APT_NAME',  # Nazwa lotniska w tooltipie\n",
    "    hover_data={'FLT_TOT_1': True, 'STATE_NAME': True},\n",
    "    #text='APT_NAME',\n",
    "    title=f\"RUCH LOTNICZY NA LOTNISKACH W DNIU {selected_date_eu} r.\",\n",
    "    projection=\"natural earth\",\n",
    "    labels={'FLT_TOT_1': 'LICZBA LOTÓW', 'STATE_NAME': 'KRAJ', 'latitude_deg': 'SZER. GEOGRAFICZNA', 'longitude_deg': 'DŁ. GEOGRAFICZNA', 'APT_NAME': 'NAZWA LOTNISKA'},\n",
    "    #scope='europe'  # Zakres mapy na Europę\n",
    ")\n",
    "\n",
    "#fig.update_traces(textposition='top center')\n",
    "\n",
    "# Dostosowanie wyglądu mapy\n",
    "fig.update_layout(\n",
    "    geo=dict(\n",
    "        showland=True,\n",
    "        landcolor=\"rgb(217, 217, 217)\",\n",
    "        showcountries=True,\n",
    "        showocean=True,\n",
    "        showlakes=False,\n",
    "        oceancolor=\"#B7D3E0\",\n",
    "        countrycolor=\"rgb(100, 100, 100)\",\n",
    "        center=dict(lat=50, lon=10),\n",
    "        lataxis=dict(range=[10, 60]),\n",
    "        lonaxis=dict(range=[-30, 50]),\n",
    "    ),\n",
    "    width=1920,   # szerokość w pikselach\n",
    "    height=1080\n",
    ")\n",
    "\n",
    "# Wyświetlenie wykresu\n",
    "fig.write_html(selected_date+\".html\")#renderer=\"browser\")\n",
    "fig.show()  # Zapisanie wykresu jako plik PNG"
   ]
  }
 ],
 "metadata": {
  "kernelspec": {
   "display_name": "graphics",
   "language": "python",
   "name": "python3"
  },
  "language_info": {
   "codemirror_mode": {
    "name": "ipython",
    "version": 3
   },
   "file_extension": ".py",
   "mimetype": "text/x-python",
   "name": "python",
   "nbconvert_exporter": "python",
   "pygments_lexer": "ipython3",
   "version": "3.13.2"
  }
 },
 "nbformat": 4,
 "nbformat_minor": 5
}
