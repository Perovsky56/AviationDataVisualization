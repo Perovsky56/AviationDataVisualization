{
 "cells": [
  {
   "cell_type": "code",
   "execution_count": 3,
   "id": "a78cc995",
   "metadata": {},
   "outputs": [
    {
     "name": "stdout",
     "output_type": "stream",
     "text": [
      "Scalono 11 plików do c:\\Users\\pawci\\Documents\\GitHub\\AviationDataVisualization\\data\\aftm_slot_adherence\\aftm_slot_adherence.csv\n",
      "Scalono 11 plików do c:\\Users\\pawci\\Documents\\GitHub\\AviationDataVisualization\\data\\airport_traffic\\airport_traffic.csv\n",
      "Scalono 7 plików do c:\\Users\\pawci\\Documents\\GitHub\\AviationDataVisualization\\data\\all_pre_departure_delays\\all_pre_departure_delays.csv\n",
      "Scalono 8 plików do c:\\Users\\pawci\\Documents\\GitHub\\AviationDataVisualization\\data\\asma_additional_time\\asma_additional_time.csv\n",
      "Scalono 11 plików do c:\\Users\\pawci\\Documents\\GitHub\\AviationDataVisualization\\data\\atc_pre_departure_delays\\atc_pre_departure_delays.csv\n",
      "Błąd wczytywania c:\\Users\\pawci\\Documents\\GitHub\\AviationDataVisualization\\data\\co2_emmissions_by_state\\co2_emmissions_by_state_2025.csv: 'utf-8' codec can't decode byte 0xdc in position 761: invalid continuation byte\n",
      "Scalono 16 plików do c:\\Users\\pawci\\Documents\\GitHub\\AviationDataVisualization\\data\\co2_emmissions_by_state\\co2_emmissions_by_state.csv\n",
      "Scalono 12 plików do c:\\Users\\pawci\\Documents\\GitHub\\AviationDataVisualization\\data\\horizontal_flight_efficiency\\horizontal_flight_efficiency.csv\n",
      "Scalono 8 plików do c:\\Users\\pawci\\Documents\\GitHub\\AviationDataVisualization\\data\\taxi_in_additional_time\\taxi_in_additional_time.csv\n",
      "Scalono 8 plików do c:\\Users\\pawci\\Documents\\GitHub\\AviationDataVisualization\\data\\taxi_out_additional_time\\taxi_out_additional_time.csv\n",
      "Scalono 12 plików do c:\\Users\\pawci\\Documents\\GitHub\\AviationDataVisualization\\data\\vertical_flight_efficiency\\vertical_flight_efficiency.csv\n"
     ]
    }
   ],
   "source": [
    "import os\n",
    "import pandas as pd\n",
    "\n",
    "base_dir = os.getcwd()\n",
    "\n",
    "for folder in os.listdir(base_dir):\n",
    "    folder_path = os.path.join(base_dir, folder)\n",
    "    if os.path.isdir(folder_path):\n",
    "        csv_files = [f for f in os.listdir(folder_path) if f.endswith('.csv')]\n",
    "        if not csv_files:\n",
    "            continue\n",
    "        dfs = []\n",
    "        for csv_file in csv_files:\n",
    "            file_path = os.path.join(folder_path, csv_file)\n",
    "            try:\n",
    "                df = pd.read_csv(file_path, header=None, dtype=str, engine='python')\n",
    "                dfs.append(df)\n",
    "            except Exception as e:\n",
    "                print(f\"Błąd wczytywania {file_path}: {e}\")\n",
    "        if dfs:\n",
    "            concat_df = pd.concat(dfs, ignore_index=True)\n",
    "            output_path = os.path.join(folder_path, f\"{folder}.csv\")\n",
    "            concat_df.to_csv(output_path, index=False, header=False)\n",
    "            print(f\"Scalono {len(dfs)} plików do {output_path}\")"
   ]
  }
 ],
 "metadata": {
  "kernelspec": {
   "display_name": "NLP_lab",
   "language": "python",
   "name": "python3"
  },
  "language_info": {
   "codemirror_mode": {
    "name": "ipython",
    "version": 3
   },
   "file_extension": ".py",
   "mimetype": "text/x-python",
   "name": "python",
   "nbconvert_exporter": "python",
   "pygments_lexer": "ipython3",
   "version": "3.12.9"
  }
 },
 "nbformat": 4,
 "nbformat_minor": 5
}
